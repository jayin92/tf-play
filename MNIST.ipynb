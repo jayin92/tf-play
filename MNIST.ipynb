{
 "cells": [
  {
   "cell_type": "code",
   "execution_count": 1,
   "metadata": {
    "collapsed": true
   },
   "outputs": [],
   "source": [
    "# Download helper from google tutorial\n",
    "from __future__ import print_function\n",
    "import gzip\n",
    "import os\n",
    "import urllib\n",
    "\n",
    "import numpy\n",
    "\n",
    "SOURCE_URL = 'http://yann.lecun.com/exdb/mnist/'\n",
    "\n",
    "\n",
    "def maybe_download(filename, work_directory):\n",
    "  \"\"\"Download the data from Yann's website, unless it's already here.\"\"\"\n",
    "  if not os.path.exists(work_directory):\n",
    "    os.mkdir(work_directory)\n",
    "  filepath = os.path.join(work_directory, filename)\n",
    "  if not os.path.exists(filepath):\n",
    "    filepath, _ = urllib.urlretrieve(SOURCE_URL + filename, filepath)\n",
    "    statinfo = os.stat(filepath)\n",
    "    print('Succesfully downloaded', filename, statinfo.st_size, 'bytes.')\n",
    "  return filepath\n",
    "\n",
    "\n",
    "def _read32(bytestream):\n",
    "  dt = numpy.dtype(numpy.uint32).newbyteorder('>')\n",
    "  return numpy.frombuffer(bytestream.read(4), dtype=dt)\n",
    "\n",
    "\n",
    "def extract_images(filename):\n",
    "  \"\"\"Extract the images into a 4D uint8 numpy array [index, y, x, depth].\"\"\"\n",
    "  print('Extracting', filename)\n",
    "  with gzip.open(filename) as bytestream:\n",
    "    magic = _read32(bytestream)\n",
    "    if magic != 2051:\n",
    "      raise ValueError(\n",
    "          'Invalid magic number %d in MNIST image file: %s' %\n",
    "          (magic, filename))\n",
    "    num_images = _read32(bytestream)\n",
    "    rows = _read32(bytestream)\n",
    "    cols = _read32(bytestream)\n",
    "    buf = bytestream.read(rows * cols * num_images)\n",
    "    data = numpy.frombuffer(buf, dtype=numpy.uint8)\n",
    "    data = data.reshape(num_images, rows, cols, 1)\n",
    "    return data\n",
    "\n",
    "\n",
    "def dense_to_one_hot(labels_dense, num_classes=10):\n",
    "  \"\"\"Convert class labels from scalars to one-hot vectors.\"\"\"\n",
    "  num_labels = labels_dense.shape[0]\n",
    "  index_offset = numpy.arange(num_labels) * num_classes\n",
    "  labels_one_hot = numpy.zeros((num_labels, num_classes))\n",
    "  labels_one_hot.flat[index_offset + labels_dense.ravel()] = 1\n",
    "  return labels_one_hot\n",
    "\n",
    "\n",
    "def extract_labels(filename, one_hot=False):\n",
    "  \"\"\"Extract the labels into a 1D uint8 numpy array [index].\"\"\"\n",
    "  print('Extracting', filename)\n",
    "  with gzip.open(filename) as bytestream:\n",
    "    magic = _read32(bytestream)\n",
    "    if magic != 2049:\n",
    "      raise ValueError(\n",
    "          'Invalid magic number %d in MNIST label file: %s' %\n",
    "          (magic, filename))\n",
    "    num_items = _read32(bytestream)\n",
    "    buf = bytestream.read(num_items)\n",
    "    labels = numpy.frombuffer(buf, dtype=numpy.uint8)\n",
    "    if one_hot:\n",
    "      return dense_to_one_hot(labels)\n",
    "    return labels\n",
    "\n",
    "\n",
    "class DataSet(object):\n",
    "\n",
    "  def __init__(self, images, labels, fake_data=False):\n",
    "    if fake_data:\n",
    "      self._num_examples = 10000\n",
    "    else:\n",
    "      assert images.shape[0] == labels.shape[0], (\n",
    "          \"images.shape: %s labels.shape: %s\" % (images.shape,\n",
    "                                                 labels.shape))\n",
    "      self._num_examples = images.shape[0]\n",
    "\n",
    "      # Convert shape from [num examples, rows, columns, depth]\n",
    "      # to [num examples, rows*columns] (assuming depth == 1)\n",
    "      assert images.shape[3] == 1\n",
    "      images = images.reshape(images.shape[0],\n",
    "                              images.shape[1] * images.shape[2])\n",
    "      # Convert from [0, 255] -> [0.0, 1.0].\n",
    "      images = images.astype(numpy.float32)\n",
    "      images = numpy.multiply(images, 1.0 / 255.0)\n",
    "    self._images = images\n",
    "    self._labels = labels\n",
    "    self._epochs_completed = 0\n",
    "    self._index_in_epoch = 0\n",
    "\n",
    "  @property\n",
    "  def images(self):\n",
    "    return self._images\n",
    "\n",
    "  @property\n",
    "  def labels(self):\n",
    "    return self._labels\n",
    "\n",
    "  @property\n",
    "  def num_examples(self):\n",
    "    return self._num_examples\n",
    "\n",
    "  @property\n",
    "  def epochs_completed(self):\n",
    "    return self._epochs_completed\n",
    "\n",
    "  def next_batch(self, batch_size, fake_data=False):\n",
    "    \"\"\"Return the next `batch_size` examples from this data set.\"\"\"\n",
    "    if fake_data:\n",
    "      fake_image = [1.0 for _ in xrange(784)]\n",
    "      fake_label = 0\n",
    "      return [fake_image for _ in xrange(batch_size)], [\n",
    "          fake_label for _ in xrange(batch_size)]\n",
    "    start = self._index_in_epoch\n",
    "    self._index_in_epoch += batch_size\n",
    "    if self._index_in_epoch > self._num_examples:\n",
    "      # Finished epoch\n",
    "      self._epochs_completed += 1\n",
    "      # Shuffle the data\n",
    "      perm = numpy.arange(self._num_examples)\n",
    "      numpy.random.shuffle(perm)\n",
    "      self._images = self._images[perm]\n",
    "      self._labels = self._labels[perm]\n",
    "      # Start next epoch\n",
    "      start = 0\n",
    "      self._index_in_epoch = batch_size\n",
    "      assert batch_size <= self._num_examples\n",
    "    end = self._index_in_epoch\n",
    "    return self._images[start:end], self._labels[start:end]\n",
    "\n",
    "\n",
    "def read_data_sets(train_dir, fake_data=False, one_hot=False):\n",
    "  class DataSets(object):\n",
    "    pass\n",
    "  data_sets = DataSets()\n",
    "\n",
    "  if fake_data:\n",
    "    data_sets.train = DataSet([], [], fake_data=True)\n",
    "    data_sets.validation = DataSet([], [], fake_data=True)\n",
    "    data_sets.test = DataSet([], [], fake_data=True)\n",
    "    return data_sets\n",
    "\n",
    "  TRAIN_IMAGES = 'train-images-idx3-ubyte.gz'\n",
    "  TRAIN_LABELS = 'train-labels-idx1-ubyte.gz'\n",
    "  TEST_IMAGES = 't10k-images-idx3-ubyte.gz'\n",
    "  TEST_LABELS = 't10k-labels-idx1-ubyte.gz'\n",
    "  VALIDATION_SIZE = 5000\n",
    "\n",
    "  local_file = maybe_download(TRAIN_IMAGES, train_dir)\n",
    "  train_images = extract_images(local_file)\n",
    "\n",
    "  local_file = maybe_download(TRAIN_LABELS, train_dir)\n",
    "  train_labels = extract_labels(local_file, one_hot=one_hot)\n",
    "\n",
    "  local_file = maybe_download(TEST_IMAGES, train_dir)\n",
    "  test_images = extract_images(local_file)\n",
    "\n",
    "  local_file = maybe_download(TEST_LABELS, train_dir)\n",
    "  test_labels = extract_labels(local_file, one_hot=one_hot)\n",
    "\n",
    "  validation_images = train_images[:VALIDATION_SIZE]\n",
    "  validation_labels = train_labels[:VALIDATION_SIZE]\n",
    "  train_images = train_images[VALIDATION_SIZE:]\n",
    "  train_labels = train_labels[VALIDATION_SIZE:]\n",
    "\n",
    "  data_sets.train = DataSet(train_images, train_labels)\n",
    "  data_sets.validation = DataSet(validation_images, validation_labels)\n",
    "  data_sets.test = DataSet(test_images, test_labels)\n",
    "\n",
    "  return data_sets"
   ]
  },
  {
   "cell_type": "code",
   "execution_count": 2,
   "metadata": {
    "collapsed": false,
    "scrolled": true
   },
   "outputs": [
    {
     "name": "stdout",
     "output_type": "stream",
     "text": [
      "Extracting MNIST_data/train-images-idx3-ubyte.gz\n",
      "Extracting MNIST_data/train-labels-idx1-ubyte.gz\n",
      "Extracting MNIST_data/t10k-images-idx3-ubyte.gz\n",
      "Extracting MNIST_data/t10k-labels-idx1-ubyte.gz\n"
     ]
    },
    {
     "name": "stderr",
     "output_type": "stream",
     "text": [
      "/usr/local/lib/python2.7/dist-packages/ipykernel/__main__.py:43: DeprecationWarning: converting an array with ndim > 0 to an index will result in an error in the future\n"
     ]
    }
   ],
   "source": [
    "mnist = read_data_sets(\"MNIST_data/\", one_hot=True)"
   ]
  },
  {
   "cell_type": "code",
   "execution_count": 3,
   "metadata": {
    "collapsed": false
   },
   "outputs": [
    {
     "data": {
      "text/plain": [
       "array([[ 0.,  0.,  0., ...,  0.,  0.,  0.],\n",
       "       [ 0.,  0.,  0., ...,  0.,  0.,  0.],\n",
       "       [ 0.,  0.,  0., ...,  0.,  0.,  0.],\n",
       "       ..., \n",
       "       [ 0.,  0.,  0., ...,  0.,  0.,  0.],\n",
       "       [ 0.,  0.,  0., ...,  0.,  0.,  0.],\n",
       "       [ 0.,  0.,  0., ...,  0.,  0.,  0.]], dtype=float32)"
      ]
     },
     "execution_count": 3,
     "metadata": {},
     "output_type": "execute_result"
    }
   ],
   "source": [
    "mnist.test.images"
   ]
  },
  {
   "cell_type": "code",
   "execution_count": 4,
   "metadata": {
    "collapsed": false
   },
   "outputs": [
    {
     "data": {
      "text/plain": [
       "(10000, 784)"
      ]
     },
     "execution_count": 4,
     "metadata": {},
     "output_type": "execute_result"
    }
   ],
   "source": [
    "mnist.test.images.shape"
   ]
  },
  {
   "cell_type": "code",
   "execution_count": 5,
   "metadata": {
    "collapsed": false
   },
   "outputs": [
    {
     "data": {
      "text/plain": [
       "<matplotlib.image.AxesImage at 0x7fc9cf3ef190>"
      ]
     },
     "execution_count": 5,
     "metadata": {},
     "output_type": "execute_result"
    },
    {
     "data": {
      "image/png": "[encoded data removed]",
      "text/plain": [
       "<matplotlib.figure.Figure at 0x7fc9cf4a7a10>"
      ]
     },
     "metadata": {},
     "output_type": "display_data"
    }
   ],
   "source": [
    "import matplotlib.pyplot as plt\n",
    "%matplotlib inline\n",
    "plt.imshow(mnist.test.images[0].reshape([28,28]), cmap='gray')"
   ]
  },
  {
   "cell_type": "code",
   "execution_count": 6,
   "metadata": {
    "collapsed": false
   },
   "outputs": [
    {
     "name": "stdout",
     "output_type": "stream",
     "text": [
      "55000\n",
      "[ 0.  0.  0.  0.  0.  0.  0.  1.  0.  0.]\n"
     ]
    },
    {
     "data": {
      "image/png": "[encoded data removed]",
      "text/plain": [
       "<IPython.core.display.Image object>"
      ]
     },
     "metadata": {
      "image/png": {
       "width": 200
      }
     },
     "output_type": "display_data"
    },
    {
     "name": "stdout",
     "output_type": "stream",
     "text": [
      "[ 0.  0.  0.  1.  0.  0.  0.  0.  0.  0.]\n"
     ]
    },
    {
     "data": {
      "image/png": "[encoded data removed]",
      "text/plain": [
       "<IPython.core.display.Image object>"
      ]
     },
     "metadata": {
      "image/png": {
       "width": 200
      }
     },
     "output_type": "display_data"
    },
    {
     "name": "stdout",
     "output_type": "stream",
     "text": [
      "[ 0.  0.  0.  0.  1.  0.  0.  0.  0.  0.]\n"
     ]
    },
    {
     "data": {
      "image/png": "[encoded data removed]",
      "text/plain": [
       "<IPython.core.display.Image object>"
      ]
     },
     "metadata": {
      "image/png": {
       "width": 200
      }
     },
     "output_type": "display_data"
    },
    {
     "name": "stdout",
     "output_type": "stream",
     "text": [
      "[ 0.  0.  0.  0.  0.  0.  1.  0.  0.  0.]\n"
     ]
    },
    {
     "data": {
      "image/png": "[encoded data removed]",
      "text/plain": [
       "<IPython.core.display.Image object>"
      ]
     },
     "metadata": {
      "image/png": {
       "width": 200
      }
     },
     "output_type": "display_data"
    },
    {
     "name": "stdout",
     "output_type": "stream",
     "text": [
      "[ 0.  1.  0.  0.  0.  0.  0.  0.  0.  0.]\n"
     ]
    },
    {
     "data": {
      "image/png": "[encoded data removed]",
      "text/plain": [
       "<IPython.core.display.Image object>"
      ]
     },
     "metadata": {
      "image/png": {
       "width": 200
      }
     },
     "output_type": "display_data"
    },
    {
     "name": "stdout",
     "output_type": "stream",
     "text": [
      "[ 0.  0.  0.  0.  0.  0.  0.  0.  1.  0.]\n"
     ]
    },
    {
     "data": {
      "image/png": "[encoded data removed]",
      "text/plain": [
       "<IPython.core.display.Image object>"
      ]
     },
     "metadata": {
      "image/png": {
       "width": 200
      }
     },
     "output_type": "display_data"
    },
    {
     "name": "stdout",
     "output_type": "stream",
     "text": [
      "[ 0.  1.  0.  0.  0.  0.  0.  0.  0.  0.]\n"
     ]
    },
    {
     "data": {
      "image/png": "[encoded data removed]",
      "text/plain": [
       "<IPython.core.display.Image object>"
      ]
     },
     "metadata": {
      "image/png": {
       "width": 200
      }
     },
     "output_type": "display_data"
    },
    {
     "name": "stdout",
     "output_type": "stream",
     "text": [
      "[ 1.  0.  0.  0.  0.  0.  0.  0.  0.  0.]\n"
     ]
    },
    {
     "data": {
      "image/png": "[encoded data removed]",
      "text/plain": [
       "<IPython.core.display.Image object>"
      ]
     },
     "metadata": {
      "image/png": {
       "width": 200
      }
     },
     "output_type": "display_data"
    },
    {
     "name": "stdout",
     "output_type": "stream",
     "text": [
      "[ 0.  0.  0.  0.  0.  0.  0.  0.  0.  1.]\n"
     ]
    },
    {
     "data": {
      "image/png": "[encoded data removed]",
      "text/plain": [
       "<IPython.core.display.Image object>"
      ]
     },
     "metadata": {
      "image/png": {
       "width": 200
      }
     },
     "output_type": "display_data"
    },
    {
     "name": "stdout",
     "output_type": "stream",
     "text": [
      "[ 0.  0.  0.  0.  0.  0.  0.  0.  1.  0.]\n"
     ]
    },
    {
     "data": {
      "image/png": "[encoded data removed]",
      "text/plain": [
       "<IPython.core.display.Image object>"
      ]
     },
     "metadata": {
      "image/png": {
       "width": 200
      }
     },
     "output_type": "display_data"
    }
   ],
   "source": [
    "from io import BytesIO\n",
    "import cv2\n",
    "import PIL\n",
    "import numpy as np\n",
    "from IPython.display import display, Image\n",
    "\n",
    "def display_img_array(ima, **kwargs):\n",
    "    if ima.dtype == np.float32 or ima.dtype == np.float64:\n",
    "        ima = (ima*255).astype(np.uint8)\n",
    "    im = PIL.Image.fromarray(ima)\n",
    "    bio = BytesIO()\n",
    "    im.save(bio, format='png')\n",
    "    display(Image(bio.getvalue(), format='png', **kwargs))\n",
    "print(mnist.train.num_examples)\n",
    "for i in range(10):\n",
    "    print(mnist.train.labels[i])\n",
    "    display_img_array(mnist.test.images[i].reshape([28,28]), width=200)"
   ]
  },
  {
   "cell_type": "code",
   "execution_count": null,
   "metadata": {
    "collapsed": false
   },
   "outputs": [],
   "source": [
    "import tensorflow as tf\n",
    "# Interactive session (aka default session)\n",
    "sess = tf.InteractiveSession()"
   ]
  },
  {
   "cell_type": "code",
   "execution_count": null,
   "metadata": {
    "collapsed": true
   },
   "outputs": [],
   "source": [
    "from tfdot import tfdot"
   ]
  },
  {
   "cell_type": "markdown",
   "metadata": {},
   "source": [
    "## Softmax regression"
   ]
  },
  {
   "cell_type": "code",
   "execution_count": null,
   "metadata": {
    "collapsed": false
   },
   "outputs": [],
   "source": [
    "x = tf.placeholder(\"float\", shape=[None, 784], name=\"x\")\n",
    "y_ = tf.placeholder(\"float\", shape=[None, 10], name=\"y_\")"
   ]
  },
  {
   "cell_type": "code",
   "execution_count": null,
   "metadata": {
    "collapsed": false
   },
   "outputs": [],
   "source": [
    "W = tf.Variable(tf.zeros([784, 10]), name='W')\n",
    "b = tf.Variable(tf.zeros([10]), name='b')\n",
    "tf.initialize_all_variables().run()"
   ]
  },
  {
   "cell_type": "code",
   "execution_count": null,
   "metadata": {
    "collapsed": false
   },
   "outputs": [],
   "source": [
    "tfdot()"
   ]
  },
  {
   "cell_type": "code",
   "execution_count": null,
   "metadata": {
    "collapsed": false
   },
   "outputs": [],
   "source": [
    "y = tf.nn.softmax(tf.matmul(x,W)+b, name=\"y_softmax\")\n",
    "cross_entropy = -tf.reduce_sum(y_*tf.log(y))"
   ]
  },
  {
   "cell_type": "code",
   "execution_count": null,
   "metadata": {
    "collapsed": false
   },
   "outputs": [],
   "source": [
    "tfdot()"
   ]
  },
  {
   "cell_type": "code",
   "execution_count": null,
   "metadata": {
    "collapsed": true
   },
   "outputs": [],
   "source": [
    "train_step = tf.train.GradientDescentOptimizer(0.01).minimize(cross_entropy)"
   ]
  },
  {
   "cell_type": "code",
   "execution_count": null,
   "metadata": {
    "collapsed": false
   },
   "outputs": [],
   "source": [
    "tfdot()"
   ]
  },
  {
   "cell_type": "code",
   "execution_count": null,
   "metadata": {
    "collapsed": true
   },
   "outputs": [],
   "source": [
    "for i in range(1000):\n",
    "    batch = mnist.train.next_batch(50)\n",
    "    train_step.run(feed_dict={x:batch[0], y_:batch[1]})"
   ]
  },
  {
   "cell_type": "code",
   "execution_count": null,
   "metadata": {
    "collapsed": false
   },
   "outputs": [],
   "source": [
    "y.eval(feed_dict={x: mnist.test.images[:10]})"
   ]
  },
  {
   "cell_type": "code",
   "execution_count": null,
   "metadata": {
    "collapsed": true
   },
   "outputs": [],
   "source": [
    "prediction = tf.argmax(y, 1)"
   ]
  },
  {
   "cell_type": "code",
   "execution_count": null,
   "metadata": {
    "collapsed": false
   },
   "outputs": [],
   "source": [
    "# print predictions\n",
    "prediction.eval(feed_dict={x: mnist.test.images[:10]})"
   ]
  },
  {
   "cell_type": "code",
   "execution_count": null,
   "metadata": {
    "collapsed": false
   },
   "outputs": [],
   "source": [
    "# print labels\n",
    "np.argmax(mnist.test.labels[:10],1)"
   ]
  },
  {
   "cell_type": "code",
   "execution_count": null,
   "metadata": {
    "collapsed": false
   },
   "outputs": [],
   "source": [
    "display_img_array(mnist.test.images[8].reshape(28,28), width=100)"
   ]
  },
  {
   "cell_type": "code",
   "execution_count": null,
   "metadata": {
    "collapsed": true
   },
   "outputs": [],
   "source": [
    "correct_prediction = tf.equal(tf.argmax(y,1), tf.argmax(y_, 1))"
   ]
  },
  {
   "cell_type": "code",
   "execution_count": null,
   "metadata": {
    "collapsed": false
   },
   "outputs": [],
   "source": [
    "correct_prediction.eval(feed_dict={x: mnist.test.images[:10] , y_: mnist.test.labels[:10]})"
   ]
  },
  {
   "cell_type": "code",
   "execution_count": null,
   "metadata": {
    "collapsed": true
   },
   "outputs": [],
   "source": [
    "accuracy = tf.reduce_mean(tf.cast(correct_prediction, \"float\"))"
   ]
  },
  {
   "cell_type": "code",
   "execution_count": null,
   "metadata": {
    "collapsed": false
   },
   "outputs": [],
   "source": [
    "accuracy.eval(feed_dict={x: mnist.test.images[:10] , y_: mnist.test.labels[:10]})"
   ]
  },
  {
   "cell_type": "code",
   "execution_count": null,
   "metadata": {
    "collapsed": false
   },
   "outputs": [],
   "source": [
    "accuracy.eval(feed_dict={x: mnist.test.images , y_: mnist.test.labels})"
   ]
  },
  {
   "cell_type": "code",
   "execution_count": null,
   "metadata": {
    "collapsed": false
   },
   "outputs": [],
   "source": [
    "for t in range(10):\n",
    "    for i in range(1000):\n",
    "        batch = mnist.train.next_batch(200)\n",
    "        train_step.run(feed_dict={x:batch[0], y_:batch[1]})\n",
    "    a = accuracy.eval(feed_dict={x: mnist.validation.images , y_: mnist.validation.labels})\n",
    "    print (t, a)"
   ]
  },
  {
   "cell_type": "code",
   "execution_count": null,
   "metadata": {
    "collapsed": false
   },
   "outputs": [],
   "source": [
    "accuracy.eval(feed_dict={x: mnist.test.images , y_: mnist.test.labels})"
   ]
  },
  {
   "cell_type": "markdown",
   "metadata": {},
   "source": [
    " 91% accuracy on MNIST is bad. It's almost embarrassingly bad.\n",
    " \n",
    " http://rodrigob.github.io/are_we_there_yet/build/classification_datasets_results.html"
   ]
  },
  {
   "cell_type": "markdown",
   "metadata": {},
   "source": [
    "# Multilayer Convolutional Network"
   ]
  },
  {
   "cell_type": "code",
   "execution_count": 1,
   "metadata": {
    "collapsed": false
   },
   "outputs": [],
   "source": [
    "# reset session and graph\n",
    "import tensorflow as tf\n",
    "from tfdot import tfdot\n",
    "tf.ops.reset_default_graph()\n",
    "if 'sess' in globals():\n",
    "    sess.close()\n",
    "sess = tf.InteractiveSession()\n",
    "x = tf.placeholder(\"float\", shape=[None, 784], name=\"x\")\n",
    "y_ = tf.placeholder(\"float\", shape=[None, 10], name=\"y_\")"
   ]
  },
  {
   "cell_type": "code",
   "execution_count": 2,
   "metadata": {
    "collapsed": true
   },
   "outputs": [],
   "source": [
    "def weight_variable(shape):\n",
    "    initial = tf.truncated_normal(shape, stddev=0.1)\n",
    "    return tf.Variable(initial, name ='W')\n",
    "def bias_variable(shape):\n",
    "    initial = tf.constant(0.1, shape=shape)\n",
    "    return tf.Variable(initial, name = 'b')"
   ]
  },
  {
   "cell_type": "code",
   "execution_count": 3,
   "metadata": {
    "collapsed": true
   },
   "outputs": [],
   "source": [
    "def conv2d(x, W):\n",
    "    return tf.nn.conv2d(x, W, strides=[1,1,1,1], padding='SAME')\n",
    "def max_pool_2x2(x):\n",
    "    return tf.nn.max_pool(x, ksize=[1,2,2,1], strides=[1,2,2,1], padding='SAME')"
   ]
  },
  {
   "cell_type": "code",
   "execution_count": 4,
   "metadata": {
    "collapsed": false
   },
   "outputs": [],
   "source": [
    "# fisrt layer\n",
    "with tf.name_scope('conv1'):\n",
    "    ## variables\n",
    "    W_conv1 = weight_variable([5,5,1,32])\n",
    "    b_conv1 = bias_variable([32])\n",
    "    ## build the layer\n",
    "    x_image = tf.reshape(x, [-1, 28, 28, 1])\n",
    "    h_conv1 = tf.nn.relu(conv2d(x_image, W_conv1) + b_conv1)\n",
    "    h_pool1 = max_pool_2x2(h_conv1)"
   ]
  },
  {
   "cell_type": "code",
   "execution_count": 6,
   "metadata": {
    "collapsed": false
   },
   "outputs": [
    {
     "data": {
      "image/svg+xml": [
       "<?xml version=\"1.0\" encoding=\"UTF-8\" standalone=\"no\"?>\n",
       "<!DOCTYPE svg PUBLIC \"-//W3C//DTD SVG 1.1//EN\"\n",
       " \"http://www.w3.org/Graphics/SVG/1.1/DTD/svg11.dtd\">\n",
       "<!-- Generated by graphviz version 2.38.0 (20140413.2041)\n",
       " -->\n",
       "<!-- Title: root Pages: 1 -->\n",
       "<svg width=\"449pt\" height=\"651pt\"\n",
       " viewBox=\"0.00 0.00 449.00 651.00\" xmlns=\"http://www.w3.org/2000/svg\" xmlns:xlink=\"http://www.w3.org/1999/xlink\">\n",
       "<g id=\"graph0\" class=\"graph\" transform=\"scale(1 1) rotate(0) translate(4 647)\">\n",
       "<title>root</title>\n",
       "<polygon fill=\"white\" stroke=\"none\" points=\"-4,4 -4,-647 445,-647 445,4 -4,4\"/>\n",
       "<g id=\"clust1\" class=\"cluster\"><title>cluster_conv1</title>\n",
       "<polygon fill=\"none\" stroke=\"black\" points=\"8,-8 8,-635 379,-635 379,-8 8,-8\"/>\n",
       "<text text-anchor=\"middle\" x=\"193.5\" y=\"-619.8\" font-family=\"Times,serif\" font-size=\"14.00\">conv1</text>\n",
       "</g>\n",
       "<g id=\"clust2\" class=\"cluster\"><title>cluster_conv1/truncated_normal</title>\n",
       "<polygon fill=\"none\" stroke=\"black\" points=\"16,-382 16,-604 264,-604 264,-382 16,-382\"/>\n",
       "<text text-anchor=\"middle\" x=\"140\" y=\"-588.8\" font-family=\"Times,serif\" font-size=\"14.00\">conv1/truncated_normal</text>\n",
       "</g>\n",
       "<g id=\"clust3\" class=\"cluster\"><title>cluster_conv1/Reshape</title>\n",
       "<polygon fill=\"none\" stroke=\"black\" points=\"272,-382 272,-457 371,-457 371,-382 272,-382\"/>\n",
       "<text text-anchor=\"middle\" x=\"321.5\" y=\"-441.8\" font-family=\"Times,serif\" font-size=\"14.00\">conv1/Reshape</text>\n",
       "</g>\n",
       "<g id=\"clust4\" class=\"cluster\"><title>cluster_conv1/b</title>\n",
       "<polygon fill=\"none\" stroke=\"black\" points=\"51,-152 51,-227 137,-227 137,-152 51,-152\"/>\n",
       "<text text-anchor=\"middle\" x=\"94\" y=\"-211.8\" font-family=\"Times,serif\" font-size=\"14.00\">conv1/b</text>\n",
       "</g>\n",
       "<g id=\"clust5\" class=\"cluster\"><title>cluster_conv1/W</title>\n",
       "<polygon fill=\"none\" stroke=\"black\" points=\"166,-235 166,-310 252,-310 252,-235 166,-235\"/>\n",
       "<text text-anchor=\"middle\" x=\"209\" y=\"-294.8\" font-family=\"Times,serif\" font-size=\"14.00\">conv1/W</text>\n",
       "</g>\n",
       "<!-- conv1/truncated_normal/shape -->\n",
       "<g id=\"node1\" class=\"node\"><title>conv1/truncated_normal/shape</title>\n",
       "<ellipse fill=\"yellow\" stroke=\"black\" cx=\"146\" cy=\"-555\" rx=\"30.5947\" ry=\"18\"/>\n",
       "<text text-anchor=\"middle\" x=\"146\" y=\"-551.3\" font-family=\"Times,serif\" font-size=\"14.00\">shape</text>\n",
       "</g>\n",
       "<!-- conv1/truncated_normal/TruncatedNormal -->\n",
       "<g id=\"node4\" class=\"node\"><title>conv1/truncated_normal/TruncatedNormal</title>\n",
       "<ellipse fill=\"#ccedbc\" stroke=\"black\" cx=\"183\" cy=\"-483\" rx=\"73.387\" ry=\"18\"/>\n",
       "<text text-anchor=\"middle\" x=\"183\" y=\"-479.3\" font-family=\"Times,serif\" font-size=\"14.00\">TruncatedNormal</text>\n",
       "</g>\n",
       "<!-- conv1/truncated_normal/shape&#45;&gt;conv1/truncated_normal/TruncatedNormal -->\n",
       "<g id=\"edge2\" class=\"edge\"><title>conv1/truncated_normal/shape&#45;&gt;conv1/truncated_normal/TruncatedNormal</title>\n",
       "<path fill=\"none\" stroke=\"black\" d=\"M154.768,-537.411C159.083,-529.249 164.384,-519.22 169.223,-510.065\"/>\n",
       "<polygon fill=\"black\" stroke=\"black\" points=\"172.459,-511.433 174.037,-500.956 166.27,-508.162 172.459,-511.433\"/>\n",
       "</g>\n",
       "<!-- conv1/truncated_normal/mean -->\n",
       "<g id=\"node2\" class=\"node\"><title>conv1/truncated_normal/mean</title>\n",
       "<ellipse fill=\"yellow\" stroke=\"black\" cx=\"225\" cy=\"-555\" rx=\"30.5947\" ry=\"18\"/>\n",
       "<text text-anchor=\"middle\" x=\"225\" y=\"-551.3\" font-family=\"Times,serif\" font-size=\"14.00\">mean</text>\n",
       "</g>\n",
       "<!-- conv1/truncated_normal -->\n",
       "<g id=\"node9\" class=\"node\"><title>conv1/truncated_normal</title>\n",
       "<ellipse fill=\"#c5acbc\" stroke=\"black\" cx=\"128\" cy=\"-336\" rx=\"73.387\" ry=\"18\"/>\n",
       "<text text-anchor=\"middle\" x=\"128\" y=\"-332.3\" font-family=\"Times,serif\" font-size=\"14.00\">truncated_normal</text>\n",
       "</g>\n",
       "<!-- conv1/truncated_normal/mean&#45;&gt;conv1/truncated_normal -->\n",
       "<g id=\"edge7\" class=\"edge\"><title>conv1/truncated_normal/mean&#45;&gt;conv1/truncated_normal</title>\n",
       "<path fill=\"none\" stroke=\"black\" d=\"M240.252,-539.342C249.364,-529.482 260.093,-515.647 265,-501 270.082,-485.829 271.373,-479.676 265,-465 244.529,-417.859 197.196,-380.177 163.922,-358.218\"/>\n",
       "<polygon fill=\"black\" stroke=\"black\" points=\"165.671,-355.182 155.368,-352.713 161.883,-361.068 165.671,-355.182\"/>\n",
       "</g>\n",
       "<!-- conv1/truncated_normal/stddev -->\n",
       "<g id=\"node3\" class=\"node\"><title>conv1/truncated_normal/stddev</title>\n",
       "<ellipse fill=\"yellow\" stroke=\"black\" cx=\"58\" cy=\"-483\" rx=\"33.5952\" ry=\"18\"/>\n",
       "<text text-anchor=\"middle\" x=\"58\" y=\"-479.3\" font-family=\"Times,serif\" font-size=\"14.00\">stddev</text>\n",
       "</g>\n",
       "<!-- conv1/truncated_normal/mul -->\n",
       "<g id=\"node5\" class=\"node\"><title>conv1/truncated_normal/mul</title>\n",
       "<ellipse fill=\"#cbf6e3\" stroke=\"black\" cx=\"128\" cy=\"-408\" rx=\"27\" ry=\"18\"/>\n",
       "<text text-anchor=\"middle\" x=\"128\" y=\"-404.3\" font-family=\"Times,serif\" font-size=\"14.00\">mul</text>\n",
       "</g>\n",
       "<!-- conv1/truncated_normal/stddev&#45;&gt;conv1/truncated_normal/mul -->\n",
       "<g id=\"edge3\" class=\"edge\"><title>conv1/truncated_normal/stddev&#45;&gt;conv1/truncated_normal/mul</title>\n",
       "<path fill=\"none\" stroke=\"black\" d=\"M72.8452,-466.519C82.7579,-456.181 95.9427,-442.431 106.935,-430.967\"/>\n",
       "<polygon fill=\"black\" stroke=\"black\" points=\"109.733,-433.106 114.128,-423.466 104.681,-428.261 109.733,-433.106\"/>\n",
       "</g>\n",
       "<!-- conv1/truncated_normal/TruncatedNormal&#45;&gt;conv1/truncated_normal/mul -->\n",
       "<g id=\"edge1\" class=\"edge\"><title>conv1/truncated_normal/TruncatedNormal&#45;&gt;conv1/truncated_normal/mul</title>\n",
       "<path fill=\"none\" stroke=\"black\" d=\"M166.275,-465.455C163.748,-462.709 161.24,-459.831 159,-457 153.25,-449.73 147.567,-441.373 142.669,-433.69\"/>\n",
       "<polygon fill=\"black\" stroke=\"black\" points=\"145.574,-431.733 137.322,-425.087 139.628,-435.428 145.574,-431.733\"/>\n",
       "</g>\n",
       "<!-- conv1/truncated_normal/mul&#45;&gt;conv1/truncated_normal -->\n",
       "<g id=\"edge6\" class=\"edge\"><title>conv1/truncated_normal/mul&#45;&gt;conv1/truncated_normal</title>\n",
       "<path fill=\"none\" stroke=\"black\" d=\"M128,-389.697C128,-381.983 128,-372.712 128,-364.112\"/>\n",
       "<polygon fill=\"black\" stroke=\"black\" points=\"131.5,-364.104 128,-354.104 124.5,-364.104 131.5,-364.104\"/>\n",
       "</g>\n",
       "<!-- conv1/Reshape/shape -->\n",
       "<g id=\"node6\" class=\"node\"><title>conv1/Reshape/shape</title>\n",
       "<ellipse fill=\"yellow\" stroke=\"black\" cx=\"331\" cy=\"-408\" rx=\"30.5947\" ry=\"18\"/>\n",
       "<text text-anchor=\"middle\" x=\"331\" y=\"-404.3\" font-family=\"Times,serif\" font-size=\"14.00\">shape</text>\n",
       "</g>\n",
       "<!-- conv1/Reshape -->\n",
       "<g id=\"node13\" class=\"node\"><title>conv1/Reshape</title>\n",
       "<ellipse fill=\"#a7ba9d\" stroke=\"black\" cx=\"331\" cy=\"-336\" rx=\"40.0939\" ry=\"18\"/>\n",
       "<text text-anchor=\"middle\" x=\"331\" y=\"-332.3\" font-family=\"Times,serif\" font-size=\"14.00\">Reshape</text>\n",
       "</g>\n",
       "<!-- conv1/Reshape/shape&#45;&gt;conv1/Reshape -->\n",
       "<g id=\"edge15\" class=\"edge\"><title>conv1/Reshape/shape&#45;&gt;conv1/Reshape</title>\n",
       "<path fill=\"none\" stroke=\"black\" d=\"M331,-389.697C331,-381.983 331,-372.712 331,-364.112\"/>\n",
       "<polygon fill=\"black\" stroke=\"black\" points=\"334.5,-364.104 331,-354.104 327.5,-364.104 334.5,-364.104\"/>\n",
       "</g>\n",
       "<!-- conv1/b/Assign -->\n",
       "<g id=\"node7\" class=\"node\"><title>conv1/b/Assign</title>\n",
       "<ellipse fill=\"#bbbbff\" stroke=\"black\" cx=\"94\" cy=\"-178\" rx=\"35.194\" ry=\"18\"/>\n",
       "<text text-anchor=\"middle\" x=\"94\" y=\"-174.3\" font-family=\"Times,serif\" font-size=\"14.00\">Assign</text>\n",
       "</g>\n",
       "<!-- conv1/W/Assign -->\n",
       "<g id=\"node8\" class=\"node\"><title>conv1/W/Assign</title>\n",
       "<ellipse fill=\"#bbbbff\" stroke=\"black\" cx=\"209\" cy=\"-261\" rx=\"35.194\" ry=\"18\"/>\n",
       "<text text-anchor=\"middle\" x=\"209\" y=\"-257.3\" font-family=\"Times,serif\" font-size=\"14.00\">Assign</text>\n",
       "</g>\n",
       "<!-- conv1/truncated_normal&#45;&gt;conv1/W/Assign -->\n",
       "<g id=\"edge8\" class=\"edge\"><title>conv1/truncated_normal&#45;&gt;conv1/W/Assign</title>\n",
       "<path fill=\"none\" stroke=\"black\" d=\"M157.386,-319.331C161.794,-316.471 166.148,-313.329 170,-310 177.959,-303.122 185.538,-294.478 191.862,-286.428\"/>\n",
       "<polygon fill=\"black\" stroke=\"black\" points=\"194.727,-288.442 197.962,-278.352 189.142,-284.223 194.727,-288.442\"/>\n",
       "</g>\n",
       "<!-- conv1/W -->\n",
       "<g id=\"node10\" class=\"node\"><title>conv1/W</title>\n",
       "<ellipse fill=\"#ffbbbb\" stroke=\"black\" cx=\"246\" cy=\"-336\" rx=\"27\" ry=\"18\"/>\n",
       "<text text-anchor=\"middle\" x=\"246\" y=\"-332.3\" font-family=\"Times,serif\" font-size=\"14.00\">W</text>\n",
       "</g>\n",
       "<!-- conv1/W&#45;&gt;conv1/W/Assign -->\n",
       "<g id=\"edge4\" class=\"edge\"><title>conv1/W&#45;&gt;conv1/W/Assign</title>\n",
       "<path fill=\"none\" stroke=\"black\" d=\"M237.789,-318.799C233.159,-309.666 227.27,-298.046 222.025,-287.699\"/>\n",
       "<polygon fill=\"black\" stroke=\"black\" points=\"225.088,-285.999 217.445,-278.662 218.844,-289.164 225.088,-285.999\"/>\n",
       "</g>\n",
       "<!-- conv1/Conv2D -->\n",
       "<g id=\"node14\" class=\"node\"><title>conv1/Conv2D</title>\n",
       "<ellipse fill=\"#ddd8dc\" stroke=\"black\" cx=\"302\" cy=\"-261\" rx=\"40.0939\" ry=\"18\"/>\n",
       "<text text-anchor=\"middle\" x=\"302\" y=\"-257.3\" font-family=\"Times,serif\" font-size=\"14.00\">Conv2D</text>\n",
       "</g>\n",
       "<!-- conv1/W&#45;&gt;conv1/Conv2D -->\n",
       "<g id=\"edge9\" class=\"edge\"><title>conv1/W&#45;&gt;conv1/Conv2D</title>\n",
       "<path fill=\"none\" stroke=\"black\" d=\"M257.876,-319.519C265.296,-309.847 275.006,-297.188 283.429,-286.209\"/>\n",
       "<polygon fill=\"black\" stroke=\"black\" points=\"286.249,-288.283 289.559,-278.218 280.695,-284.022 286.249,-288.283\"/>\n",
       "</g>\n",
       "<!-- conv1/Const -->\n",
       "<g id=\"node11\" class=\"node\"><title>conv1/Const</title>\n",
       "<ellipse fill=\"yellow\" stroke=\"black\" cx=\"53\" cy=\"-261\" rx=\"31.3957\" ry=\"18\"/>\n",
       "<text text-anchor=\"middle\" x=\"53\" y=\"-257.3\" font-family=\"Times,serif\" font-size=\"14.00\">Const</text>\n",
       "</g>\n",
       "<!-- conv1/Const&#45;&gt;conv1/b/Assign -->\n",
       "<g id=\"edge10\" class=\"edge\"><title>conv1/Const&#45;&gt;conv1/b/Assign</title>\n",
       "<path fill=\"none\" stroke=\"black\" d=\"M61.297,-243.608C66.9281,-232.484 74.4907,-217.543 80.9249,-204.831\"/>\n",
       "<polygon fill=\"black\" stroke=\"black\" points=\"84.1812,-206.148 85.5747,-195.645 77.9357,-202.987 84.1812,-206.148\"/>\n",
       "</g>\n",
       "<!-- conv1/b -->\n",
       "<g id=\"node12\" class=\"node\"><title>conv1/b</title>\n",
       "<ellipse fill=\"#ffbbbb\" stroke=\"black\" cx=\"129\" cy=\"-261\" rx=\"27\" ry=\"18\"/>\n",
       "<text text-anchor=\"middle\" x=\"129\" y=\"-257.3\" font-family=\"Times,serif\" font-size=\"14.00\">b</text>\n",
       "</g>\n",
       "<!-- conv1/b&#45;&gt;conv1/b/Assign -->\n",
       "<g id=\"edge16\" class=\"edge\"><title>conv1/b&#45;&gt;conv1/b/Assign</title>\n",
       "<path fill=\"none\" stroke=\"black\" d=\"M121.917,-243.608C117.11,-232.484 110.654,-217.543 105.162,-204.831\"/>\n",
       "<polygon fill=\"black\" stroke=\"black\" points=\"108.372,-203.437 101.192,-195.645 101.946,-206.213 108.372,-203.437\"/>\n",
       "</g>\n",
       "<!-- conv1/add -->\n",
       "<g id=\"node15\" class=\"node\"><title>conv1/add</title>\n",
       "<ellipse fill=\"#c5acbc\" stroke=\"black\" cx=\"238\" cy=\"-178\" rx=\"27\" ry=\"18\"/>\n",
       "<text text-anchor=\"middle\" x=\"238\" y=\"-174.3\" font-family=\"Times,serif\" font-size=\"14.00\">add</text>\n",
       "</g>\n",
       "<!-- conv1/b&#45;&gt;conv1/add -->\n",
       "<g id=\"edge11\" class=\"edge\"><title>conv1/b&#45;&gt;conv1/add</title>\n",
       "<path fill=\"none\" stroke=\"black\" d=\"M146.095,-246.981C151.201,-243.111 156.818,-238.872 162,-235 178.683,-222.535 197.528,-208.648 212.278,-197.822\"/>\n",
       "<polygon fill=\"black\" stroke=\"black\" points=\"214.449,-200.571 220.443,-191.835 210.309,-194.926 214.449,-200.571\"/>\n",
       "</g>\n",
       "<!-- conv1/Reshape&#45;&gt;conv1/Conv2D -->\n",
       "<g id=\"edge14\" class=\"edge\"><title>conv1/Reshape&#45;&gt;conv1/Conv2D</title>\n",
       "<path fill=\"none\" stroke=\"black\" d=\"M324.274,-318.069C320.76,-309.224 316.382,-298.202 312.439,-288.277\"/>\n",
       "<polygon fill=\"black\" stroke=\"black\" points=\"315.634,-286.841 308.69,-278.839 309.129,-289.425 315.634,-286.841\"/>\n",
       "</g>\n",
       "<!-- conv1/Conv2D&#45;&gt;conv1/add -->\n",
       "<g id=\"edge13\" class=\"edge\"><title>conv1/Conv2D&#45;&gt;conv1/add</title>\n",
       "<path fill=\"none\" stroke=\"black\" d=\"M289.049,-243.608C279.7,-231.777 266.942,-215.63 256.519,-202.438\"/>\n",
       "<polygon fill=\"black\" stroke=\"black\" points=\"259.012,-199.948 250.066,-194.271 253.519,-204.287 259.012,-199.948\"/>\n",
       "</g>\n",
       "<!-- conv1/Relu -->\n",
       "<g id=\"node16\" class=\"node\"><title>conv1/Relu</title>\n",
       "<ellipse fill=\"#f0b3f7\" stroke=\"black\" cx=\"238\" cy=\"-106\" rx=\"27.0966\" ry=\"18\"/>\n",
       "<text text-anchor=\"middle\" x=\"238\" y=\"-102.3\" font-family=\"Times,serif\" font-size=\"14.00\">Relu</text>\n",
       "</g>\n",
       "<!-- conv1/add&#45;&gt;conv1/Relu -->\n",
       "<g id=\"edge5\" class=\"edge\"><title>conv1/add&#45;&gt;conv1/Relu</title>\n",
       "<path fill=\"none\" stroke=\"black\" d=\"M238,-159.697C238,-151.983 238,-142.712 238,-134.112\"/>\n",
       "<polygon fill=\"black\" stroke=\"black\" points=\"241.5,-134.104 238,-124.104 234.5,-134.104 241.5,-134.104\"/>\n",
       "</g>\n",
       "<!-- conv1/MaxPool -->\n",
       "<g id=\"node17\" class=\"node\"><title>conv1/MaxPool</title>\n",
       "<ellipse fill=\"#d5c0aa\" stroke=\"black\" cx=\"238\" cy=\"-34\" rx=\"43.5923\" ry=\"18\"/>\n",
       "<text text-anchor=\"middle\" x=\"238\" y=\"-30.3\" font-family=\"Times,serif\" font-size=\"14.00\">MaxPool</text>\n",
       "</g>\n",
       "<!-- conv1/Relu&#45;&gt;conv1/MaxPool -->\n",
       "<g id=\"edge12\" class=\"edge\"><title>conv1/Relu&#45;&gt;conv1/MaxPool</title>\n",
       "<path fill=\"none\" stroke=\"black\" d=\"M238,-87.6966C238,-79.9827 238,-70.7125 238,-62.1124\"/>\n",
       "<polygon fill=\"black\" stroke=\"black\" points=\"241.5,-62.1043 238,-52.1043 234.5,-62.1044 241.5,-62.1043\"/>\n",
       "</g>\n",
       "<!-- x -->\n",
       "<g id=\"node18\" class=\"node\"><title>x</title>\n",
       "<ellipse fill=\"#a5bfd8\" stroke=\"black\" cx=\"414\" cy=\"-408\" rx=\"27\" ry=\"18\"/>\n",
       "<text text-anchor=\"middle\" x=\"414\" y=\"-404.3\" font-family=\"Times,serif\" font-size=\"14.00\">x</text>\n",
       "</g>\n",
       "<!-- x&#45;&gt;conv1/Reshape -->\n",
       "<g id=\"edge17\" class=\"edge\"><title>x&#45;&gt;conv1/Reshape</title>\n",
       "<path fill=\"none\" stroke=\"black\" d=\"M397.602,-393.17C386.021,-383.403 370.263,-370.114 356.983,-358.913\"/>\n",
       "<polygon fill=\"black\" stroke=\"black\" points=\"358.994,-356.031 349.093,-352.259 354.481,-361.382 358.994,-356.031\"/>\n",
       "</g>\n",
       "<!-- y_ -->\n",
       "<g id=\"node19\" class=\"node\"><title>y_</title>\n",
       "<ellipse fill=\"#a5bfd8\" stroke=\"black\" cx=\"414\" cy=\"-555\" rx=\"27\" ry=\"18\"/>\n",
       "<text text-anchor=\"middle\" x=\"414\" y=\"-551.3\" font-family=\"Times,serif\" font-size=\"14.00\">y_</text>\n",
       "</g>\n",
       "</g>\n",
       "</svg>\n"
      ],
      "text/plain": [
       "<graphviz.dot.Digraph at 0x7efd506f6a10>"
      ]
     },
     "execution_count": 6,
     "metadata": {},
     "output_type": "execute_result"
    }
   ],
   "source": [
    "tfdot()"
   ]
  },
  {
   "cell_type": "code",
   "execution_count": 7,
   "metadata": {
    "collapsed": true
   },
   "outputs": [],
   "source": [
    "# second layer\n",
    "with tf.name_scope('conv2'):\n",
    "    ## variables\n",
    "    W_conv2 = weight_variable([5,5,32,64])\n",
    "    b_conv2 = bias_variable([64])\n",
    "    ## build the layer\n",
    "    h_conv2 = tf.nn.relu(conv2d(h_pool1, W_conv2) + b_conv2)\n",
    "    h_pool2 = max_pool_2x2(h_conv2)"
   ]
  },
  {
   "cell_type": "code",
   "execution_count": 8,
   "metadata": {
    "collapsed": false
   },
   "outputs": [
    {
     "data": {
      "image/svg+xml": [
       "<?xml version=\"1.0\" encoding=\"UTF-8\" standalone=\"no\"?>\n",
       "<!DOCTYPE svg PUBLIC \"-//W3C//DTD SVG 1.1//EN\"\n",
       " \"http://www.w3.org/Graphics/SVG/1.1/DTD/svg11.dtd\">\n",
       "<!-- Generated by graphviz version 2.38.0 (20140413.2041)\n",
       " -->\n",
       "<!-- Title: root Pages: 1 -->\n",
       "<svg width=\"793pt\" height=\"992pt\"\n",
       " viewBox=\"0.00 0.00 793.00 992.00\" xmlns=\"http://www.w3.org/2000/svg\" xmlns:xlink=\"http://www.w3.org/1999/xlink\">\n",
       "<g id=\"graph0\" class=\"graph\" transform=\"scale(1 1) rotate(0) translate(4 988)\">\n",
       "<title>root</title>\n",
       "<polygon fill=\"white\" stroke=\"none\" points=\"-4,4 -4,-988 789,-988 789,4 -4,4\"/>\n",
       "<g id=\"clust1\" class=\"cluster\"><title>cluster_conv2</title>\n",
       "<polygon fill=\"none\" stroke=\"black\" points=\"8,-8 8,-651 344,-651 344,-8 8,-8\"/>\n",
       "<text text-anchor=\"middle\" x=\"176\" y=\"-635.8\" font-family=\"Times,serif\" font-size=\"14.00\">conv2</text>\n",
       "</g>\n",
       "<g id=\"clust2\" class=\"cluster\"><title>cluster_conv2/truncated_normal</title>\n",
       "<polygon fill=\"none\" stroke=\"black\" points=\"16,-390 16,-620 264,-620 264,-390 16,-390\"/>\n",
       "<text text-anchor=\"middle\" x=\"140\" y=\"-604.8\" font-family=\"Times,serif\" font-size=\"14.00\">conv2/truncated_normal</text>\n",
       "</g>\n",
       "<g id=\"clust3\" class=\"cluster\"><title>cluster_conv2/b</title>\n",
       "<polygon fill=\"none\" stroke=\"black\" points=\"48,-152 48,-227 134,-227 134,-152 48,-152\"/>\n",
       "<text text-anchor=\"middle\" x=\"91\" y=\"-211.8\" font-family=\"Times,serif\" font-size=\"14.00\">conv2/b</text>\n",
       "</g>\n",
       "<g id=\"clust4\" class=\"cluster\"><title>cluster_conv2/W</title>\n",
       "<polygon fill=\"none\" stroke=\"black\" points=\"160,-235 160,-310 246,-310 246,-235 160,-235\"/>\n",
       "<text text-anchor=\"middle\" x=\"203\" y=\"-294.8\" font-family=\"Times,serif\" font-size=\"14.00\">conv2/W</text>\n",
       "</g>\n",
       "<g id=\"clust5\" class=\"cluster\"><title>cluster_conv1</title>\n",
       "<polygon fill=\"none\" stroke=\"black\" points=\"352,-318 352,-976 723,-976 723,-318 352,-318\"/>\n",
       "<text text-anchor=\"middle\" x=\"537.5\" y=\"-960.8\" font-family=\"Times,serif\" font-size=\"14.00\">conv1</text>\n",
       "</g>\n",
       "<g id=\"clust6\" class=\"cluster\"><title>cluster_conv1/truncated_normal</title>\n",
       "<polygon fill=\"none\" stroke=\"black\" points=\"360,-723 360,-945 608,-945 608,-723 360,-723\"/>\n",
       "<text text-anchor=\"middle\" x=\"484\" y=\"-929.8\" font-family=\"Times,serif\" font-size=\"14.00\">conv1/truncated_normal</text>\n",
       "</g>\n",
       "<g id=\"clust7\" class=\"cluster\"><title>cluster_conv1/Reshape</title>\n",
       "<polygon fill=\"none\" stroke=\"black\" points=\"616,-723 616,-798 715,-798 715,-723 616,-723\"/>\n",
       "<text text-anchor=\"middle\" x=\"665.5\" y=\"-782.8\" font-family=\"Times,serif\" font-size=\"14.00\">conv1/Reshape</text>\n",
       "</g>\n",
       "<g id=\"clust8\" class=\"cluster\"><title>cluster_conv1/b</title>\n",
       "<polygon fill=\"none\" stroke=\"black\" points=\"360,-462 360,-537 446,-537 446,-462 360,-462\"/>\n",
       "<text text-anchor=\"middle\" x=\"403\" y=\"-521.8\" font-family=\"Times,serif\" font-size=\"14.00\">conv1/b</text>\n",
       "</g>\n",
       "<g id=\"clust9\" class=\"cluster\"><title>cluster_conv1/W</title>\n",
       "<polygon fill=\"none\" stroke=\"black\" points=\"510,-545 510,-620 596,-620 596,-545 510,-545\"/>\n",
       "<text text-anchor=\"middle\" x=\"553\" y=\"-604.8\" font-family=\"Times,serif\" font-size=\"14.00\">conv1/W</text>\n",
       "</g>\n",
       "<!-- conv2/truncated_normal/shape -->\n",
       "<g id=\"node1\" class=\"node\"><title>conv2/truncated_normal/shape</title>\n",
       "<ellipse fill=\"yellow\" stroke=\"black\" cx=\"146\" cy=\"-571\" rx=\"30.5947\" ry=\"18\"/>\n",
       "<text text-anchor=\"middle\" x=\"146\" y=\"-567.3\" font-family=\"Times,serif\" font-size=\"14.00\">shape</text>\n",
       "</g>\n",
       "<!-- conv2/truncated_normal/TruncatedNormal -->\n",
       "<g id=\"node4\" class=\"node\"><title>conv2/truncated_normal/TruncatedNormal</title>\n",
       "<ellipse fill=\"#ccedbc\" stroke=\"black\" cx=\"183\" cy=\"-488\" rx=\"73.387\" ry=\"18\"/>\n",
       "<text text-anchor=\"middle\" x=\"183\" y=\"-484.3\" font-family=\"Times,serif\" font-size=\"14.00\">TruncatedNormal</text>\n",
       "</g>\n",
       "<!-- conv2/truncated_normal/shape&#45;&gt;conv2/truncated_normal/TruncatedNormal -->\n",
       "<g id=\"edge1\" class=\"edge\"><title>conv2/truncated_normal/shape&#45;&gt;conv2/truncated_normal/TruncatedNormal</title>\n",
       "<path fill=\"none\" stroke=\"black\" d=\"M153.666,-553.217C158.644,-542.321 165.236,-527.888 170.911,-515.466\"/>\n",
       "<polygon fill=\"black\" stroke=\"black\" points=\"174.245,-516.591 175.216,-506.04 167.878,-513.682 174.245,-516.591\"/>\n",
       "</g>\n",
       "<!-- conv2/truncated_normal/mean -->\n",
       "<g id=\"node2\" class=\"node\"><title>conv2/truncated_normal/mean</title>\n",
       "<ellipse fill=\"yellow\" stroke=\"black\" cx=\"225\" cy=\"-571\" rx=\"30.5947\" ry=\"18\"/>\n",
       "<text text-anchor=\"middle\" x=\"225\" y=\"-567.3\" font-family=\"Times,serif\" font-size=\"14.00\">mean</text>\n",
       "</g>\n",
       "<!-- conv2/truncated_normal -->\n",
       "<g id=\"node8\" class=\"node\"><title>conv2/truncated_normal</title>\n",
       "<ellipse fill=\"#c5acbc\" stroke=\"black\" cx=\"181\" cy=\"-344\" rx=\"73.387\" ry=\"18\"/>\n",
       "<text text-anchor=\"middle\" x=\"181\" y=\"-340.3\" font-family=\"Times,serif\" font-size=\"14.00\">truncated_normal</text>\n",
       "</g>\n",
       "<!-- conv2/truncated_normal/mean&#45;&gt;conv2/truncated_normal -->\n",
       "<g id=\"edge5\" class=\"edge\"><title>conv2/truncated_normal/mean&#45;&gt;conv2/truncated_normal</title>\n",
       "<path fill=\"none\" stroke=\"black\" d=\"M246.337,-557.871C253.658,-552.503 261.008,-545.469 265,-537 279.213,-506.849 274.659,-493.903 265,-462 253.916,-425.392 226.087,-390.759 205.482,-368.812\"/>\n",
       "<polygon fill=\"black\" stroke=\"black\" points=\"207.991,-366.372 198.534,-361.595 202.948,-371.227 207.991,-366.372\"/>\n",
       "</g>\n",
       "<!-- conv2/truncated_normal/stddev -->\n",
       "<g id=\"node3\" class=\"node\"><title>conv2/truncated_normal/stddev</title>\n",
       "<ellipse fill=\"yellow\" stroke=\"black\" cx=\"58\" cy=\"-488\" rx=\"33.5952\" ry=\"18\"/>\n",
       "<text text-anchor=\"middle\" x=\"58\" y=\"-484.3\" font-family=\"Times,serif\" font-size=\"14.00\">stddev</text>\n",
       "</g>\n",
       "<!-- conv2/truncated_normal/mul -->\n",
       "<g id=\"node5\" class=\"node\"><title>conv2/truncated_normal/mul</title>\n",
       "<ellipse fill=\"#cbf6e3\" stroke=\"black\" cx=\"181\" cy=\"-416\" rx=\"27\" ry=\"18\"/>\n",
       "<text text-anchor=\"middle\" x=\"181\" y=\"-412.3\" font-family=\"Times,serif\" font-size=\"14.00\">mul</text>\n",
       "</g>\n",
       "<!-- conv2/truncated_normal/stddev&#45;&gt;conv2/truncated_normal/mul -->\n",
       "<g id=\"edge2\" class=\"edge\"><title>conv2/truncated_normal/stddev&#45;&gt;conv2/truncated_normal/mul</title>\n",
       "<path fill=\"none\" stroke=\"black\" d=\"M79.8404,-474.222C86.6106,-470.282 94.1037,-465.944 101,-462 117.839,-452.369 136.754,-441.722 151.962,-433.203\"/>\n",
       "<polygon fill=\"black\" stroke=\"black\" points=\"153.882,-436.139 160.9,-428.202 150.464,-430.031 153.882,-436.139\"/>\n",
       "</g>\n",
       "<!-- conv2/truncated_normal/TruncatedNormal&#45;&gt;conv2/truncated_normal/mul -->\n",
       "<g id=\"edge3\" class=\"edge\"><title>conv2/truncated_normal/TruncatedNormal&#45;&gt;conv2/truncated_normal/mul</title>\n",
       "<path fill=\"none\" stroke=\"black\" d=\"M182.506,-469.697C182.285,-461.983 182.02,-452.712 181.775,-444.112\"/>\n",
       "<polygon fill=\"black\" stroke=\"black\" points=\"185.273,-444 181.489,-434.104 178.276,-444.2 185.273,-444\"/>\n",
       "</g>\n",
       "<!-- conv2/truncated_normal/mul&#45;&gt;conv2/truncated_normal -->\n",
       "<g id=\"edge8\" class=\"edge\"><title>conv2/truncated_normal/mul&#45;&gt;conv2/truncated_normal</title>\n",
       "<path fill=\"none\" stroke=\"black\" d=\"M181,-397.697C181,-389.983 181,-380.712 181,-372.112\"/>\n",
       "<polygon fill=\"black\" stroke=\"black\" points=\"184.5,-372.104 181,-362.104 177.5,-372.104 184.5,-372.104\"/>\n",
       "</g>\n",
       "<!-- conv2/b/Assign -->\n",
       "<g id=\"node6\" class=\"node\"><title>conv2/b/Assign</title>\n",
       "<ellipse fill=\"#bbbbff\" stroke=\"black\" cx=\"91\" cy=\"-178\" rx=\"35.194\" ry=\"18\"/>\n",
       "<text text-anchor=\"middle\" x=\"91\" y=\"-174.3\" font-family=\"Times,serif\" font-size=\"14.00\">Assign</text>\n",
       "</g>\n",
       "<!-- conv2/W/Assign -->\n",
       "<g id=\"node7\" class=\"node\"><title>conv2/W/Assign</title>\n",
       "<ellipse fill=\"#bbbbff\" stroke=\"black\" cx=\"203\" cy=\"-261\" rx=\"35.194\" ry=\"18\"/>\n",
       "<text text-anchor=\"middle\" x=\"203\" y=\"-257.3\" font-family=\"Times,serif\" font-size=\"14.00\">Assign</text>\n",
       "</g>\n",
       "<!-- conv2/truncated_normal&#45;&gt;conv2/W/Assign -->\n",
       "<g id=\"edge11\" class=\"edge\"><title>conv2/truncated_normal&#45;&gt;conv2/W/Assign</title>\n",
       "<path fill=\"none\" stroke=\"black\" d=\"M185.666,-325.822C188.602,-315.01 192.452,-300.835 195.778,-288.591\"/>\n",
       "<polygon fill=\"black\" stroke=\"black\" points=\"199.173,-289.443 198.417,-278.876 192.418,-287.608 199.173,-289.443\"/>\n",
       "</g>\n",
       "<!-- conv2/W -->\n",
       "<g id=\"node9\" class=\"node\"><title>conv2/W</title>\n",
       "<ellipse fill=\"#ffbbbb\" stroke=\"black\" cx=\"299\" cy=\"-344\" rx=\"27\" ry=\"18\"/>\n",
       "<text text-anchor=\"middle\" x=\"299\" y=\"-340.3\" font-family=\"Times,serif\" font-size=\"14.00\">W</text>\n",
       "</g>\n",
       "<!-- conv2/W&#45;&gt;conv2/W/Assign -->\n",
       "<g id=\"edge14\" class=\"edge\"><title>conv2/W&#45;&gt;conv2/W/Assign</title>\n",
       "<path fill=\"none\" stroke=\"black\" d=\"M281.962,-329.905C276.138,-325.777 269.461,-321.409 263,-318 254.166,-313.339 250.092,-315.854 242,-310 233.348,-303.741 225.532,-295.101 219.209,-286.875\"/>\n",
       "<polygon fill=\"black\" stroke=\"black\" points=\"221.89,-284.61 213.187,-278.568 216.223,-288.719 221.89,-284.61\"/>\n",
       "</g>\n",
       "<!-- conv2/Conv2D -->\n",
       "<g id=\"node12\" class=\"node\"><title>conv2/Conv2D</title>\n",
       "<ellipse fill=\"#ddd8dc\" stroke=\"black\" cx=\"296\" cy=\"-261\" rx=\"40.0939\" ry=\"18\"/>\n",
       "<text text-anchor=\"middle\" x=\"296\" y=\"-257.3\" font-family=\"Times,serif\" font-size=\"14.00\">Conv2D</text>\n",
       "</g>\n",
       "<!-- conv2/W&#45;&gt;conv2/Conv2D -->\n",
       "<g id=\"edge10\" class=\"edge\"><title>conv2/W&#45;&gt;conv2/Conv2D</title>\n",
       "<path fill=\"none\" stroke=\"black\" d=\"M298.364,-325.822C297.97,-315.19 297.456,-301.306 297.008,-289.204\"/>\n",
       "<polygon fill=\"black\" stroke=\"black\" points=\"300.503,-289.017 296.635,-279.153 293.508,-289.276 300.503,-289.017\"/>\n",
       "</g>\n",
       "<!-- conv2/Const -->\n",
       "<g id=\"node10\" class=\"node\"><title>conv2/Const</title>\n",
       "<ellipse fill=\"yellow\" stroke=\"black\" cx=\"47\" cy=\"-261\" rx=\"31.3957\" ry=\"18\"/>\n",
       "<text text-anchor=\"middle\" x=\"47\" y=\"-257.3\" font-family=\"Times,serif\" font-size=\"14.00\">Const</text>\n",
       "</g>\n",
       "<!-- conv2/Const&#45;&gt;conv2/b/Assign -->\n",
       "<g id=\"edge4\" class=\"edge\"><title>conv2/Const&#45;&gt;conv2/b/Assign</title>\n",
       "<path fill=\"none\" stroke=\"black\" d=\"M55.9041,-243.608C62.0065,-232.374 70.2225,-217.249 77.171,-204.458\"/>\n",
       "<polygon fill=\"black\" stroke=\"black\" points=\"80.2603,-206.103 81.9582,-195.645 74.1093,-202.762 80.2603,-206.103\"/>\n",
       "</g>\n",
       "<!-- conv2/b -->\n",
       "<g id=\"node11\" class=\"node\"><title>conv2/b</title>\n",
       "<ellipse fill=\"#ffbbbb\" stroke=\"black\" cx=\"123\" cy=\"-261\" rx=\"27\" ry=\"18\"/>\n",
       "<text text-anchor=\"middle\" x=\"123\" y=\"-257.3\" font-family=\"Times,serif\" font-size=\"14.00\">b</text>\n",
       "</g>\n",
       "<!-- conv2/b&#45;&gt;conv2/b/Assign -->\n",
       "<g id=\"edge9\" class=\"edge\"><title>conv2/b&#45;&gt;conv2/b/Assign</title>\n",
       "<path fill=\"none\" stroke=\"black\" d=\"M116.37,-243.217C112.036,-232.248 106.287,-217.694 101.357,-205.216\"/>\n",
       "<polygon fill=\"black\" stroke=\"black\" points=\"104.551,-203.776 97.6219,-195.762 98.0411,-206.348 104.551,-203.776\"/>\n",
       "</g>\n",
       "<!-- conv2/add -->\n",
       "<g id=\"node13\" class=\"node\"><title>conv2/add</title>\n",
       "<ellipse fill=\"#c5acbc\" stroke=\"black\" cx=\"231\" cy=\"-178\" rx=\"27\" ry=\"18\"/>\n",
       "<text text-anchor=\"middle\" x=\"231\" y=\"-174.3\" font-family=\"Times,serif\" font-size=\"14.00\">add</text>\n",
       "</g>\n",
       "<!-- conv2/b&#45;&gt;conv2/add -->\n",
       "<g id=\"edge7\" class=\"edge\"><title>conv2/b&#45;&gt;conv2/add</title>\n",
       "<path fill=\"none\" stroke=\"black\" d=\"M140.111,-247.002C145.217,-243.132 150.83,-238.888 156,-235 172.501,-222.589 191.099,-208.703 205.646,-197.863\"/>\n",
       "<polygon fill=\"black\" stroke=\"black\" points=\"207.768,-200.647 213.697,-191.866 203.586,-195.033 207.768,-200.647\"/>\n",
       "</g>\n",
       "<!-- conv2/Conv2D&#45;&gt;conv2/add -->\n",
       "<g id=\"edge6\" class=\"edge\"><title>conv2/Conv2D&#45;&gt;conv2/add</title>\n",
       "<path fill=\"none\" stroke=\"black\" d=\"M282.846,-243.608C273.352,-231.777 260.394,-215.63 249.808,-202.438\"/>\n",
       "<polygon fill=\"black\" stroke=\"black\" points=\"252.243,-199.88 243.255,-194.271 246.784,-204.261 252.243,-199.88\"/>\n",
       "</g>\n",
       "<!-- conv2/Relu -->\n",
       "<g id=\"node14\" class=\"node\"><title>conv2/Relu</title>\n",
       "<ellipse fill=\"#f0b3f7\" stroke=\"black\" cx=\"231\" cy=\"-106\" rx=\"27.0966\" ry=\"18\"/>\n",
       "<text text-anchor=\"middle\" x=\"231\" y=\"-102.3\" font-family=\"Times,serif\" font-size=\"14.00\">Relu</text>\n",
       "</g>\n",
       "<!-- conv2/add&#45;&gt;conv2/Relu -->\n",
       "<g id=\"edge12\" class=\"edge\"><title>conv2/add&#45;&gt;conv2/Relu</title>\n",
       "<path fill=\"none\" stroke=\"black\" d=\"M231,-159.697C231,-151.983 231,-142.712 231,-134.112\"/>\n",
       "<polygon fill=\"black\" stroke=\"black\" points=\"234.5,-134.104 231,-124.104 227.5,-134.104 234.5,-134.104\"/>\n",
       "</g>\n",
       "<!-- conv2/MaxPool -->\n",
       "<g id=\"node15\" class=\"node\"><title>conv2/MaxPool</title>\n",
       "<ellipse fill=\"#d5c0aa\" stroke=\"black\" cx=\"231\" cy=\"-34\" rx=\"43.5923\" ry=\"18\"/>\n",
       "<text text-anchor=\"middle\" x=\"231\" y=\"-30.3\" font-family=\"Times,serif\" font-size=\"14.00\">MaxPool</text>\n",
       "</g>\n",
       "<!-- conv2/Relu&#45;&gt;conv2/MaxPool -->\n",
       "<g id=\"edge13\" class=\"edge\"><title>conv2/Relu&#45;&gt;conv2/MaxPool</title>\n",
       "<path fill=\"none\" stroke=\"black\" d=\"M231,-87.6966C231,-79.9827 231,-70.7125 231,-62.1124\"/>\n",
       "<polygon fill=\"black\" stroke=\"black\" points=\"234.5,-62.1043 231,-52.1043 227.5,-62.1044 234.5,-62.1043\"/>\n",
       "</g>\n",
       "<!-- conv1/truncated_normal/shape -->\n",
       "<g id=\"node16\" class=\"node\"><title>conv1/truncated_normal/shape</title>\n",
       "<ellipse fill=\"yellow\" stroke=\"black\" cx=\"490\" cy=\"-896\" rx=\"30.5947\" ry=\"18\"/>\n",
       "<text text-anchor=\"middle\" x=\"490\" y=\"-892.3\" font-family=\"Times,serif\" font-size=\"14.00\">shape</text>\n",
       "</g>\n",
       "<!-- conv1/truncated_normal/TruncatedNormal -->\n",
       "<g id=\"node19\" class=\"node\"><title>conv1/truncated_normal/TruncatedNormal</title>\n",
       "<ellipse fill=\"#ccedbc\" stroke=\"black\" cx=\"527\" cy=\"-824\" rx=\"73.387\" ry=\"18\"/>\n",
       "<text text-anchor=\"middle\" x=\"527\" y=\"-820.3\" font-family=\"Times,serif\" font-size=\"14.00\">TruncatedNormal</text>\n",
       "</g>\n",
       "<!-- conv1/truncated_normal/shape&#45;&gt;conv1/truncated_normal/TruncatedNormal -->\n",
       "<g id=\"edge16\" class=\"edge\"><title>conv1/truncated_normal/shape&#45;&gt;conv1/truncated_normal/TruncatedNormal</title>\n",
       "<path fill=\"none\" stroke=\"black\" d=\"M498.768,-878.411C503.083,-870.249 508.384,-860.22 513.223,-851.065\"/>\n",
       "<polygon fill=\"black\" stroke=\"black\" points=\"516.459,-852.433 518.037,-841.956 510.27,-849.162 516.459,-852.433\"/>\n",
       "</g>\n",
       "<!-- conv1/truncated_normal/mean -->\n",
       "<g id=\"node17\" class=\"node\"><title>conv1/truncated_normal/mean</title>\n",
       "<ellipse fill=\"yellow\" stroke=\"black\" cx=\"569\" cy=\"-896\" rx=\"30.5947\" ry=\"18\"/>\n",
       "<text text-anchor=\"middle\" x=\"569\" y=\"-892.3\" font-family=\"Times,serif\" font-size=\"14.00\">mean</text>\n",
       "</g>\n",
       "<!-- conv1/truncated_normal -->\n",
       "<g id=\"node24\" class=\"node\"><title>conv1/truncated_normal</title>\n",
       "<ellipse fill=\"#c5acbc\" stroke=\"black\" cx=\"472\" cy=\"-677\" rx=\"73.387\" ry=\"18\"/>\n",
       "<text text-anchor=\"middle\" x=\"472\" y=\"-673.3\" font-family=\"Times,serif\" font-size=\"14.00\">truncated_normal</text>\n",
       "</g>\n",
       "<!-- conv1/truncated_normal/mean&#45;&gt;conv1/truncated_normal -->\n",
       "<g id=\"edge21\" class=\"edge\"><title>conv1/truncated_normal/mean&#45;&gt;conv1/truncated_normal</title>\n",
       "<path fill=\"none\" stroke=\"black\" d=\"M584.252,-880.342C593.364,-870.482 604.093,-856.647 609,-842 614.082,-826.829 615.373,-820.676 609,-806 588.529,-758.859 541.196,-721.177 507.922,-699.218\"/>\n",
       "<polygon fill=\"black\" stroke=\"black\" points=\"509.671,-696.182 499.368,-693.713 505.883,-702.068 509.671,-696.182\"/>\n",
       "</g>\n",
       "<!-- conv1/truncated_normal/stddev -->\n",
       "<g id=\"node18\" class=\"node\"><title>conv1/truncated_normal/stddev</title>\n",
       "<ellipse fill=\"yellow\" stroke=\"black\" cx=\"402\" cy=\"-824\" rx=\"33.5952\" ry=\"18\"/>\n",
       "<text text-anchor=\"middle\" x=\"402\" y=\"-820.3\" font-family=\"Times,serif\" font-size=\"14.00\">stddev</text>\n",
       "</g>\n",
       "<!-- conv1/truncated_normal/mul -->\n",
       "<g id=\"node20\" class=\"node\"><title>conv1/truncated_normal/mul</title>\n",
       "<ellipse fill=\"#cbf6e3\" stroke=\"black\" cx=\"472\" cy=\"-749\" rx=\"27\" ry=\"18\"/>\n",
       "<text text-anchor=\"middle\" x=\"472\" y=\"-745.3\" font-family=\"Times,serif\" font-size=\"14.00\">mul</text>\n",
       "</g>\n",
       "<!-- conv1/truncated_normal/stddev&#45;&gt;conv1/truncated_normal/mul -->\n",
       "<g id=\"edge17\" class=\"edge\"><title>conv1/truncated_normal/stddev&#45;&gt;conv1/truncated_normal/mul</title>\n",
       "<path fill=\"none\" stroke=\"black\" d=\"M416.845,-807.519C426.758,-797.181 439.943,-783.431 450.935,-771.967\"/>\n",
       "<polygon fill=\"black\" stroke=\"black\" points=\"453.733,-774.106 458.128,-764.466 448.681,-769.261 453.733,-774.106\"/>\n",
       "</g>\n",
       "<!-- conv1/truncated_normal/TruncatedNormal&#45;&gt;conv1/truncated_normal/mul -->\n",
       "<g id=\"edge15\" class=\"edge\"><title>conv1/truncated_normal/TruncatedNormal&#45;&gt;conv1/truncated_normal/mul</title>\n",
       "<path fill=\"none\" stroke=\"black\" d=\"M510.275,-806.455C507.748,-803.709 505.24,-800.831 503,-798 497.25,-790.73 491.567,-782.373 486.669,-774.69\"/>\n",
       "<polygon fill=\"black\" stroke=\"black\" points=\"489.574,-772.733 481.322,-766.087 483.628,-776.428 489.574,-772.733\"/>\n",
       "</g>\n",
       "<!-- conv1/truncated_normal/mul&#45;&gt;conv1/truncated_normal -->\n",
       "<g id=\"edge20\" class=\"edge\"><title>conv1/truncated_normal/mul&#45;&gt;conv1/truncated_normal</title>\n",
       "<path fill=\"none\" stroke=\"black\" d=\"M472,-730.697C472,-722.983 472,-713.712 472,-705.112\"/>\n",
       "<polygon fill=\"black\" stroke=\"black\" points=\"475.5,-705.104 472,-695.104 468.5,-705.104 475.5,-705.104\"/>\n",
       "</g>\n",
       "<!-- conv1/Reshape/shape -->\n",
       "<g id=\"node21\" class=\"node\"><title>conv1/Reshape/shape</title>\n",
       "<ellipse fill=\"yellow\" stroke=\"black\" cx=\"675\" cy=\"-749\" rx=\"30.5947\" ry=\"18\"/>\n",
       "<text text-anchor=\"middle\" x=\"675\" y=\"-745.3\" font-family=\"Times,serif\" font-size=\"14.00\">shape</text>\n",
       "</g>\n",
       "<!-- conv1/Reshape -->\n",
       "<g id=\"node28\" class=\"node\"><title>conv1/Reshape</title>\n",
       "<ellipse fill=\"#a7ba9d\" stroke=\"black\" cx=\"675\" cy=\"-677\" rx=\"40.0939\" ry=\"18\"/>\n",
       "<text text-anchor=\"middle\" x=\"675\" y=\"-673.3\" font-family=\"Times,serif\" font-size=\"14.00\">Reshape</text>\n",
       "</g>\n",
       "<!-- conv1/Reshape/shape&#45;&gt;conv1/Reshape -->\n",
       "<g id=\"edge29\" class=\"edge\"><title>conv1/Reshape/shape&#45;&gt;conv1/Reshape</title>\n",
       "<path fill=\"none\" stroke=\"black\" d=\"M675,-730.697C675,-722.983 675,-713.712 675,-705.112\"/>\n",
       "<polygon fill=\"black\" stroke=\"black\" points=\"678.5,-705.104 675,-695.104 671.5,-705.104 678.5,-705.104\"/>\n",
       "</g>\n",
       "<!-- conv1/b/Assign -->\n",
       "<g id=\"node22\" class=\"node\"><title>conv1/b/Assign</title>\n",
       "<ellipse fill=\"#bbbbff\" stroke=\"black\" cx=\"403\" cy=\"-488\" rx=\"35.194\" ry=\"18\"/>\n",
       "<text text-anchor=\"middle\" x=\"403\" y=\"-484.3\" font-family=\"Times,serif\" font-size=\"14.00\">Assign</text>\n",
       "</g>\n",
       "<!-- conv1/W/Assign -->\n",
       "<g id=\"node23\" class=\"node\"><title>conv1/W/Assign</title>\n",
       "<ellipse fill=\"#bbbbff\" stroke=\"black\" cx=\"553\" cy=\"-571\" rx=\"35.194\" ry=\"18\"/>\n",
       "<text text-anchor=\"middle\" x=\"553\" y=\"-567.3\" font-family=\"Times,serif\" font-size=\"14.00\">Assign</text>\n",
       "</g>\n",
       "<!-- conv1/truncated_normal&#45;&gt;conv1/W/Assign -->\n",
       "<g id=\"edge22\" class=\"edge\"><title>conv1/truncated_normal&#45;&gt;conv1/W/Assign</title>\n",
       "<path fill=\"none\" stroke=\"black\" d=\"M502.943,-660.454C506.95,-657.648 510.774,-654.489 514,-651 527.844,-636.026 537.847,-615.221 544.254,-598.72\"/>\n",
       "<polygon fill=\"black\" stroke=\"black\" points=\"547.627,-599.687 547.781,-589.093 541.054,-597.279 547.627,-599.687\"/>\n",
       "</g>\n",
       "<!-- conv1/W -->\n",
       "<g id=\"node25\" class=\"node\"><title>conv1/W</title>\n",
       "<ellipse fill=\"#ffbbbb\" stroke=\"black\" cx=\"590\" cy=\"-677\" rx=\"27\" ry=\"18\"/>\n",
       "<text text-anchor=\"middle\" x=\"590\" y=\"-673.3\" font-family=\"Times,serif\" font-size=\"14.00\">W</text>\n",
       "</g>\n",
       "<!-- conv1/W&#45;&gt;conv1/W/Assign -->\n",
       "<g id=\"edge18\" class=\"edge\"><title>conv1/W&#45;&gt;conv1/W/Assign</title>\n",
       "<path fill=\"none\" stroke=\"black\" d=\"M584.055,-659.291C578.237,-642.937 569.282,-617.766 562.481,-598.648\"/>\n",
       "<polygon fill=\"black\" stroke=\"black\" points=\"565.702,-597.262 559.053,-589.013 559.107,-599.608 565.702,-597.262\"/>\n",
       "</g>\n",
       "<!-- conv1/Conv2D -->\n",
       "<g id=\"node29\" class=\"node\"><title>conv1/Conv2D</title>\n",
       "<ellipse fill=\"#ddd8dc\" stroke=\"black\" cx=\"646\" cy=\"-571\" rx=\"40.0939\" ry=\"18\"/>\n",
       "<text text-anchor=\"middle\" x=\"646\" y=\"-567.3\" font-family=\"Times,serif\" font-size=\"14.00\">Conv2D</text>\n",
       "</g>\n",
       "<!-- conv1/W&#45;&gt;conv1/Conv2D -->\n",
       "<g id=\"edge23\" class=\"edge\"><title>conv1/W&#45;&gt;conv1/Conv2D</title>\n",
       "<path fill=\"none\" stroke=\"black\" d=\"M598.75,-659.75C607.685,-643.156 621.69,-617.147 632.136,-597.748\"/>\n",
       "<polygon fill=\"black\" stroke=\"black\" points=\"635.281,-599.289 636.94,-588.825 629.118,-595.97 635.281,-599.289\"/>\n",
       "</g>\n",
       "<!-- conv1/Const -->\n",
       "<g id=\"node26\" class=\"node\"><title>conv1/Const</title>\n",
       "<ellipse fill=\"yellow\" stroke=\"black\" cx=\"397\" cy=\"-571\" rx=\"31.3957\" ry=\"18\"/>\n",
       "<text text-anchor=\"middle\" x=\"397\" y=\"-567.3\" font-family=\"Times,serif\" font-size=\"14.00\">Const</text>\n",
       "</g>\n",
       "<!-- conv1/Const&#45;&gt;conv1/b/Assign -->\n",
       "<g id=\"edge24\" class=\"edge\"><title>conv1/Const&#45;&gt;conv1/b/Assign</title>\n",
       "<path fill=\"none\" stroke=\"black\" d=\"M398.272,-552.822C399.06,-542.19 400.088,-528.306 400.985,-516.204\"/>\n",
       "<polygon fill=\"black\" stroke=\"black\" points=\"404.481,-516.385 401.729,-506.153 397.5,-515.867 404.481,-516.385\"/>\n",
       "</g>\n",
       "<!-- conv1/b -->\n",
       "<g id=\"node27\" class=\"node\"><title>conv1/b</title>\n",
       "<ellipse fill=\"#ffbbbb\" stroke=\"black\" cx=\"473\" cy=\"-571\" rx=\"27\" ry=\"18\"/>\n",
       "<text text-anchor=\"middle\" x=\"473\" y=\"-567.3\" font-family=\"Times,serif\" font-size=\"14.00\">b</text>\n",
       "</g>\n",
       "<!-- conv1/b&#45;&gt;conv1/b/Assign -->\n",
       "<g id=\"edge30\" class=\"edge\"><title>conv1/b&#45;&gt;conv1/b/Assign</title>\n",
       "<path fill=\"none\" stroke=\"black\" d=\"M458.881,-555.424C453.505,-549.756 447.38,-543.156 442,-537 435.358,-529.4 428.336,-520.91 422.108,-513.208\"/>\n",
       "<polygon fill=\"black\" stroke=\"black\" points=\"424.704,-510.85 415.717,-505.239 419.243,-515.23 424.704,-510.85\"/>\n",
       "</g>\n",
       "<!-- conv1/add -->\n",
       "<g id=\"node30\" class=\"node\"><title>conv1/add</title>\n",
       "<ellipse fill=\"#c5acbc\" stroke=\"black\" cx=\"483\" cy=\"-488\" rx=\"27\" ry=\"18\"/>\n",
       "<text text-anchor=\"middle\" x=\"483\" y=\"-484.3\" font-family=\"Times,serif\" font-size=\"14.00\">add</text>\n",
       "</g>\n",
       "<!-- conv1/b&#45;&gt;conv1/add -->\n",
       "<g id=\"edge25\" class=\"edge\"><title>conv1/b&#45;&gt;conv1/add</title>\n",
       "<path fill=\"none\" stroke=\"black\" d=\"M475.121,-552.822C476.433,-542.19 478.147,-528.306 479.642,-516.204\"/>\n",
       "<polygon fill=\"black\" stroke=\"black\" points=\"483.131,-516.507 480.882,-506.153 476.183,-515.649 483.131,-516.507\"/>\n",
       "</g>\n",
       "<!-- conv1/Reshape&#45;&gt;conv1/Conv2D -->\n",
       "<g id=\"edge28\" class=\"edge\"><title>conv1/Reshape&#45;&gt;conv1/Conv2D</title>\n",
       "<path fill=\"none\" stroke=\"black\" d=\"M670.211,-658.827C665.678,-642.568 658.8,-617.903 653.532,-599.011\"/>\n",
       "<polygon fill=\"black\" stroke=\"black\" points=\"656.853,-597.891 650.796,-589.199 650.111,-599.772 656.853,-597.891\"/>\n",
       "</g>\n",
       "<!-- conv1/Conv2D&#45;&gt;conv1/add -->\n",
       "<g id=\"edge27\" class=\"edge\"><title>conv1/Conv2D&#45;&gt;conv1/add</title>\n",
       "<path fill=\"none\" stroke=\"black\" d=\"M621.773,-556.531C614.785,-552.728 607.124,-548.638 600,-545 571.091,-530.238 537.645,-514.346 513.935,-503.277\"/>\n",
       "<polygon fill=\"black\" stroke=\"black\" points=\"515.27,-500.038 504.727,-498.992 512.317,-506.384 515.27,-500.038\"/>\n",
       "</g>\n",
       "<!-- conv1/Relu -->\n",
       "<g id=\"node31\" class=\"node\"><title>conv1/Relu</title>\n",
       "<ellipse fill=\"#f0b3f7\" stroke=\"black\" cx=\"463\" cy=\"-416\" rx=\"27.0966\" ry=\"18\"/>\n",
       "<text text-anchor=\"middle\" x=\"463\" y=\"-412.3\" font-family=\"Times,serif\" font-size=\"14.00\">Relu</text>\n",
       "</g>\n",
       "<!-- conv1/add&#45;&gt;conv1/Relu -->\n",
       "<g id=\"edge19\" class=\"edge\"><title>conv1/add&#45;&gt;conv1/Relu</title>\n",
       "<path fill=\"none\" stroke=\"black\" d=\"M478.159,-470.055C475.898,-462.145 473.154,-452.54 470.625,-443.688\"/>\n",
       "<polygon fill=\"black\" stroke=\"black\" points=\"473.909,-442.443 467.797,-433.789 467.179,-444.366 473.909,-442.443\"/>\n",
       "</g>\n",
       "<!-- conv1/MaxPool -->\n",
       "<g id=\"node32\" class=\"node\"><title>conv1/MaxPool</title>\n",
       "<ellipse fill=\"#d5c0aa\" stroke=\"black\" cx=\"424\" cy=\"-344\" rx=\"43.5923\" ry=\"18\"/>\n",
       "<text text-anchor=\"middle\" x=\"424\" y=\"-340.3\" font-family=\"Times,serif\" font-size=\"14.00\">MaxPool</text>\n",
       "</g>\n",
       "<!-- conv1/Relu&#45;&gt;conv1/MaxPool -->\n",
       "<g id=\"edge26\" class=\"edge\"><title>conv1/Relu&#45;&gt;conv1/MaxPool</title>\n",
       "<path fill=\"none\" stroke=\"black\" d=\"M453.955,-398.765C449.297,-390.404 443.509,-380.016 438.266,-370.606\"/>\n",
       "<polygon fill=\"black\" stroke=\"black\" points=\"441.192,-368.666 433.267,-361.633 435.077,-372.073 441.192,-368.666\"/>\n",
       "</g>\n",
       "<!-- conv1/MaxPool&#45;&gt;conv2/Conv2D -->\n",
       "<g id=\"edge31\" class=\"edge\"><title>conv1/MaxPool&#45;&gt;conv2/Conv2D</title>\n",
       "<path fill=\"none\" stroke=\"black\" d=\"M401.116,-328.519C380.421,-315.423 349.779,-296.032 326.911,-281.561\"/>\n",
       "<polygon fill=\"black\" stroke=\"black\" points=\"328.579,-278.474 318.257,-276.085 324.836,-284.39 328.579,-278.474\"/>\n",
       "</g>\n",
       "<!-- x -->\n",
       "<g id=\"node33\" class=\"node\"><title>x</title>\n",
       "<ellipse fill=\"#a5bfd8\" stroke=\"black\" cx=\"758\" cy=\"-749\" rx=\"27\" ry=\"18\"/>\n",
       "<text text-anchor=\"middle\" x=\"758\" y=\"-745.3\" font-family=\"Times,serif\" font-size=\"14.00\">x</text>\n",
       "</g>\n",
       "<!-- x&#45;&gt;conv1/Reshape -->\n",
       "<g id=\"edge32\" class=\"edge\"><title>x&#45;&gt;conv1/Reshape</title>\n",
       "<path fill=\"none\" stroke=\"black\" d=\"M741.602,-734.17C730.021,-724.403 714.263,-711.114 700.983,-699.913\"/>\n",
       "<polygon fill=\"black\" stroke=\"black\" points=\"702.994,-697.031 693.093,-693.259 698.481,-702.382 702.994,-697.031\"/>\n",
       "</g>\n",
       "<!-- y_ -->\n",
       "<g id=\"node34\" class=\"node\"><title>y_</title>\n",
       "<ellipse fill=\"#a5bfd8\" stroke=\"black\" cx=\"758\" cy=\"-896\" rx=\"27\" ry=\"18\"/>\n",
       "<text text-anchor=\"middle\" x=\"758\" y=\"-892.3\" font-family=\"Times,serif\" font-size=\"14.00\">y_</text>\n",
       "</g>\n",
       "</g>\n",
       "</svg>\n"
      ],
      "text/plain": [
       "<graphviz.dot.Digraph at 0x7efd1bff8f50>"
      ]
     },
     "execution_count": 8,
     "metadata": {},
     "output_type": "execute_result"
    }
   ],
   "source": [
    "tfdot()"
   ]
  },
  {
   "cell_type": "code",
   "execution_count": 9,
   "metadata": {
    "collapsed": false
   },
   "outputs": [],
   "source": [
    "# fully-connected layer\n",
    "with tf.name_scope('full'):\n",
    "    W_fc1 = weight_variable([7*7*64, 1024])\n",
    "    b_fc1 = bias_variable([1024])\n",
    "    h_pool2_flat = tf.reshape(h_pool2, [-1, 7*7*64])\n",
    "    h_fc1 = tf.nn.relu(tf.matmul(h_pool2_flat, W_fc1)+b_fc1)"
   ]
  },
  {
   "cell_type": "code",
   "execution_count": 10,
   "metadata": {
    "collapsed": false
   },
   "outputs": [
    {
     "data": {
      "image/svg+xml": [
       "<?xml version=\"1.0\" encoding=\"UTF-8\" standalone=\"no\"?>\n",
       "<!DOCTYPE svg PUBLIC \"-//W3C//DTD SVG 1.1//EN\"\n",
       " \"http://www.w3.org/Graphics/SVG/1.1/DTD/svg11.dtd\">\n",
       "<!-- Generated by graphviz version 2.38.0 (20140413.2041)\n",
       " -->\n",
       "<!-- Title: root Pages: 1 -->\n",
       "<svg width=\"793pt\" height=\"1328pt\"\n",
       " viewBox=\"0.00 0.00 793.00 1328.00\" xmlns=\"http://www.w3.org/2000/svg\" xmlns:xlink=\"http://www.w3.org/1999/xlink\">\n",
       "<g id=\"graph0\" class=\"graph\" transform=\"scale(1 1) rotate(0) translate(4 1324)\">\n",
       "<title>root</title>\n",
       "<polygon fill=\"white\" stroke=\"none\" points=\"-4,4 -4,-1324 789,-1324 789,4 -4,4\"/>\n",
       "<g id=\"clust1\" class=\"cluster\"><title>cluster_conv2</title>\n",
       "<polygon fill=\"none\" stroke=\"black\" points=\"8,-310 8,-987 344,-987 344,-310 8,-310\"/>\n",
       "<text text-anchor=\"middle\" x=\"176\" y=\"-971.8\" font-family=\"Times,serif\" font-size=\"14.00\">conv2</text>\n",
       "</g>\n",
       "<g id=\"clust2\" class=\"cluster\"><title>cluster_conv2/truncated_normal</title>\n",
       "<polygon fill=\"none\" stroke=\"black\" points=\"16,-726 16,-956 264,-956 264,-726 16,-726\"/>\n",
       "<text text-anchor=\"middle\" x=\"140\" y=\"-940.8\" font-family=\"Times,serif\" font-size=\"14.00\">conv2/truncated_normal</text>\n",
       "</g>\n",
       "<g id=\"clust3\" class=\"cluster\"><title>cluster_conv2/b</title>\n",
       "<polygon fill=\"none\" stroke=\"black\" points=\"48,-457 48,-532 134,-532 134,-457 48,-457\"/>\n",
       "<text text-anchor=\"middle\" x=\"91\" y=\"-516.8\" font-family=\"Times,serif\" font-size=\"14.00\">conv2/b</text>\n",
       "</g>\n",
       "<g id=\"clust4\" class=\"cluster\"><title>cluster_conv2/W</title>\n",
       "<polygon fill=\"none\" stroke=\"black\" points=\"160,-571 160,-646 246,-646 246,-571 160,-571\"/>\n",
       "<text text-anchor=\"middle\" x=\"203\" y=\"-630.8\" font-family=\"Times,serif\" font-size=\"14.00\">conv2/W</text>\n",
       "</g>\n",
       "<g id=\"clust5\" class=\"cluster\"><title>cluster_conv1</title>\n",
       "<polygon fill=\"none\" stroke=\"black\" points=\"352,-654 352,-1312 723,-1312 723,-654 352,-654\"/>\n",
       "<text text-anchor=\"middle\" x=\"537.5\" y=\"-1296.8\" font-family=\"Times,serif\" font-size=\"14.00\">conv1</text>\n",
       "</g>\n",
       "<g id=\"clust6\" class=\"cluster\"><title>cluster_conv1/truncated_normal</title>\n",
       "<polygon fill=\"none\" stroke=\"black\" points=\"360,-1059 360,-1281 608,-1281 608,-1059 360,-1059\"/>\n",
       "<text text-anchor=\"middle\" x=\"484\" y=\"-1265.8\" font-family=\"Times,serif\" font-size=\"14.00\">conv1/truncated_normal</text>\n",
       "</g>\n",
       "<g id=\"clust7\" class=\"cluster\"><title>cluster_conv1/Reshape</title>\n",
       "<polygon fill=\"none\" stroke=\"black\" points=\"616,-1059 616,-1134 715,-1134 715,-1059 616,-1059\"/>\n",
       "<text text-anchor=\"middle\" x=\"665.5\" y=\"-1118.8\" font-family=\"Times,serif\" font-size=\"14.00\">conv1/Reshape</text>\n",
       "</g>\n",
       "<g id=\"clust8\" class=\"cluster\"><title>cluster_conv1/b</title>\n",
       "<polygon fill=\"none\" stroke=\"black\" points=\"360,-798 360,-873 446,-873 446,-798 360,-798\"/>\n",
       "<text text-anchor=\"middle\" x=\"403\" y=\"-857.8\" font-family=\"Times,serif\" font-size=\"14.00\">conv1/b</text>\n",
       "</g>\n",
       "<g id=\"clust9\" class=\"cluster\"><title>cluster_conv1/W</title>\n",
       "<polygon fill=\"none\" stroke=\"black\" points=\"510,-881 510,-956 596,-956 596,-881 510,-881\"/>\n",
       "<text text-anchor=\"middle\" x=\"553\" y=\"-940.8\" font-family=\"Times,serif\" font-size=\"14.00\">conv1/W</text>\n",
       "</g>\n",
       "<g id=\"clust10\" class=\"cluster\"><title>cluster_full</title>\n",
       "<polygon fill=\"none\" stroke=\"black\" points=\"352,-8 352,-563 721,-563 721,-8 352,-8\"/>\n",
       "<text text-anchor=\"middle\" x=\"536.5\" y=\"-547.8\" font-family=\"Times,serif\" font-size=\"14.00\">full</text>\n",
       "</g>\n",
       "<g id=\"clust11\" class=\"cluster\"><title>cluster_full/Reshape</title>\n",
       "<polygon fill=\"none\" stroke=\"black\" points=\"360,-310 360,-385 445,-385 445,-310 360,-310\"/>\n",
       "<text text-anchor=\"middle\" x=\"402.5\" y=\"-369.8\" font-family=\"Times,serif\" font-size=\"14.00\">full/Reshape</text>\n",
       "</g>\n",
       "<g id=\"clust12\" class=\"cluster\"><title>cluster_full/b</title>\n",
       "<polygon fill=\"none\" stroke=\"black\" points=\"392,-80 392,-155 478,-155 478,-80 392,-80\"/>\n",
       "<text text-anchor=\"middle\" x=\"435\" y=\"-139.8\" font-family=\"Times,serif\" font-size=\"14.00\">full/b</text>\n",
       "</g>\n",
       "<g id=\"clust13\" class=\"cluster\"><title>cluster_full/truncated_normal</title>\n",
       "<polygon fill=\"none\" stroke=\"black\" points=\"453,-310 453,-532 701,-532 701,-310 453,-310\"/>\n",
       "<text text-anchor=\"middle\" x=\"577\" y=\"-516.8\" font-family=\"Times,serif\" font-size=\"14.00\">full/truncated_normal</text>\n",
       "</g>\n",
       "<g id=\"clust14\" class=\"cluster\"><title>cluster_full/W</title>\n",
       "<polygon fill=\"none\" stroke=\"black\" points=\"602,-163 602,-238 688,-238 688,-163 602,-163\"/>\n",
       "<text text-anchor=\"middle\" x=\"645\" y=\"-222.8\" font-family=\"Times,serif\" font-size=\"14.00\">full/W</text>\n",
       "</g>\n",
       "<!-- conv2/truncated_normal/shape -->\n",
       "<g id=\"node1\" class=\"node\"><title>conv2/truncated_normal/shape</title>\n",
       "<ellipse fill=\"yellow\" stroke=\"black\" cx=\"146\" cy=\"-907\" rx=\"30.5947\" ry=\"18\"/>\n",
       "<text text-anchor=\"middle\" x=\"146\" y=\"-903.3\" font-family=\"Times,serif\" font-size=\"14.00\">shape</text>\n",
       "</g>\n",
       "<!-- conv2/truncated_normal/TruncatedNormal -->\n",
       "<g id=\"node4\" class=\"node\"><title>conv2/truncated_normal/TruncatedNormal</title>\n",
       "<ellipse fill=\"#ccedbc\" stroke=\"black\" cx=\"183\" cy=\"-824\" rx=\"73.387\" ry=\"18\"/>\n",
       "<text text-anchor=\"middle\" x=\"183\" y=\"-820.3\" font-family=\"Times,serif\" font-size=\"14.00\">TruncatedNormal</text>\n",
       "</g>\n",
       "<!-- conv2/truncated_normal/shape&#45;&gt;conv2/truncated_normal/TruncatedNormal -->\n",
       "<g id=\"edge1\" class=\"edge\"><title>conv2/truncated_normal/shape&#45;&gt;conv2/truncated_normal/TruncatedNormal</title>\n",
       "<path fill=\"none\" stroke=\"black\" d=\"M153.666,-889.217C158.644,-878.321 165.236,-863.888 170.911,-851.466\"/>\n",
       "<polygon fill=\"black\" stroke=\"black\" points=\"174.245,-852.591 175.216,-842.04 167.878,-849.682 174.245,-852.591\"/>\n",
       "</g>\n",
       "<!-- conv2/truncated_normal/mean -->\n",
       "<g id=\"node2\" class=\"node\"><title>conv2/truncated_normal/mean</title>\n",
       "<ellipse fill=\"yellow\" stroke=\"black\" cx=\"225\" cy=\"-907\" rx=\"30.5947\" ry=\"18\"/>\n",
       "<text text-anchor=\"middle\" x=\"225\" y=\"-903.3\" font-family=\"Times,serif\" font-size=\"14.00\">mean</text>\n",
       "</g>\n",
       "<!-- conv2/truncated_normal -->\n",
       "<g id=\"node8\" class=\"node\"><title>conv2/truncated_normal</title>\n",
       "<ellipse fill=\"#c5acbc\" stroke=\"black\" cx=\"181\" cy=\"-680\" rx=\"73.387\" ry=\"18\"/>\n",
       "<text text-anchor=\"middle\" x=\"181\" y=\"-676.3\" font-family=\"Times,serif\" font-size=\"14.00\">truncated_normal</text>\n",
       "</g>\n",
       "<!-- conv2/truncated_normal/mean&#45;&gt;conv2/truncated_normal -->\n",
       "<g id=\"edge5\" class=\"edge\"><title>conv2/truncated_normal/mean&#45;&gt;conv2/truncated_normal</title>\n",
       "<path fill=\"none\" stroke=\"black\" d=\"M246.337,-893.871C253.658,-888.503 261.008,-881.469 265,-873 279.213,-842.849 274.659,-829.903 265,-798 253.916,-761.392 226.087,-726.759 205.482,-704.812\"/>\n",
       "<polygon fill=\"black\" stroke=\"black\" points=\"207.991,-702.372 198.534,-697.595 202.948,-707.227 207.991,-702.372\"/>\n",
       "</g>\n",
       "<!-- conv2/truncated_normal/stddev -->\n",
       "<g id=\"node3\" class=\"node\"><title>conv2/truncated_normal/stddev</title>\n",
       "<ellipse fill=\"yellow\" stroke=\"black\" cx=\"58\" cy=\"-824\" rx=\"33.5952\" ry=\"18\"/>\n",
       "<text text-anchor=\"middle\" x=\"58\" y=\"-820.3\" font-family=\"Times,serif\" font-size=\"14.00\">stddev</text>\n",
       "</g>\n",
       "<!-- conv2/truncated_normal/mul -->\n",
       "<g id=\"node5\" class=\"node\"><title>conv2/truncated_normal/mul</title>\n",
       "<ellipse fill=\"#cbf6e3\" stroke=\"black\" cx=\"181\" cy=\"-752\" rx=\"27\" ry=\"18\"/>\n",
       "<text text-anchor=\"middle\" x=\"181\" y=\"-748.3\" font-family=\"Times,serif\" font-size=\"14.00\">mul</text>\n",
       "</g>\n",
       "<!-- conv2/truncated_normal/stddev&#45;&gt;conv2/truncated_normal/mul -->\n",
       "<g id=\"edge2\" class=\"edge\"><title>conv2/truncated_normal/stddev&#45;&gt;conv2/truncated_normal/mul</title>\n",
       "<path fill=\"none\" stroke=\"black\" d=\"M79.8404,-810.222C86.6106,-806.282 94.1037,-801.944 101,-798 117.839,-788.369 136.754,-777.722 151.962,-769.203\"/>\n",
       "<polygon fill=\"black\" stroke=\"black\" points=\"153.882,-772.139 160.9,-764.202 150.464,-766.031 153.882,-772.139\"/>\n",
       "</g>\n",
       "<!-- conv2/truncated_normal/TruncatedNormal&#45;&gt;conv2/truncated_normal/mul -->\n",
       "<g id=\"edge3\" class=\"edge\"><title>conv2/truncated_normal/TruncatedNormal&#45;&gt;conv2/truncated_normal/mul</title>\n",
       "<path fill=\"none\" stroke=\"black\" d=\"M182.506,-805.697C182.285,-797.983 182.02,-788.712 181.775,-780.112\"/>\n",
       "<polygon fill=\"black\" stroke=\"black\" points=\"185.273,-780 181.489,-770.104 178.276,-780.2 185.273,-780\"/>\n",
       "</g>\n",
       "<!-- conv2/truncated_normal/mul&#45;&gt;conv2/truncated_normal -->\n",
       "<g id=\"edge8\" class=\"edge\"><title>conv2/truncated_normal/mul&#45;&gt;conv2/truncated_normal</title>\n",
       "<path fill=\"none\" stroke=\"black\" d=\"M181,-733.697C181,-725.983 181,-716.712 181,-708.112\"/>\n",
       "<polygon fill=\"black\" stroke=\"black\" points=\"184.5,-708.104 181,-698.104 177.5,-708.104 184.5,-708.104\"/>\n",
       "</g>\n",
       "<!-- conv2/b/Assign -->\n",
       "<g id=\"node6\" class=\"node\"><title>conv2/b/Assign</title>\n",
       "<ellipse fill=\"#bbbbff\" stroke=\"black\" cx=\"91\" cy=\"-483\" rx=\"35.194\" ry=\"18\"/>\n",
       "<text text-anchor=\"middle\" x=\"91\" y=\"-479.3\" font-family=\"Times,serif\" font-size=\"14.00\">Assign</text>\n",
       "</g>\n",
       "<!-- conv2/W/Assign -->\n",
       "<g id=\"node7\" class=\"node\"><title>conv2/W/Assign</title>\n",
       "<ellipse fill=\"#bbbbff\" stroke=\"black\" cx=\"203\" cy=\"-597\" rx=\"35.194\" ry=\"18\"/>\n",
       "<text text-anchor=\"middle\" x=\"203\" y=\"-593.3\" font-family=\"Times,serif\" font-size=\"14.00\">Assign</text>\n",
       "</g>\n",
       "<!-- conv2/truncated_normal&#45;&gt;conv2/W/Assign -->\n",
       "<g id=\"edge11\" class=\"edge\"><title>conv2/truncated_normal&#45;&gt;conv2/W/Assign</title>\n",
       "<path fill=\"none\" stroke=\"black\" d=\"M185.666,-661.822C188.602,-651.01 192.452,-636.835 195.778,-624.591\"/>\n",
       "<polygon fill=\"black\" stroke=\"black\" points=\"199.173,-625.443 198.417,-614.876 192.418,-623.608 199.173,-625.443\"/>\n",
       "</g>\n",
       "<!-- conv2/W -->\n",
       "<g id=\"node9\" class=\"node\"><title>conv2/W</title>\n",
       "<ellipse fill=\"#ffbbbb\" stroke=\"black\" cx=\"299\" cy=\"-680\" rx=\"27\" ry=\"18\"/>\n",
       "<text text-anchor=\"middle\" x=\"299\" y=\"-676.3\" font-family=\"Times,serif\" font-size=\"14.00\">W</text>\n",
       "</g>\n",
       "<!-- conv2/W&#45;&gt;conv2/W/Assign -->\n",
       "<g id=\"edge14\" class=\"edge\"><title>conv2/W&#45;&gt;conv2/W/Assign</title>\n",
       "<path fill=\"none\" stroke=\"black\" d=\"M281.962,-665.905C276.138,-661.777 269.461,-657.409 263,-654 254.166,-649.339 250.092,-651.854 242,-646 233.348,-639.741 225.532,-631.101 219.209,-622.875\"/>\n",
       "<polygon fill=\"black\" stroke=\"black\" points=\"221.89,-620.61 213.187,-614.568 216.223,-624.719 221.89,-620.61\"/>\n",
       "</g>\n",
       "<!-- conv2/Conv2D -->\n",
       "<g id=\"node12\" class=\"node\"><title>conv2/Conv2D</title>\n",
       "<ellipse fill=\"#ddd8dc\" stroke=\"black\" cx=\"296\" cy=\"-597\" rx=\"40.0939\" ry=\"18\"/>\n",
       "<text text-anchor=\"middle\" x=\"296\" y=\"-593.3\" font-family=\"Times,serif\" font-size=\"14.00\">Conv2D</text>\n",
       "</g>\n",
       "<!-- conv2/W&#45;&gt;conv2/Conv2D -->\n",
       "<g id=\"edge10\" class=\"edge\"><title>conv2/W&#45;&gt;conv2/Conv2D</title>\n",
       "<path fill=\"none\" stroke=\"black\" d=\"M298.364,-661.822C297.97,-651.19 297.456,-637.306 297.008,-625.204\"/>\n",
       "<polygon fill=\"black\" stroke=\"black\" points=\"300.503,-625.017 296.635,-615.153 293.508,-625.276 300.503,-625.017\"/>\n",
       "</g>\n",
       "<!-- conv2/Const -->\n",
       "<g id=\"node10\" class=\"node\"><title>conv2/Const</title>\n",
       "<ellipse fill=\"yellow\" stroke=\"black\" cx=\"47\" cy=\"-597\" rx=\"31.3957\" ry=\"18\"/>\n",
       "<text text-anchor=\"middle\" x=\"47\" y=\"-593.3\" font-family=\"Times,serif\" font-size=\"14.00\">Const</text>\n",
       "</g>\n",
       "<!-- conv2/Const&#45;&gt;conv2/b/Assign -->\n",
       "<g id=\"edge4\" class=\"edge\"><title>conv2/Const&#45;&gt;conv2/b/Assign</title>\n",
       "<path fill=\"none\" stroke=\"black\" d=\"M53.6827,-578.99C60.8635,-560.711 72.3666,-531.43 80.7049,-510.206\"/>\n",
       "<polygon fill=\"black\" stroke=\"black\" points=\"83.9997,-511.391 84.3986,-500.803 77.4844,-508.831 83.9997,-511.391\"/>\n",
       "</g>\n",
       "<!-- conv2/b -->\n",
       "<g id=\"node11\" class=\"node\"><title>conv2/b</title>\n",
       "<ellipse fill=\"#ffbbbb\" stroke=\"black\" cx=\"123\" cy=\"-597\" rx=\"27\" ry=\"18\"/>\n",
       "<text text-anchor=\"middle\" x=\"123\" y=\"-593.3\" font-family=\"Times,serif\" font-size=\"14.00\">b</text>\n",
       "</g>\n",
       "<!-- conv2/b&#45;&gt;conv2/b/Assign -->\n",
       "<g id=\"edge9\" class=\"edge\"><title>conv2/b&#45;&gt;conv2/b/Assign</title>\n",
       "<path fill=\"none\" stroke=\"black\" d=\"M118.14,-578.99C112.971,-560.899 104.723,-532.031 98.6751,-510.863\"/>\n",
       "<polygon fill=\"black\" stroke=\"black\" points=\"102.018,-509.824 95.9058,-501.17 95.2878,-511.747 102.018,-509.824\"/>\n",
       "</g>\n",
       "<!-- conv2/add -->\n",
       "<g id=\"node13\" class=\"node\"><title>conv2/add</title>\n",
       "<ellipse fill=\"#c5acbc\" stroke=\"black\" cx=\"292\" cy=\"-483\" rx=\"27\" ry=\"18\"/>\n",
       "<text text-anchor=\"middle\" x=\"292\" y=\"-479.3\" font-family=\"Times,serif\" font-size=\"14.00\">add</text>\n",
       "</g>\n",
       "<!-- conv2/b&#45;&gt;conv2/add -->\n",
       "<g id=\"edge7\" class=\"edge\"><title>conv2/b&#45;&gt;conv2/add</title>\n",
       "<path fill=\"none\" stroke=\"black\" d=\"M139.938,-582.763C145.039,-578.887 150.693,-574.699 156,-571 192.567,-545.513 236.182,-518.119 263.98,-501.023\"/>\n",
       "<polygon fill=\"black\" stroke=\"black\" points=\"266.07,-503.847 272.767,-495.637 262.412,-497.878 266.07,-503.847\"/>\n",
       "</g>\n",
       "<!-- conv2/Conv2D&#45;&gt;conv2/add -->\n",
       "<g id=\"edge6\" class=\"edge\"><title>conv2/Conv2D&#45;&gt;conv2/add</title>\n",
       "<path fill=\"none\" stroke=\"black\" d=\"M295.392,-578.99C294.752,-561.063 293.734,-532.555 292.98,-511.442\"/>\n",
       "<polygon fill=\"black\" stroke=\"black\" points=\"296.468,-511.039 292.613,-501.17 289.472,-511.289 296.468,-511.039\"/>\n",
       "</g>\n",
       "<!-- conv2/Relu -->\n",
       "<g id=\"node14\" class=\"node\"><title>conv2/Relu</title>\n",
       "<ellipse fill=\"#f0b3f7\" stroke=\"black\" cx=\"292\" cy=\"-411\" rx=\"27.0966\" ry=\"18\"/>\n",
       "<text text-anchor=\"middle\" x=\"292\" y=\"-407.3\" font-family=\"Times,serif\" font-size=\"14.00\">Relu</text>\n",
       "</g>\n",
       "<!-- conv2/add&#45;&gt;conv2/Relu -->\n",
       "<g id=\"edge12\" class=\"edge\"><title>conv2/add&#45;&gt;conv2/Relu</title>\n",
       "<path fill=\"none\" stroke=\"black\" d=\"M292,-464.697C292,-456.983 292,-447.712 292,-439.112\"/>\n",
       "<polygon fill=\"black\" stroke=\"black\" points=\"295.5,-439.104 292,-429.104 288.5,-439.104 295.5,-439.104\"/>\n",
       "</g>\n",
       "<!-- conv2/MaxPool -->\n",
       "<g id=\"node15\" class=\"node\"><title>conv2/MaxPool</title>\n",
       "<ellipse fill=\"#d5c0aa\" stroke=\"black\" cx=\"292\" cy=\"-336\" rx=\"43.5923\" ry=\"18\"/>\n",
       "<text text-anchor=\"middle\" x=\"292\" y=\"-332.3\" font-family=\"Times,serif\" font-size=\"14.00\">MaxPool</text>\n",
       "</g>\n",
       "<!-- conv2/Relu&#45;&gt;conv2/MaxPool -->\n",
       "<g id=\"edge13\" class=\"edge\"><title>conv2/Relu&#45;&gt;conv2/MaxPool</title>\n",
       "<path fill=\"none\" stroke=\"black\" d=\"M292,-392.7C292,-384.245 292,-373.869 292,-364.373\"/>\n",
       "<polygon fill=\"black\" stroke=\"black\" points=\"295.5,-364.176 292,-354.176 288.5,-364.176 295.5,-364.176\"/>\n",
       "</g>\n",
       "<!-- full/Reshape -->\n",
       "<g id=\"node45\" class=\"node\"><title>full/Reshape</title>\n",
       "<ellipse fill=\"#a7ba9d\" stroke=\"black\" cx=\"403\" cy=\"-264\" rx=\"40.0939\" ry=\"18\"/>\n",
       "<text text-anchor=\"middle\" x=\"403\" y=\"-260.3\" font-family=\"Times,serif\" font-size=\"14.00\">Reshape</text>\n",
       "</g>\n",
       "<!-- conv2/MaxPool&#45;&gt;full/Reshape -->\n",
       "<g id=\"edge48\" class=\"edge\"><title>conv2/MaxPool&#45;&gt;full/Reshape</title>\n",
       "<path fill=\"none\" stroke=\"black\" d=\"M314.999,-320.496C331.48,-310.103 353.864,-295.987 371.932,-284.593\"/>\n",
       "<polygon fill=\"black\" stroke=\"black\" points=\"373.818,-287.541 380.41,-279.246 370.084,-281.62 373.818,-287.541\"/>\n",
       "</g>\n",
       "<!-- conv1/truncated_normal/shape -->\n",
       "<g id=\"node16\" class=\"node\"><title>conv1/truncated_normal/shape</title>\n",
       "<ellipse fill=\"yellow\" stroke=\"black\" cx=\"490\" cy=\"-1232\" rx=\"30.5947\" ry=\"18\"/>\n",
       "<text text-anchor=\"middle\" x=\"490\" y=\"-1228.3\" font-family=\"Times,serif\" font-size=\"14.00\">shape</text>\n",
       "</g>\n",
       "<!-- conv1/truncated_normal/TruncatedNormal -->\n",
       "<g id=\"node19\" class=\"node\"><title>conv1/truncated_normal/TruncatedNormal</title>\n",
       "<ellipse fill=\"#ccedbc\" stroke=\"black\" cx=\"527\" cy=\"-1160\" rx=\"73.387\" ry=\"18\"/>\n",
       "<text text-anchor=\"middle\" x=\"527\" y=\"-1156.3\" font-family=\"Times,serif\" font-size=\"14.00\">TruncatedNormal</text>\n",
       "</g>\n",
       "<!-- conv1/truncated_normal/shape&#45;&gt;conv1/truncated_normal/TruncatedNormal -->\n",
       "<g id=\"edge16\" class=\"edge\"><title>conv1/truncated_normal/shape&#45;&gt;conv1/truncated_normal/TruncatedNormal</title>\n",
       "<path fill=\"none\" stroke=\"black\" d=\"M498.768,-1214.41C503.083,-1206.25 508.384,-1196.22 513.223,-1187.07\"/>\n",
       "<polygon fill=\"black\" stroke=\"black\" points=\"516.459,-1188.43 518.037,-1177.96 510.27,-1185.16 516.459,-1188.43\"/>\n",
       "</g>\n",
       "<!-- conv1/truncated_normal/mean -->\n",
       "<g id=\"node17\" class=\"node\"><title>conv1/truncated_normal/mean</title>\n",
       "<ellipse fill=\"yellow\" stroke=\"black\" cx=\"569\" cy=\"-1232\" rx=\"30.5947\" ry=\"18\"/>\n",
       "<text text-anchor=\"middle\" x=\"569\" y=\"-1228.3\" font-family=\"Times,serif\" font-size=\"14.00\">mean</text>\n",
       "</g>\n",
       "<!-- conv1/truncated_normal -->\n",
       "<g id=\"node24\" class=\"node\"><title>conv1/truncated_normal</title>\n",
       "<ellipse fill=\"#c5acbc\" stroke=\"black\" cx=\"472\" cy=\"-1013\" rx=\"73.387\" ry=\"18\"/>\n",
       "<text text-anchor=\"middle\" x=\"472\" y=\"-1009.3\" font-family=\"Times,serif\" font-size=\"14.00\">truncated_normal</text>\n",
       "</g>\n",
       "<!-- conv1/truncated_normal/mean&#45;&gt;conv1/truncated_normal -->\n",
       "<g id=\"edge21\" class=\"edge\"><title>conv1/truncated_normal/mean&#45;&gt;conv1/truncated_normal</title>\n",
       "<path fill=\"none\" stroke=\"black\" d=\"M584.252,-1216.34C593.364,-1206.48 604.093,-1192.65 609,-1178 614.082,-1162.83 615.373,-1156.68 609,-1142 588.529,-1094.86 541.196,-1057.18 507.922,-1035.22\"/>\n",
       "<polygon fill=\"black\" stroke=\"black\" points=\"509.671,-1032.18 499.368,-1029.71 505.883,-1038.07 509.671,-1032.18\"/>\n",
       "</g>\n",
       "<!-- conv1/truncated_normal/stddev -->\n",
       "<g id=\"node18\" class=\"node\"><title>conv1/truncated_normal/stddev</title>\n",
       "<ellipse fill=\"yellow\" stroke=\"black\" cx=\"402\" cy=\"-1160\" rx=\"33.5952\" ry=\"18\"/>\n",
       "<text text-anchor=\"middle\" x=\"402\" y=\"-1156.3\" font-family=\"Times,serif\" font-size=\"14.00\">stddev</text>\n",
       "</g>\n",
       "<!-- conv1/truncated_normal/mul -->\n",
       "<g id=\"node20\" class=\"node\"><title>conv1/truncated_normal/mul</title>\n",
       "<ellipse fill=\"#cbf6e3\" stroke=\"black\" cx=\"472\" cy=\"-1085\" rx=\"27\" ry=\"18\"/>\n",
       "<text text-anchor=\"middle\" x=\"472\" y=\"-1081.3\" font-family=\"Times,serif\" font-size=\"14.00\">mul</text>\n",
       "</g>\n",
       "<!-- conv1/truncated_normal/stddev&#45;&gt;conv1/truncated_normal/mul -->\n",
       "<g id=\"edge17\" class=\"edge\"><title>conv1/truncated_normal/stddev&#45;&gt;conv1/truncated_normal/mul</title>\n",
       "<path fill=\"none\" stroke=\"black\" d=\"M416.845,-1143.52C426.758,-1133.18 439.943,-1119.43 450.935,-1107.97\"/>\n",
       "<polygon fill=\"black\" stroke=\"black\" points=\"453.733,-1110.11 458.128,-1100.47 448.681,-1105.26 453.733,-1110.11\"/>\n",
       "</g>\n",
       "<!-- conv1/truncated_normal/TruncatedNormal&#45;&gt;conv1/truncated_normal/mul -->\n",
       "<g id=\"edge15\" class=\"edge\"><title>conv1/truncated_normal/TruncatedNormal&#45;&gt;conv1/truncated_normal/mul</title>\n",
       "<path fill=\"none\" stroke=\"black\" d=\"M510.275,-1142.46C507.748,-1139.71 505.24,-1136.83 503,-1134 497.25,-1126.73 491.567,-1118.37 486.669,-1110.69\"/>\n",
       "<polygon fill=\"black\" stroke=\"black\" points=\"489.574,-1108.73 481.322,-1102.09 483.628,-1112.43 489.574,-1108.73\"/>\n",
       "</g>\n",
       "<!-- conv1/truncated_normal/mul&#45;&gt;conv1/truncated_normal -->\n",
       "<g id=\"edge20\" class=\"edge\"><title>conv1/truncated_normal/mul&#45;&gt;conv1/truncated_normal</title>\n",
       "<path fill=\"none\" stroke=\"black\" d=\"M472,-1066.7C472,-1058.98 472,-1049.71 472,-1041.11\"/>\n",
       "<polygon fill=\"black\" stroke=\"black\" points=\"475.5,-1041.1 472,-1031.1 468.5,-1041.1 475.5,-1041.1\"/>\n",
       "</g>\n",
       "<!-- conv1/Reshape/shape -->\n",
       "<g id=\"node21\" class=\"node\"><title>conv1/Reshape/shape</title>\n",
       "<ellipse fill=\"yellow\" stroke=\"black\" cx=\"675\" cy=\"-1085\" rx=\"30.5947\" ry=\"18\"/>\n",
       "<text text-anchor=\"middle\" x=\"675\" y=\"-1081.3\" font-family=\"Times,serif\" font-size=\"14.00\">shape</text>\n",
       "</g>\n",
       "<!-- conv1/Reshape -->\n",
       "<g id=\"node28\" class=\"node\"><title>conv1/Reshape</title>\n",
       "<ellipse fill=\"#a7ba9d\" stroke=\"black\" cx=\"675\" cy=\"-1013\" rx=\"40.0939\" ry=\"18\"/>\n",
       "<text text-anchor=\"middle\" x=\"675\" y=\"-1009.3\" font-family=\"Times,serif\" font-size=\"14.00\">Reshape</text>\n",
       "</g>\n",
       "<!-- conv1/Reshape/shape&#45;&gt;conv1/Reshape -->\n",
       "<g id=\"edge29\" class=\"edge\"><title>conv1/Reshape/shape&#45;&gt;conv1/Reshape</title>\n",
       "<path fill=\"none\" stroke=\"black\" d=\"M675,-1066.7C675,-1058.98 675,-1049.71 675,-1041.11\"/>\n",
       "<polygon fill=\"black\" stroke=\"black\" points=\"678.5,-1041.1 675,-1031.1 671.5,-1041.1 678.5,-1041.1\"/>\n",
       "</g>\n",
       "<!-- conv1/b/Assign -->\n",
       "<g id=\"node22\" class=\"node\"><title>conv1/b/Assign</title>\n",
       "<ellipse fill=\"#bbbbff\" stroke=\"black\" cx=\"403\" cy=\"-824\" rx=\"35.194\" ry=\"18\"/>\n",
       "<text text-anchor=\"middle\" x=\"403\" y=\"-820.3\" font-family=\"Times,serif\" font-size=\"14.00\">Assign</text>\n",
       "</g>\n",
       "<!-- conv1/W/Assign -->\n",
       "<g id=\"node23\" class=\"node\"><title>conv1/W/Assign</title>\n",
       "<ellipse fill=\"#bbbbff\" stroke=\"black\" cx=\"553\" cy=\"-907\" rx=\"35.194\" ry=\"18\"/>\n",
       "<text text-anchor=\"middle\" x=\"553\" y=\"-903.3\" font-family=\"Times,serif\" font-size=\"14.00\">Assign</text>\n",
       "</g>\n",
       "<!-- conv1/truncated_normal&#45;&gt;conv1/W/Assign -->\n",
       "<g id=\"edge22\" class=\"edge\"><title>conv1/truncated_normal&#45;&gt;conv1/W/Assign</title>\n",
       "<path fill=\"none\" stroke=\"black\" d=\"M502.943,-996.454C506.95,-993.648 510.774,-990.489 514,-987 527.844,-972.026 537.847,-951.221 544.254,-934.72\"/>\n",
       "<polygon fill=\"black\" stroke=\"black\" points=\"547.627,-935.687 547.781,-925.093 541.054,-933.279 547.627,-935.687\"/>\n",
       "</g>\n",
       "<!-- conv1/W -->\n",
       "<g id=\"node25\" class=\"node\"><title>conv1/W</title>\n",
       "<ellipse fill=\"#ffbbbb\" stroke=\"black\" cx=\"590\" cy=\"-1013\" rx=\"27\" ry=\"18\"/>\n",
       "<text text-anchor=\"middle\" x=\"590\" y=\"-1009.3\" font-family=\"Times,serif\" font-size=\"14.00\">W</text>\n",
       "</g>\n",
       "<!-- conv1/W&#45;&gt;conv1/W/Assign -->\n",
       "<g id=\"edge18\" class=\"edge\"><title>conv1/W&#45;&gt;conv1/W/Assign</title>\n",
       "<path fill=\"none\" stroke=\"black\" d=\"M584.055,-995.291C578.237,-978.937 569.282,-953.766 562.481,-934.648\"/>\n",
       "<polygon fill=\"black\" stroke=\"black\" points=\"565.702,-933.262 559.053,-925.013 559.107,-935.608 565.702,-933.262\"/>\n",
       "</g>\n",
       "<!-- conv1/Conv2D -->\n",
       "<g id=\"node29\" class=\"node\"><title>conv1/Conv2D</title>\n",
       "<ellipse fill=\"#ddd8dc\" stroke=\"black\" cx=\"646\" cy=\"-907\" rx=\"40.0939\" ry=\"18\"/>\n",
       "<text text-anchor=\"middle\" x=\"646\" y=\"-903.3\" font-family=\"Times,serif\" font-size=\"14.00\">Conv2D</text>\n",
       "</g>\n",
       "<!-- conv1/W&#45;&gt;conv1/Conv2D -->\n",
       "<g id=\"edge23\" class=\"edge\"><title>conv1/W&#45;&gt;conv1/Conv2D</title>\n",
       "<path fill=\"none\" stroke=\"black\" d=\"M598.75,-995.75C607.685,-979.156 621.69,-953.147 632.136,-933.748\"/>\n",
       "<polygon fill=\"black\" stroke=\"black\" points=\"635.281,-935.289 636.94,-924.825 629.118,-931.97 635.281,-935.289\"/>\n",
       "</g>\n",
       "<!-- conv1/Const -->\n",
       "<g id=\"node26\" class=\"node\"><title>conv1/Const</title>\n",
       "<ellipse fill=\"yellow\" stroke=\"black\" cx=\"397\" cy=\"-907\" rx=\"31.3957\" ry=\"18\"/>\n",
       "<text text-anchor=\"middle\" x=\"397\" y=\"-903.3\" font-family=\"Times,serif\" font-size=\"14.00\">Const</text>\n",
       "</g>\n",
       "<!-- conv1/Const&#45;&gt;conv1/b/Assign -->\n",
       "<g id=\"edge24\" class=\"edge\"><title>conv1/Const&#45;&gt;conv1/b/Assign</title>\n",
       "<path fill=\"none\" stroke=\"black\" d=\"M398.272,-888.822C399.06,-878.19 400.088,-864.306 400.985,-852.204\"/>\n",
       "<polygon fill=\"black\" stroke=\"black\" points=\"404.481,-852.385 401.729,-842.153 397.5,-851.867 404.481,-852.385\"/>\n",
       "</g>\n",
       "<!-- conv1/b -->\n",
       "<g id=\"node27\" class=\"node\"><title>conv1/b</title>\n",
       "<ellipse fill=\"#ffbbbb\" stroke=\"black\" cx=\"473\" cy=\"-907\" rx=\"27\" ry=\"18\"/>\n",
       "<text text-anchor=\"middle\" x=\"473\" y=\"-903.3\" font-family=\"Times,serif\" font-size=\"14.00\">b</text>\n",
       "</g>\n",
       "<!-- conv1/b&#45;&gt;conv1/b/Assign -->\n",
       "<g id=\"edge30\" class=\"edge\"><title>conv1/b&#45;&gt;conv1/b/Assign</title>\n",
       "<path fill=\"none\" stroke=\"black\" d=\"M458.881,-891.424C453.505,-885.756 447.38,-879.156 442,-873 435.358,-865.4 428.336,-856.91 422.108,-849.208\"/>\n",
       "<polygon fill=\"black\" stroke=\"black\" points=\"424.704,-846.85 415.717,-841.239 419.243,-851.23 424.704,-846.85\"/>\n",
       "</g>\n",
       "<!-- conv1/add -->\n",
       "<g id=\"node30\" class=\"node\"><title>conv1/add</title>\n",
       "<ellipse fill=\"#c5acbc\" stroke=\"black\" cx=\"483\" cy=\"-824\" rx=\"27\" ry=\"18\"/>\n",
       "<text text-anchor=\"middle\" x=\"483\" y=\"-820.3\" font-family=\"Times,serif\" font-size=\"14.00\">add</text>\n",
       "</g>\n",
       "<!-- conv1/b&#45;&gt;conv1/add -->\n",
       "<g id=\"edge25\" class=\"edge\"><title>conv1/b&#45;&gt;conv1/add</title>\n",
       "<path fill=\"none\" stroke=\"black\" d=\"M475.121,-888.822C476.433,-878.19 478.147,-864.306 479.642,-852.204\"/>\n",
       "<polygon fill=\"black\" stroke=\"black\" points=\"483.131,-852.507 480.882,-842.153 476.183,-851.649 483.131,-852.507\"/>\n",
       "</g>\n",
       "<!-- conv1/Reshape&#45;&gt;conv1/Conv2D -->\n",
       "<g id=\"edge28\" class=\"edge\"><title>conv1/Reshape&#45;&gt;conv1/Conv2D</title>\n",
       "<path fill=\"none\" stroke=\"black\" d=\"M670.211,-994.827C665.678,-978.568 658.8,-953.903 653.532,-935.011\"/>\n",
       "<polygon fill=\"black\" stroke=\"black\" points=\"656.853,-933.891 650.796,-925.199 650.111,-935.772 656.853,-933.891\"/>\n",
       "</g>\n",
       "<!-- conv1/Conv2D&#45;&gt;conv1/add -->\n",
       "<g id=\"edge27\" class=\"edge\"><title>conv1/Conv2D&#45;&gt;conv1/add</title>\n",
       "<path fill=\"none\" stroke=\"black\" d=\"M621.773,-892.531C614.785,-888.728 607.124,-884.638 600,-881 571.091,-866.238 537.645,-850.346 513.935,-839.277\"/>\n",
       "<polygon fill=\"black\" stroke=\"black\" points=\"515.27,-836.038 504.727,-834.992 512.317,-842.384 515.27,-836.038\"/>\n",
       "</g>\n",
       "<!-- conv1/Relu -->\n",
       "<g id=\"node31\" class=\"node\"><title>conv1/Relu</title>\n",
       "<ellipse fill=\"#f0b3f7\" stroke=\"black\" cx=\"463\" cy=\"-752\" rx=\"27.0966\" ry=\"18\"/>\n",
       "<text text-anchor=\"middle\" x=\"463\" y=\"-748.3\" font-family=\"Times,serif\" font-size=\"14.00\">Relu</text>\n",
       "</g>\n",
       "<!-- conv1/add&#45;&gt;conv1/Relu -->\n",
       "<g id=\"edge19\" class=\"edge\"><title>conv1/add&#45;&gt;conv1/Relu</title>\n",
       "<path fill=\"none\" stroke=\"black\" d=\"M478.159,-806.055C475.898,-798.145 473.154,-788.54 470.625,-779.688\"/>\n",
       "<polygon fill=\"black\" stroke=\"black\" points=\"473.909,-778.443 467.797,-769.789 467.179,-780.366 473.909,-778.443\"/>\n",
       "</g>\n",
       "<!-- conv1/MaxPool -->\n",
       "<g id=\"node32\" class=\"node\"><title>conv1/MaxPool</title>\n",
       "<ellipse fill=\"#d5c0aa\" stroke=\"black\" cx=\"424\" cy=\"-680\" rx=\"43.5923\" ry=\"18\"/>\n",
       "<text text-anchor=\"middle\" x=\"424\" y=\"-676.3\" font-family=\"Times,serif\" font-size=\"14.00\">MaxPool</text>\n",
       "</g>\n",
       "<!-- conv1/Relu&#45;&gt;conv1/MaxPool -->\n",
       "<g id=\"edge26\" class=\"edge\"><title>conv1/Relu&#45;&gt;conv1/MaxPool</title>\n",
       "<path fill=\"none\" stroke=\"black\" d=\"M453.955,-734.765C449.297,-726.404 443.509,-716.016 438.266,-706.606\"/>\n",
       "<polygon fill=\"black\" stroke=\"black\" points=\"441.192,-704.666 433.267,-697.633 435.077,-708.073 441.192,-704.666\"/>\n",
       "</g>\n",
       "<!-- conv1/MaxPool&#45;&gt;conv2/Conv2D -->\n",
       "<g id=\"edge46\" class=\"edge\"><title>conv1/MaxPool&#45;&gt;conv2/Conv2D</title>\n",
       "<path fill=\"none\" stroke=\"black\" d=\"M401.116,-664.519C380.421,-651.423 349.779,-632.032 326.911,-617.561\"/>\n",
       "<polygon fill=\"black\" stroke=\"black\" points=\"328.579,-614.474 318.257,-612.085 324.836,-620.39 328.579,-614.474\"/>\n",
       "</g>\n",
       "<!-- full/Reshape/shape -->\n",
       "<g id=\"node33\" class=\"node\"><title>full/Reshape/shape</title>\n",
       "<ellipse fill=\"yellow\" stroke=\"black\" cx=\"403\" cy=\"-336\" rx=\"30.5947\" ry=\"18\"/>\n",
       "<text text-anchor=\"middle\" x=\"403\" y=\"-332.3\" font-family=\"Times,serif\" font-size=\"14.00\">shape</text>\n",
       "</g>\n",
       "<!-- full/Reshape/shape&#45;&gt;full/Reshape -->\n",
       "<g id=\"edge45\" class=\"edge\"><title>full/Reshape/shape&#45;&gt;full/Reshape</title>\n",
       "<path fill=\"none\" stroke=\"black\" d=\"M403,-317.697C403,-309.983 403,-300.712 403,-292.112\"/>\n",
       "<polygon fill=\"black\" stroke=\"black\" points=\"406.5,-292.104 403,-282.104 399.5,-292.104 406.5,-292.104\"/>\n",
       "</g>\n",
       "<!-- full/b/Assign -->\n",
       "<g id=\"node34\" class=\"node\"><title>full/b/Assign</title>\n",
       "<ellipse fill=\"#bbbbff\" stroke=\"black\" cx=\"435\" cy=\"-106\" rx=\"35.194\" ry=\"18\"/>\n",
       "<text text-anchor=\"middle\" x=\"435\" y=\"-102.3\" font-family=\"Times,serif\" font-size=\"14.00\">Assign</text>\n",
       "</g>\n",
       "<!-- full/truncated_normal/shape -->\n",
       "<g id=\"node35\" class=\"node\"><title>full/truncated_normal/shape</title>\n",
       "<ellipse fill=\"yellow\" stroke=\"black\" cx=\"583\" cy=\"-483\" rx=\"30.5947\" ry=\"18\"/>\n",
       "<text text-anchor=\"middle\" x=\"583\" y=\"-479.3\" font-family=\"Times,serif\" font-size=\"14.00\">shape</text>\n",
       "</g>\n",
       "<!-- full/truncated_normal/TruncatedNormal -->\n",
       "<g id=\"node38\" class=\"node\"><title>full/truncated_normal/TruncatedNormal</title>\n",
       "<ellipse fill=\"#ccedbc\" stroke=\"black\" cx=\"620\" cy=\"-411\" rx=\"73.387\" ry=\"18\"/>\n",
       "<text text-anchor=\"middle\" x=\"620\" y=\"-407.3\" font-family=\"Times,serif\" font-size=\"14.00\">TruncatedNormal</text>\n",
       "</g>\n",
       "<!-- full/truncated_normal/shape&#45;&gt;full/truncated_normal/TruncatedNormal -->\n",
       "<g id=\"edge32\" class=\"edge\"><title>full/truncated_normal/shape&#45;&gt;full/truncated_normal/TruncatedNormal</title>\n",
       "<path fill=\"none\" stroke=\"black\" d=\"M591.768,-465.411C596.083,-457.249 601.384,-447.22 606.223,-438.065\"/>\n",
       "<polygon fill=\"black\" stroke=\"black\" points=\"609.459,-439.433 611.037,-428.956 603.27,-436.162 609.459,-439.433\"/>\n",
       "</g>\n",
       "<!-- full/truncated_normal/mean -->\n",
       "<g id=\"node36\" class=\"node\"><title>full/truncated_normal/mean</title>\n",
       "<ellipse fill=\"yellow\" stroke=\"black\" cx=\"662\" cy=\"-483\" rx=\"30.5947\" ry=\"18\"/>\n",
       "<text text-anchor=\"middle\" x=\"662\" y=\"-479.3\" font-family=\"Times,serif\" font-size=\"14.00\">mean</text>\n",
       "</g>\n",
       "<!-- full/truncated_normal -->\n",
       "<g id=\"node41\" class=\"node\"><title>full/truncated_normal</title>\n",
       "<ellipse fill=\"#c5acbc\" stroke=\"black\" cx=\"640\" cy=\"-264\" rx=\"73.387\" ry=\"18\"/>\n",
       "<text text-anchor=\"middle\" x=\"640\" y=\"-260.3\" font-family=\"Times,serif\" font-size=\"14.00\">truncated_normal</text>\n",
       "</g>\n",
       "<!-- full/truncated_normal/mean&#45;&gt;full/truncated_normal -->\n",
       "<g id=\"edge37\" class=\"edge\"><title>full/truncated_normal/mean&#45;&gt;full/truncated_normal</title>\n",
       "<path fill=\"none\" stroke=\"black\" d=\"M677.252,-467.342C686.364,-457.482 697.093,-443.647 702,-429 707.082,-413.829 705.578,-408.595 702,-393 693.295,-355.061 671.801,-315.31 656.57,-290.365\"/>\n",
       "<polygon fill=\"black\" stroke=\"black\" points=\"659.537,-288.51 651.277,-281.875 653.597,-292.213 659.537,-288.51\"/>\n",
       "</g>\n",
       "<!-- full/truncated_normal/stddev -->\n",
       "<g id=\"node37\" class=\"node\"><title>full/truncated_normal/stddev</title>\n",
       "<ellipse fill=\"yellow\" stroke=\"black\" cx=\"495\" cy=\"-411\" rx=\"33.5952\" ry=\"18\"/>\n",
       "<text text-anchor=\"middle\" x=\"495\" y=\"-407.3\" font-family=\"Times,serif\" font-size=\"14.00\">stddev</text>\n",
       "</g>\n",
       "<!-- full/truncated_normal/mul -->\n",
       "<g id=\"node39\" class=\"node\"><title>full/truncated_normal/mul</title>\n",
       "<ellipse fill=\"#cbf6e3\" stroke=\"black\" cx=\"620\" cy=\"-336\" rx=\"27\" ry=\"18\"/>\n",
       "<text text-anchor=\"middle\" x=\"620\" y=\"-332.3\" font-family=\"Times,serif\" font-size=\"14.00\">mul</text>\n",
       "</g>\n",
       "<!-- full/truncated_normal/stddev&#45;&gt;full/truncated_normal/mul -->\n",
       "<g id=\"edge31\" class=\"edge\"><title>full/truncated_normal/stddev&#45;&gt;full/truncated_normal/mul</title>\n",
       "<path fill=\"none\" stroke=\"black\" d=\"M517.06,-397.117C537.758,-385.03 568.825,-366.886 591.414,-353.694\"/>\n",
       "<polygon fill=\"black\" stroke=\"black\" points=\"593.349,-356.617 600.219,-348.552 589.819,-350.573 593.349,-356.617\"/>\n",
       "</g>\n",
       "<!-- full/truncated_normal/TruncatedNormal&#45;&gt;full/truncated_normal/mul -->\n",
       "<g id=\"edge33\" class=\"edge\"><title>full/truncated_normal/TruncatedNormal&#45;&gt;full/truncated_normal/mul</title>\n",
       "<path fill=\"none\" stroke=\"black\" d=\"M620,-392.7C620,-384.245 620,-373.869 620,-364.373\"/>\n",
       "<polygon fill=\"black\" stroke=\"black\" points=\"623.5,-364.176 620,-354.176 616.5,-364.176 623.5,-364.176\"/>\n",
       "</g>\n",
       "<!-- full/truncated_normal/mul&#45;&gt;full/truncated_normal -->\n",
       "<g id=\"edge36\" class=\"edge\"><title>full/truncated_normal/mul&#45;&gt;full/truncated_normal</title>\n",
       "<path fill=\"none\" stroke=\"black\" d=\"M624.841,-318.055C627.068,-310.261 629.765,-300.822 632.263,-292.079\"/>\n",
       "<polygon fill=\"black\" stroke=\"black\" points=\"635.682,-292.852 635.064,-282.275 628.952,-290.929 635.682,-292.852\"/>\n",
       "</g>\n",
       "<!-- full/W/Assign -->\n",
       "<g id=\"node40\" class=\"node\"><title>full/W/Assign</title>\n",
       "<ellipse fill=\"#bbbbff\" stroke=\"black\" cx=\"645\" cy=\"-189\" rx=\"35.194\" ry=\"18\"/>\n",
       "<text text-anchor=\"middle\" x=\"645\" y=\"-185.3\" font-family=\"Times,serif\" font-size=\"14.00\">Assign</text>\n",
       "</g>\n",
       "<!-- full/truncated_normal&#45;&gt;full/W/Assign -->\n",
       "<g id=\"edge38\" class=\"edge\"><title>full/truncated_normal&#45;&gt;full/W/Assign</title>\n",
       "<path fill=\"none\" stroke=\"black\" d=\"M641.185,-245.7C641.764,-237.245 642.475,-226.869 643.125,-217.373\"/>\n",
       "<polygon fill=\"black\" stroke=\"black\" points=\"646.632,-217.392 643.824,-207.176 639.648,-216.913 646.632,-217.392\"/>\n",
       "</g>\n",
       "<!-- full/W -->\n",
       "<g id=\"node42\" class=\"node\"><title>full/W</title>\n",
       "<ellipse fill=\"#ffbbbb\" stroke=\"black\" cx=\"522\" cy=\"-264\" rx=\"27\" ry=\"18\"/>\n",
       "<text text-anchor=\"middle\" x=\"522\" y=\"-260.3\" font-family=\"Times,serif\" font-size=\"14.00\">W</text>\n",
       "</g>\n",
       "<!-- full/W&#45;&gt;full/W/Assign -->\n",
       "<g id=\"edge42\" class=\"edge\"><title>full/W&#45;&gt;full/W/Assign</title>\n",
       "<path fill=\"none\" stroke=\"black\" d=\"M542.548,-252.107C547.503,-249.816 552.855,-247.61 558,-246 578.641,-239.543 587.305,-248.874 606,-238 615.606,-232.413 623.82,-223.497 630.196,-214.858\"/>\n",
       "<polygon fill=\"black\" stroke=\"black\" points=\"633.193,-216.676 635.944,-206.445 627.413,-212.727 633.193,-216.676\"/>\n",
       "</g>\n",
       "<!-- full/MatMul -->\n",
       "<g id=\"node46\" class=\"node\"><title>full/MatMul</title>\n",
       "<ellipse fill=\"#bbffbb\" stroke=\"black\" cx=\"552\" cy=\"-189\" rx=\"40.0939\" ry=\"18\"/>\n",
       "<text text-anchor=\"middle\" x=\"552\" y=\"-185.3\" font-family=\"Times,serif\" font-size=\"14.00\">MatMul</text>\n",
       "</g>\n",
       "<!-- full/W&#45;&gt;full/MatMul -->\n",
       "<g id=\"edge40\" class=\"edge\"><title>full/W&#45;&gt;full/MatMul</title>\n",
       "<path fill=\"none\" stroke=\"black\" d=\"M528.807,-246.435C532.464,-237.538 537.057,-226.361 541.189,-216.307\"/>\n",
       "<polygon fill=\"black\" stroke=\"black\" points=\"544.552,-217.332 545.116,-206.752 538.077,-214.671 544.552,-217.332\"/>\n",
       "</g>\n",
       "<!-- full/Const -->\n",
       "<g id=\"node43\" class=\"node\"><title>full/Const</title>\n",
       "<ellipse fill=\"yellow\" stroke=\"black\" cx=\"391\" cy=\"-189\" rx=\"31.3957\" ry=\"18\"/>\n",
       "<text text-anchor=\"middle\" x=\"391\" y=\"-185.3\" font-family=\"Times,serif\" font-size=\"14.00\">Const</text>\n",
       "</g>\n",
       "<!-- full/Const&#45;&gt;full/b/Assign -->\n",
       "<g id=\"edge39\" class=\"edge\"><title>full/Const&#45;&gt;full/b/Assign</title>\n",
       "<path fill=\"none\" stroke=\"black\" d=\"M399.904,-171.608C406.006,-160.374 414.223,-145.249 421.171,-132.458\"/>\n",
       "<polygon fill=\"black\" stroke=\"black\" points=\"424.26,-134.103 425.958,-123.645 418.109,-130.762 424.26,-134.103\"/>\n",
       "</g>\n",
       "<!-- full/b -->\n",
       "<g id=\"node44\" class=\"node\"><title>full/b</title>\n",
       "<ellipse fill=\"#ffbbbb\" stroke=\"black\" cx=\"467\" cy=\"-189\" rx=\"27\" ry=\"18\"/>\n",
       "<text text-anchor=\"middle\" x=\"467\" y=\"-185.3\" font-family=\"Times,serif\" font-size=\"14.00\">b</text>\n",
       "</g>\n",
       "<!-- full/b&#45;&gt;full/b/Assign -->\n",
       "<g id=\"edge34\" class=\"edge\"><title>full/b&#45;&gt;full/b/Assign</title>\n",
       "<path fill=\"none\" stroke=\"black\" d=\"M460.37,-171.217C456.036,-160.248 450.287,-145.694 445.357,-133.216\"/>\n",
       "<polygon fill=\"black\" stroke=\"black\" points=\"448.551,-131.776 441.622,-123.762 442.041,-134.348 448.551,-131.776\"/>\n",
       "</g>\n",
       "<!-- full/add -->\n",
       "<g id=\"node47\" class=\"node\"><title>full/add</title>\n",
       "<ellipse fill=\"#c5acbc\" stroke=\"black\" cx=\"533\" cy=\"-106\" rx=\"27\" ry=\"18\"/>\n",
       "<text text-anchor=\"middle\" x=\"533\" y=\"-102.3\" font-family=\"Times,serif\" font-size=\"14.00\">add</text>\n",
       "</g>\n",
       "<!-- full/b&#45;&gt;full/add -->\n",
       "<g id=\"edge44\" class=\"edge\"><title>full/b&#45;&gt;full/add</title>\n",
       "<path fill=\"none\" stroke=\"black\" d=\"M479.414,-172.765C489.186,-160.772 502.967,-143.859 514.107,-130.187\"/>\n",
       "<polygon fill=\"black\" stroke=\"black\" points=\"517.038,-132.13 520.642,-122.167 511.611,-127.709 517.038,-132.13\"/>\n",
       "</g>\n",
       "<!-- full/Reshape&#45;&gt;full/MatMul -->\n",
       "<g id=\"edge41\" class=\"edge\"><title>full/Reshape&#45;&gt;full/MatMul</title>\n",
       "<path fill=\"none\" stroke=\"black\" d=\"M441.332,-258.295C460.729,-254.735 484.102,-248.571 503,-238 513.932,-231.885 524.153,-222.691 532.402,-213.981\"/>\n",
       "<polygon fill=\"black\" stroke=\"black\" points=\"535.013,-216.311 539.111,-206.541 529.815,-211.623 535.013,-216.311\"/>\n",
       "</g>\n",
       "<!-- full/MatMul&#45;&gt;full/add -->\n",
       "<g id=\"edge35\" class=\"edge\"><title>full/MatMul&#45;&gt;full/add</title>\n",
       "<path fill=\"none\" stroke=\"black\" d=\"M547.971,-170.822C545.46,-160.118 542.176,-146.118 539.324,-133.958\"/>\n",
       "<polygon fill=\"black\" stroke=\"black\" points=\"542.65,-132.812 536.958,-123.876 535.835,-134.411 542.65,-132.812\"/>\n",
       "</g>\n",
       "<!-- full/Relu -->\n",
       "<g id=\"node48\" class=\"node\"><title>full/Relu</title>\n",
       "<ellipse fill=\"#f0b3f7\" stroke=\"black\" cx=\"533\" cy=\"-34\" rx=\"27.0966\" ry=\"18\"/>\n",
       "<text text-anchor=\"middle\" x=\"533\" y=\"-30.3\" font-family=\"Times,serif\" font-size=\"14.00\">Relu</text>\n",
       "</g>\n",
       "<!-- full/add&#45;&gt;full/Relu -->\n",
       "<g id=\"edge43\" class=\"edge\"><title>full/add&#45;&gt;full/Relu</title>\n",
       "<path fill=\"none\" stroke=\"black\" d=\"M533,-87.6966C533,-79.9827 533,-70.7125 533,-62.1124\"/>\n",
       "<polygon fill=\"black\" stroke=\"black\" points=\"536.5,-62.1043 533,-52.1043 529.5,-62.1044 536.5,-62.1043\"/>\n",
       "</g>\n",
       "<!-- x -->\n",
       "<g id=\"node49\" class=\"node\"><title>x</title>\n",
       "<ellipse fill=\"#a5bfd8\" stroke=\"black\" cx=\"758\" cy=\"-1085\" rx=\"27\" ry=\"18\"/>\n",
       "<text text-anchor=\"middle\" x=\"758\" y=\"-1081.3\" font-family=\"Times,serif\" font-size=\"14.00\">x</text>\n",
       "</g>\n",
       "<!-- x&#45;&gt;conv1/Reshape -->\n",
       "<g id=\"edge47\" class=\"edge\"><title>x&#45;&gt;conv1/Reshape</title>\n",
       "<path fill=\"none\" stroke=\"black\" d=\"M741.602,-1070.17C730.021,-1060.4 714.263,-1047.11 700.983,-1035.91\"/>\n",
       "<polygon fill=\"black\" stroke=\"black\" points=\"702.994,-1033.03 693.093,-1029.26 698.481,-1038.38 702.994,-1033.03\"/>\n",
       "</g>\n",
       "<!-- y_ -->\n",
       "<g id=\"node50\" class=\"node\"><title>y_</title>\n",
       "<ellipse fill=\"#a5bfd8\" stroke=\"black\" cx=\"758\" cy=\"-1232\" rx=\"27\" ry=\"18\"/>\n",
       "<text text-anchor=\"middle\" x=\"758\" y=\"-1228.3\" font-family=\"Times,serif\" font-size=\"14.00\">y_</text>\n",
       "</g>\n",
       "</g>\n",
       "</svg>\n"
      ],
      "text/plain": [
       "<graphviz.dot.Digraph at 0x7efd383f7410>"
      ]
     },
     "execution_count": 10,
     "metadata": {},
     "output_type": "execute_result"
    }
   ],
   "source": [
    "tfdot()"
   ]
  },
  {
   "cell_type": "code",
   "execution_count": 11,
   "metadata": {
    "collapsed": true
   },
   "outputs": [],
   "source": [
    "# Dropout:  A Simple Way to Prevent Neural Networks from Over fitting\n",
    "# https://www.cs.toronto.edu/~hinton/absps/JMLRdropout.pdf\n",
    "with tf.name_scope('dropout'):\n",
    "    keep_prob = tf.placeholder(\"float\")\n",
    "    h_fc1_drop = tf.nn.dropout(h_fc1, keep_prob)"
   ]
  },
  {
   "cell_type": "code",
   "execution_count": null,
   "metadata": {
    "collapsed": true
   },
   "outputs": [],
   "source": [
    "# Readout\n",
    "with tf.name_scope('readout'):\n",
    "    W_fc2 = weight_variable([1024,10])\n",
    "    b_fc2 = bias_variable([10])\n",
    "    y_conv = tf.nn.softmax(tf.matmul(h_fc1_drop, W_fc2)+b_fc2)"
   ]
  },
  {
   "cell_type": "code",
   "execution_count": null,
   "metadata": {
    "collapsed": false
   },
   "outputs": [],
   "source": [
    "cross_entropy = - tf.reduce_sum(y_*tf.log(y_conv))\n",
    "train_step = tf.train.AdamOptimizer(1e-4).minimize(cross_entropy)\n",
    "prediction = tf.argmax(y_conv, 1)\n",
    "correct_prediction = tf.equal(prediction, tf.argmax(y_, 1))\n",
    "accuracy = tf.reduce_mean(tf.cast(correct_prediction, \"float\"))"
   ]
  },
  {
   "cell_type": "code",
   "execution_count": null,
   "metadata": {
    "collapsed": true
   },
   "outputs": [],
   "source": [
    "%%timeit -r 1 -n 1\n",
    "tf.initialize_all_variables().run()\n",
    "for i in range(20000):\n",
    "    batch = mnist.train.next_batch(50)\n",
    "    if i%100 == 0:\n",
    "        train_accuracy = accuracy.eval(feed_dict = {\n",
    "                x: batch[0], y_: batch[1], keep_prob: 1.0 })\n",
    "        print(\"step %d, training accuracy %g\"%(i, train_accuracy))\n",
    "    train_step.run(feed_dict= {x: batch[0], y_: batch[1], keep_prob: 0.5 })\n",
    "for i in range(0, mnist.test.num_examples, 1000):\n",
    "    print(\"test accuracy %g\"%accuracy.eval(feed_dict={x: mnist.test.images[i:i+1000], \n",
    "                                                  y_: mnist.test.labels[i:i+1000],\n",
    "                                                  keep_prob: 1.0}))"
   ]
  },
  {
   "cell_type": "code",
   "execution_count": null,
   "metadata": {
    "collapsed": true
   },
   "outputs": [],
   "source": [
    "np.mean([accuracy.eval(feed_dict={x: mnist.test.images[i:i+1000], \n",
    "                                   y_: mnist.test.labels[i:i+1000],\n",
    "                                   keep_prob: 1.0}) \n",
    "        for i in range(0, mnist.test.num_examples, 1000)]\n",
    ")"
   ]
  },
  {
   "cell_type": "code",
   "execution_count": null,
   "metadata": {
    "collapsed": true
   },
   "outputs": [],
   "source": [
    "tf.scalar_summary(accuracy.op.name, accuracy)\n",
    "summary_op = tf.merge_all_summaries()\n",
    "summary_writer = tf.train.SummaryWriter(\"log1\", graph_def=sess.graph_def)"
   ]
  },
  {
   "cell_type": "code",
   "execution_count": null,
   "metadata": {
    "collapsed": false
   },
   "outputs": [],
   "source": [
    "%%timeit -r 1 -n 1\n",
    "tf.initialize_all_variables().run()\n",
    "for i in range(20000):\n",
    "    batch = mnist.train.next_batch(50)\n",
    "    if i%100 == 0:\n",
    "        train_accuracy = accuracy.eval(feed_dict = {\n",
    "                x: batch[0], y_: batch[1], keep_prob: 1.0 })\n",
    "        print(\"step %d, training accuracy %g\"%(i, train_accuracy))\n",
    "        summary_str = sess.run(summary_op, feed_dict={x: batch[0], y_: batch[1], keep_prob: 1.0 })\n",
    "        summary_writer.add_summary(summary_str, i)\n",
    "    train_step.run(feed_dict= {x: batch[0], y_: batch[1], keep_prob: 0.5 })\n",
    "for i in range(0, mnist.test.num_examples, 1000):\n",
    "    print(\"test accuracy %g\"%accuracy.eval(feed_dict={x: mnist.test.images[i:i+1000], \n",
    "                                                  y_: mnist.test.labels[i:i+1000],\n",
    "                                                  keep_prob: 1.0}))"
   ]
  },
  {
   "cell_type": "code",
   "execution_count": null,
   "metadata": {
    "collapsed": false
   },
   "outputs": [],
   "source": [
    "np.mean([accuracy.eval(feed_dict={x: mnist.test.images[i:i+1000], \n",
    "                                   y_: mnist.test.labels[i:i+1000],\n",
    "                                   keep_prob: 1.0}) \n",
    "        for i in range(0, mnist.test.num_examples, 1000)]\n",
    ")"
   ]
  }
 ],
 "metadata": {
  "kernelspec": {
   "display_name": "Python 2",
   "language": "python",
   "name": "python2"
  },
  "language_info": {
   "codemirror_mode": {
    "name": "ipython",
    "version": 2
   },
   "file_extension": ".py",
   "mimetype": "text/x-python",
   "name": "python",
   "nbconvert_exporter": "python",
   "pygments_lexer": "ipython2",
   "version": "2.7.9"
  }
 },
 "nbformat": 4,
 "nbformat_minor": 0
}
