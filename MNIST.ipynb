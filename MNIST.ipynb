{
 "cells": [
  {
   "cell_type": "code",
   "execution_count": null,
   "metadata": {
    "collapsed": true
   },
   "outputs": [],
   "source": [
    "# Download helper from google tutorial\n",
    "from __future__ import print_function\n",
    "import gzip\n",
    "import os\n",
    "import urllib\n",
    "\n",
    "import numpy\n",
    "\n",
    "SOURCE_URL = 'http://yann.lecun.com/exdb/mnist/'\n",
    "\n",
    "\n",
    "def maybe_download(filename, work_directory):\n",
    "  \"\"\"Download the data from Yann's website, unless it's already here.\"\"\"\n",
    "  if not os.path.exists(work_directory):\n",
    "    os.mkdir(work_directory)\n",
    "  filepath = os.path.join(work_directory, filename)\n",
    "  if not os.path.exists(filepath):\n",
    "    filepath, _ = urllib.urlretrieve(SOURCE_URL + filename, filepath)\n",
    "    statinfo = os.stat(filepath)\n",
    "    print('Succesfully downloaded', filename, statinfo.st_size, 'bytes.')\n",
    "  return filepath\n",
    "\n",
    "\n",
    "def _read32(bytestream):\n",
    "  dt = numpy.dtype(numpy.uint32).newbyteorder('>')\n",
    "  return numpy.frombuffer(bytestream.read(4), dtype=dt)\n",
    "\n",
    "\n",
    "def extract_images(filename):\n",
    "  \"\"\"Extract the images into a 4D uint8 numpy array [index, y, x, depth].\"\"\"\n",
    "  print('Extracting', filename)\n",
    "  with gzip.open(filename) as bytestream:\n",
    "    magic = _read32(bytestream)\n",
    "    if magic != 2051:\n",
    "      raise ValueError(\n",
    "          'Invalid magic number %d in MNIST image file: %s' %\n",
    "          (magic, filename))\n",
    "    num_images = _read32(bytestream)\n",
    "    rows = _read32(bytestream)\n",
    "    cols = _read32(bytestream)\n",
    "    buf = bytestream.read(rows * cols * num_images)\n",
    "    data = numpy.frombuffer(buf, dtype=numpy.uint8)\n",
    "    data = data.reshape(num_images, rows, cols, 1)\n",
    "    return data\n",
    "\n",
    "\n",
    "def dense_to_one_hot(labels_dense, num_classes=10):\n",
    "  \"\"\"Convert class labels from scalars to one-hot vectors.\"\"\"\n",
    "  num_labels = labels_dense.shape[0]\n",
    "  index_offset = numpy.arange(num_labels) * num_classes\n",
    "  labels_one_hot = numpy.zeros((num_labels, num_classes))\n",
    "  labels_one_hot.flat[index_offset + labels_dense.ravel()] = 1\n",
    "  return labels_one_hot\n",
    "\n",
    "\n",
    "def extract_labels(filename, one_hot=False):\n",
    "  \"\"\"Extract the labels into a 1D uint8 numpy array [index].\"\"\"\n",
    "  print('Extracting', filename)\n",
    "  with gzip.open(filename) as bytestream:\n",
    "    magic = _read32(bytestream)\n",
    "    if magic != 2049:\n",
    "      raise ValueError(\n",
    "          'Invalid magic number %d in MNIST label file: %s' %\n",
    "          (magic, filename))\n",
    "    num_items = _read32(bytestream)\n",
    "    buf = bytestream.read(num_items)\n",
    "    labels = numpy.frombuffer(buf, dtype=numpy.uint8)\n",
    "    if one_hot:\n",
    "      return dense_to_one_hot(labels)\n",
    "    return labels\n",
    "\n",
    "\n",
    "class DataSet(object):\n",
    "\n",
    "  def __init__(self, images, labels, fake_data=False):\n",
    "    if fake_data:\n",
    "      self._num_examples = 10000\n",
    "    else:\n",
    "      assert images.shape[0] == labels.shape[0], (\n",
    "          \"images.shape: %s labels.shape: %s\" % (images.shape,\n",
    "                                                 labels.shape))\n",
    "      self._num_examples = images.shape[0]\n",
    "\n",
    "      # Convert shape from [num examples, rows, columns, depth]\n",
    "      # to [num examples, rows*columns] (assuming depth == 1)\n",
    "      assert images.shape[3] == 1\n",
    "      images = images.reshape(images.shape[0],\n",
    "                              images.shape[1] * images.shape[2])\n",
    "      # Convert from [0, 255] -> [0.0, 1.0].\n",
    "      images = images.astype(numpy.float32)\n",
    "      images = numpy.multiply(images, 1.0 / 255.0)\n",
    "    self._images = images\n",
    "    self._labels = labels\n",
    "    self._epochs_completed = 0\n",
    "    self._index_in_epoch = 0\n",
    "\n",
    "  @property\n",
    "  def images(self):\n",
    "    return self._images\n",
    "\n",
    "  @property\n",
    "  def labels(self):\n",
    "    return self._labels\n",
    "\n",
    "  @property\n",
    "  def num_examples(self):\n",
    "    return self._num_examples\n",
    "\n",
    "  @property\n",
    "  def epochs_completed(self):\n",
    "    return self._epochs_completed\n",
    "\n",
    "  def next_batch(self, batch_size, fake_data=False):\n",
    "    \"\"\"Return the next `batch_size` examples from this data set.\"\"\"\n",
    "    if fake_data:\n",
    "      fake_image = [1.0 for _ in xrange(784)]\n",
    "      fake_label = 0\n",
    "      return [fake_image for _ in xrange(batch_size)], [\n",
    "          fake_label for _ in xrange(batch_size)]\n",
    "    start = self._index_in_epoch\n",
    "    self._index_in_epoch += batch_size\n",
    "    if self._index_in_epoch > self._num_examples:\n",
    "      # Finished epoch\n",
    "      self._epochs_completed += 1\n",
    "      # Shuffle the data\n",
    "      perm = numpy.arange(self._num_examples)\n",
    "      numpy.random.shuffle(perm)\n",
    "      self._images = self._images[perm]\n",
    "      self._labels = self._labels[perm]\n",
    "      # Start next epoch\n",
    "      start = 0\n",
    "      self._index_in_epoch = batch_size\n",
    "      assert batch_size <= self._num_examples\n",
    "    end = self._index_in_epoch\n",
    "    return self._images[start:end], self._labels[start:end]\n",
    "\n",
    "\n",
    "def read_data_sets(train_dir, fake_data=False, one_hot=False):\n",
    "  class DataSets(object):\n",
    "    pass\n",
    "  data_sets = DataSets()\n",
    "\n",
    "  if fake_data:\n",
    "    data_sets.train = DataSet([], [], fake_data=True)\n",
    "    data_sets.validation = DataSet([], [], fake_data=True)\n",
    "    data_sets.test = DataSet([], [], fake_data=True)\n",
    "    return data_sets\n",
    "\n",
    "  TRAIN_IMAGES = 'train-images-idx3-ubyte.gz'\n",
    "  TRAIN_LABELS = 'train-labels-idx1-ubyte.gz'\n",
    "  TEST_IMAGES = 't10k-images-idx3-ubyte.gz'\n",
    "  TEST_LABELS = 't10k-labels-idx1-ubyte.gz'\n",
    "  VALIDATION_SIZE = 5000\n",
    "\n",
    "  local_file = maybe_download(TRAIN_IMAGES, train_dir)\n",
    "  train_images = extract_images(local_file)\n",
    "\n",
    "  local_file = maybe_download(TRAIN_LABELS, train_dir)\n",
    "  train_labels = extract_labels(local_file, one_hot=one_hot)\n",
    "\n",
    "  local_file = maybe_download(TEST_IMAGES, train_dir)\n",
    "  test_images = extract_images(local_file)\n",
    "\n",
    "  local_file = maybe_download(TEST_LABELS, train_dir)\n",
    "  test_labels = extract_labels(local_file, one_hot=one_hot)\n",
    "\n",
    "  validation_images = train_images[:VALIDATION_SIZE]\n",
    "  validation_labels = train_labels[:VALIDATION_SIZE]\n",
    "  train_images = train_images[VALIDATION_SIZE:]\n",
    "  train_labels = train_labels[VALIDATION_SIZE:]\n",
    "\n",
    "  data_sets.train = DataSet(train_images, train_labels)\n",
    "  data_sets.validation = DataSet(validation_images, validation_labels)\n",
    "  data_sets.test = DataSet(test_images, test_labels)\n",
    "\n",
    "  return data_sets"
   ]
  },
  {
   "cell_type": "code",
   "execution_count": null,
   "metadata": {
    "collapsed": false,
    "scrolled": true
   },
   "outputs": [],
   "source": [
    "mnist = read_data_sets(\"MNIST_data/\", one_hot=True)"
   ]
  },
  {
   "cell_type": "code",
   "execution_count": null,
   "metadata": {
    "collapsed": false
   },
   "outputs": [],
   "source": [
    "mnist.test.images"
   ]
  },
  {
   "cell_type": "code",
   "execution_count": null,
   "metadata": {
    "collapsed": false
   },
   "outputs": [],
   "source": [
    "mnist.test.images.shape"
   ]
  },
  {
   "cell_type": "code",
   "execution_count": null,
   "metadata": {
    "collapsed": false
   },
   "outputs": [],
   "source": [
    "import matplotlib.pyplot as plt\n",
    "%matplotlib inline\n",
    "plt.imshow(mnist.test.images[0].reshape([28,28]), cmap='gray')"
   ]
  },
  {
   "cell_type": "code",
   "execution_count": null,
   "metadata": {
    "collapsed": false
   },
   "outputs": [],
   "source": [
    "from io import BytesIO\n",
    "import cv2\n",
    "import PIL\n",
    "import numpy as np\n",
    "from IPython.display import display, Image\n",
    "\n",
    "def display_img_array(ima, **kwargs):\n",
    "    if ima.dtype == np.float32 or ima.dtype == np.float64:\n",
    "        ima = (ima*255).astype(np.uint8)\n",
    "    im = PIL.Image.fromarray(ima)\n",
    "    bio = BytesIO()\n",
    "    im.save(bio, format='png')\n",
    "    display(Image(bio.getvalue(), format='png', **kwargs))\n",
    "print(mnist.train.num_examples)\n",
    "for i in range(10):\n",
    "    print(mnist.train.labels[i])\n",
    "    display_img_array(mnist.test.images[i].reshape([28,28]), width=200)"
   ]
  },
  {
   "cell_type": "code",
   "execution_count": null,
   "metadata": {
    "collapsed": false
   },
   "outputs": [],
   "source": [
    "import tensorflow as tf\n",
    "# Interactive session (aka default session)\n",
    "sess = tf.InteractiveSession()"
   ]
  },
  {
   "cell_type": "code",
   "execution_count": null,
   "metadata": {
    "collapsed": true
   },
   "outputs": [],
   "source": [
    "from tfdot import tfdot"
   ]
  },
  {
   "cell_type": "markdown",
   "metadata": {},
   "source": [
    "## Softmax regression"
   ]
  },
  {
   "cell_type": "code",
   "execution_count": null,
   "metadata": {
    "collapsed": false
   },
   "outputs": [],
   "source": [
    "x = tf.placeholder(\"float\", shape=[None, 784], name=\"x\")\n",
    "y_ = tf.placeholder(\"float\", shape=[None, 10], name=\"y_\")"
   ]
  },
  {
   "cell_type": "code",
   "execution_count": null,
   "metadata": {
    "collapsed": false
   },
   "outputs": [],
   "source": [
    "W = tf.Variable(tf.zeros([784, 10]), name='W')\n",
    "b = tf.Variable(tf.zeros([10]), name='b')\n",
    "tf.initialize_all_variables().run()"
   ]
  },
  {
   "cell_type": "code",
   "execution_count": null,
   "metadata": {
    "collapsed": false
   },
   "outputs": [],
   "source": [
    "tfdot()"
   ]
  },
  {
   "cell_type": "code",
   "execution_count": null,
   "metadata": {
    "collapsed": false
   },
   "outputs": [],
   "source": [
    "y = tf.nn.softmax(tf.matmul(x,W)+b, name=\"y_softmax\")\n",
    "cross_entropy = -tf.reduce_sum(y_*tf.log(y))"
   ]
  },
  {
   "cell_type": "code",
   "execution_count": null,
   "metadata": {
    "collapsed": false
   },
   "outputs": [],
   "source": [
    "tfdot()"
   ]
  },
  {
   "cell_type": "code",
   "execution_count": null,
   "metadata": {
    "collapsed": true
   },
   "outputs": [],
   "source": [
    "train_step = tf.train.GradientDescentOptimizer(0.01).minimize(cross_entropy)"
   ]
  },
  {
   "cell_type": "code",
   "execution_count": null,
   "metadata": {
    "collapsed": false
   },
   "outputs": [],
   "source": [
    "tfdot()"
   ]
  },
  {
   "cell_type": "code",
   "execution_count": null,
   "metadata": {
    "collapsed": true
   },
   "outputs": [],
   "source": [
    "for i in range(1000):\n",
    "    batch = mnist.train.next_batch(50)\n",
    "    train_step.run(feed_dict={x:batch[0], y_:batch[1]})"
   ]
  },
  {
   "cell_type": "code",
   "execution_count": null,
   "metadata": {
    "collapsed": false
   },
   "outputs": [],
   "source": [
    "y.eval(feed_dict={x: mnist.test.images[:10]})"
   ]
  },
  {
   "cell_type": "code",
   "execution_count": null,
   "metadata": {
    "collapsed": true
   },
   "outputs": [],
   "source": [
    "prediction = tf.argmax(y, 1)"
   ]
  },
  {
   "cell_type": "code",
   "execution_count": null,
   "metadata": {
    "collapsed": false
   },
   "outputs": [],
   "source": [
    "# print predictions\n",
    "prediction.eval(feed_dict={x: mnist.test.images[:10]})"
   ]
  },
  {
   "cell_type": "code",
   "execution_count": null,
   "metadata": {
    "collapsed": false
   },
   "outputs": [],
   "source": [
    "# print labels\n",
    "np.argmax(mnist.test.labels[:10],1)"
   ]
  },
  {
   "cell_type": "code",
   "execution_count": null,
   "metadata": {
    "collapsed": false
   },
   "outputs": [],
   "source": [
    "display_img_array(mnist.test.images[8].reshape(28,28), width=100)"
   ]
  },
  {
   "cell_type": "code",
   "execution_count": null,
   "metadata": {
    "collapsed": true
   },
   "outputs": [],
   "source": [
    "correct_prediction = tf.equal(tf.argmax(y,1), tf.argmax(y_, 1))"
   ]
  },
  {
   "cell_type": "code",
   "execution_count": null,
   "metadata": {
    "collapsed": false
   },
   "outputs": [],
   "source": [
    "correct_prediction.eval(feed_dict={x: mnist.test.images[:10] , y_: mnist.test.labels[:10]})"
   ]
  },
  {
   "cell_type": "code",
   "execution_count": null,
   "metadata": {
    "collapsed": true
   },
   "outputs": [],
   "source": [
    "accuracy = tf.reduce_mean(tf.cast(correct_prediction, \"float\"))"
   ]
  },
  {
   "cell_type": "code",
   "execution_count": null,
   "metadata": {
    "collapsed": false
   },
   "outputs": [],
   "source": [
    "accuracy.eval(feed_dict={x: mnist.test.images[:10] , y_: mnist.test.labels[:10]})"
   ]
  },
  {
   "cell_type": "code",
   "execution_count": null,
   "metadata": {
    "collapsed": false
   },
   "outputs": [],
   "source": [
    "accuracy.eval(feed_dict={x: mnist.test.images , y_: mnist.test.labels})"
   ]
  },
  {
   "cell_type": "code",
   "execution_count": null,
   "metadata": {
    "collapsed": false
   },
   "outputs": [],
   "source": [
    "for t in range(10):\n",
    "    for i in range(1000):\n",
    "        batch = mnist.train.next_batch(200)\n",
    "        train_step.run(feed_dict={x:batch[0], y_:batch[1]})\n",
    "    a = accuracy.eval(feed_dict={x: mnist.validation.images , y_: mnist.validation.labels})\n",
    "    print (t, a)"
   ]
  },
  {
   "cell_type": "code",
   "execution_count": null,
   "metadata": {
    "collapsed": false
   },
   "outputs": [],
   "source": [
    "accuracy.eval(feed_dict={x: mnist.test.images , y_: mnist.test.labels})"
   ]
  },
  {
   "cell_type": "markdown",
   "metadata": {},
   "source": [
    " 91% accuracy on MNIST is bad. It's almost embarrassingly bad.\n",
    " \n",
    " http://rodrigob.github.io/are_we_there_yet/build/classification_datasets_results.html"
   ]
  },
  {
   "cell_type": "markdown",
   "metadata": {},
   "source": [
    "# Multilayer Convolutional Network"
   ]
  },
  {
   "cell_type": "code",
   "execution_count": 21,
   "metadata": {
    "collapsed": false
   },
   "outputs": [],
   "source": [
    "# reset session and graph\n",
    "import tensorflow as tf\n",
    "from tfdot import tfdot\n",
    "tf.ops.reset_default_graph()\n",
    "sess.close()\n",
    "sess = tf.InteractiveSession()\n",
    "x = tf.placeholder(\"float\", shape=[None, 784], name=\"x\")\n",
    "y_ = tf.placeholder(\"float\", shape=[None, 10], name=\"y_\")"
   ]
  },
  {
   "cell_type": "code",
   "execution_count": 22,
   "metadata": {
    "collapsed": true
   },
   "outputs": [],
   "source": [
    "def weight_variable(shape):\n",
    "    initial = tf.truncated_normal(shape, stddev=0.1)\n",
    "    return tf.Variable(initial, name ='W')\n",
    "def bias_variable(shape):\n",
    "    initial = tf.constant(0.1, shape=shape)\n",
    "    return tf.Variable(initial, name = 'b')"
   ]
  },
  {
   "cell_type": "code",
   "execution_count": 23,
   "metadata": {
    "collapsed": true
   },
   "outputs": [],
   "source": [
    "def conv2d(x, W):\n",
    "    return tf.nn.conv2d(x, W, strides=[1,1,1,1], padding='SAME')\n",
    "def max_pool_2x2(x):\n",
    "    return tf.nn.max_pool(x, ksize=[1,2,2,1], strides=[1,2,2,1], padding='SAME')"
   ]
  },
  {
   "cell_type": "code",
   "execution_count": 24,
   "metadata": {
    "collapsed": false
   },
   "outputs": [],
   "source": [
    "# fisrt layer\n",
    "with tf.name_scope('conv1'):\n",
    "    ## variables\n",
    "    W_conv1 = weight_variable([5,5,1,32])\n",
    "    b_conv1 = bias_variable([32])\n",
    "    ## build the layer\n",
    "    x_image = tf.reshape(x, [-1, 28, 28, 1])\n",
    "    h_conv1 = tf.nn.relu(conv2d(x_image, W_conv1) + b_conv1)\n",
    "    h_pool1 = max_pool_2x2(h_conv1)"
   ]
  },
  {
   "cell_type": "code",
   "execution_count": 26,
   "metadata": {
    "collapsed": false
   },
   "outputs": [
    {
     "data": {
      "image/svg+xml": [
       "<?xml version=\"1.0\" encoding=\"UTF-8\" standalone=\"no\"?>\n",
       "<!DOCTYPE svg PUBLIC \"-//W3C//DTD SVG 1.1//EN\"\n",
       " \"http://www.w3.org/Graphics/SVG/1.1/DTD/svg11.dtd\">\n",
       "<!-- Generated by graphviz version 2.38.0 (20140413.2041)\n",
       " -->\n",
       "<!-- Title: %3 Pages: 1 -->\n",
       "<svg width=\"1029pt\" height=\"548pt\"\n",
       " viewBox=\"0.00 0.00 1029.00 548.00\" xmlns=\"http://www.w3.org/2000/svg\" xmlns:xlink=\"http://www.w3.org/1999/xlink\">\n",
       "<g id=\"graph0\" class=\"graph\" transform=\"scale(1 1) rotate(0) translate(4 544)\">\n",
       "<title>%3</title>\n",
       "<polygon fill=\"white\" stroke=\"none\" points=\"-4,4 -4,-544 1025,-544 1025,4 -4,4\"/>\n",
       "<!-- x -->\n",
       "<g id=\"node1\" class=\"node\"><title>x</title>\n",
       "<ellipse fill=\"#cff8be\" stroke=\"black\" cx=\"27\" cy=\"-378\" rx=\"27\" ry=\"18\"/>\n",
       "<text text-anchor=\"middle\" x=\"27\" y=\"-374.3\" font-family=\"Times,serif\" font-size=\"14.00\">x</text>\n",
       "</g>\n",
       "<!-- conv1/Reshape -->\n",
       "<g id=\"node15\" class=\"node\"><title>conv1/Reshape</title>\n",
       "<ellipse fill=\"#fdc1a1\" stroke=\"black\" cx=\"93\" cy=\"-306\" rx=\"64.189\" ry=\"18\"/>\n",
       "<text text-anchor=\"middle\" x=\"93\" y=\"-302.3\" font-family=\"Times,serif\" font-size=\"14.00\">conv1/Reshape</text>\n",
       "</g>\n",
       "<!-- x&#45;&gt;conv1/Reshape -->\n",
       "<g id=\"edge10\" class=\"edge\"><title>x&#45;&gt;conv1/Reshape</title>\n",
       "<path fill=\"none\" stroke=\"black\" d=\"M40.9969,-362.155C49.4398,-353.2 60.4001,-341.576 70.0803,-331.309\"/>\n",
       "<polygon fill=\"black\" stroke=\"black\" points=\"72.8568,-333.466 77.1704,-323.789 67.7636,-328.664 72.8568,-333.466\"/>\n",
       "</g>\n",
       "<!-- y_ -->\n",
       "<g id=\"node2\" class=\"node\"><title>y_</title>\n",
       "<ellipse fill=\"#cff8be\" stroke=\"black\" cx=\"994\" cy=\"-522\" rx=\"27\" ry=\"18\"/>\n",
       "<text text-anchor=\"middle\" x=\"994\" y=\"-518.3\" font-family=\"Times,serif\" font-size=\"14.00\">y_</text>\n",
       "</g>\n",
       "<!-- conv1/truncated_normal/shape -->\n",
       "<g id=\"node3\" class=\"node\"><title>conv1/truncated_normal/shape</title>\n",
       "<ellipse fill=\"yellow\" stroke=\"black\" cx=\"829\" cy=\"-522\" rx=\"119.679\" ry=\"18\"/>\n",
       "<text text-anchor=\"middle\" x=\"829\" y=\"-518.3\" font-family=\"Times,serif\" font-size=\"14.00\">conv1/truncated_normal/shape</text>\n",
       "</g>\n",
       "<!-- conv1/truncated_normal/TruncatedNormal -->\n",
       "<g id=\"node6\" class=\"node\"><title>conv1/truncated_normal/TruncatedNormal</title>\n",
       "<ellipse fill=\"#b4deb1\" stroke=\"black\" cx=\"829\" cy=\"-450\" rx=\"162.471\" ry=\"18\"/>\n",
       "<text text-anchor=\"middle\" x=\"829\" y=\"-446.3\" font-family=\"Times,serif\" font-size=\"14.00\">conv1/truncated_normal/TruncatedNormal</text>\n",
       "</g>\n",
       "<!-- conv1/truncated_normal/shape&#45;&gt;conv1/truncated_normal/TruncatedNormal -->\n",
       "<g id=\"edge1\" class=\"edge\"><title>conv1/truncated_normal/shape&#45;&gt;conv1/truncated_normal/TruncatedNormal</title>\n",
       "<path fill=\"none\" stroke=\"black\" d=\"M829,-503.697C829,-495.983 829,-486.712 829,-478.112\"/>\n",
       "<polygon fill=\"black\" stroke=\"black\" points=\"832.5,-478.104 829,-468.104 825.5,-478.104 832.5,-478.104\"/>\n",
       "</g>\n",
       "<!-- conv1/truncated_normal/mean -->\n",
       "<g id=\"node4\" class=\"node\"><title>conv1/truncated_normal/mean</title>\n",
       "<ellipse fill=\"yellow\" stroke=\"black\" cx=\"426\" cy=\"-378\" rx=\"118.879\" ry=\"18\"/>\n",
       "<text text-anchor=\"middle\" x=\"426\" y=\"-374.3\" font-family=\"Times,serif\" font-size=\"14.00\">conv1/truncated_normal/mean</text>\n",
       "</g>\n",
       "<!-- conv1/truncated_normal -->\n",
       "<g id=\"node8\" class=\"node\"><title>conv1/truncated_normal</title>\n",
       "<ellipse fill=\"#f8e6c2\" stroke=\"black\" cx=\"469\" cy=\"-306\" rx=\"96.6831\" ry=\"18\"/>\n",
       "<text text-anchor=\"middle\" x=\"469\" y=\"-302.3\" font-family=\"Times,serif\" font-size=\"14.00\">conv1/truncated_normal</text>\n",
       "</g>\n",
       "<!-- conv1/truncated_normal/mean&#45;&gt;conv1/truncated_normal -->\n",
       "<g id=\"edge5\" class=\"edge\"><title>conv1/truncated_normal/mean&#45;&gt;conv1/truncated_normal</title>\n",
       "<path fill=\"none\" stroke=\"black\" d=\"M436.409,-360.055C441.405,-351.922 447.501,-341.998 453.064,-332.943\"/>\n",
       "<polygon fill=\"black\" stroke=\"black\" points=\"456.136,-334.628 458.388,-324.275 450.172,-330.964 456.136,-334.628\"/>\n",
       "</g>\n",
       "<!-- conv1/truncated_normal/stddev -->\n",
       "<g id=\"node5\" class=\"node\"><title>conv1/truncated_normal/stddev</title>\n",
       "<ellipse fill=\"yellow\" stroke=\"black\" cx=\"526\" cy=\"-450\" rx=\"122.379\" ry=\"18\"/>\n",
       "<text text-anchor=\"middle\" x=\"526\" y=\"-446.3\" font-family=\"Times,serif\" font-size=\"14.00\">conv1/truncated_normal/stddev</text>\n",
       "</g>\n",
       "<!-- conv1/truncated_normal/mul -->\n",
       "<g id=\"node7\" class=\"node\"><title>conv1/truncated_normal/mul</title>\n",
       "<ellipse fill=\"#c7c1ab\" stroke=\"black\" cx=\"677\" cy=\"-378\" rx=\"113.98\" ry=\"18\"/>\n",
       "<text text-anchor=\"middle\" x=\"677\" y=\"-374.3\" font-family=\"Times,serif\" font-size=\"14.00\">conv1/truncated_normal/mul</text>\n",
       "</g>\n",
       "<!-- conv1/truncated_normal/stddev&#45;&gt;conv1/truncated_normal/mul -->\n",
       "<g id=\"edge3\" class=\"edge\"><title>conv1/truncated_normal/stddev&#45;&gt;conv1/truncated_normal/mul</title>\n",
       "<path fill=\"none\" stroke=\"black\" d=\"M561.403,-432.588C582.778,-422.679 610.194,-409.97 632.962,-399.415\"/>\n",
       "<polygon fill=\"black\" stroke=\"black\" points=\"634.479,-402.569 642.08,-395.188 631.535,-396.219 634.479,-402.569\"/>\n",
       "</g>\n",
       "<!-- conv1/truncated_normal/TruncatedNormal&#45;&gt;conv1/truncated_normal/mul -->\n",
       "<g id=\"edge2\" class=\"edge\"><title>conv1/truncated_normal/TruncatedNormal&#45;&gt;conv1/truncated_normal/mul</title>\n",
       "<path fill=\"none\" stroke=\"black\" d=\"M792.978,-432.411C771.528,-422.533 744.138,-409.919 721.362,-399.43\"/>\n",
       "<polygon fill=\"black\" stroke=\"black\" points=\"722.786,-396.232 712.239,-395.228 719.858,-402.591 722.786,-396.232\"/>\n",
       "</g>\n",
       "<!-- conv1/truncated_normal/mul&#45;&gt;conv1/truncated_normal -->\n",
       "<g id=\"edge4\" class=\"edge\"><title>conv1/truncated_normal/mul&#45;&gt;conv1/truncated_normal</title>\n",
       "<path fill=\"none\" stroke=\"black\" d=\"M630.838,-361.465C599.03,-350.76 556.638,-336.494 523.22,-325.247\"/>\n",
       "<polygon fill=\"black\" stroke=\"black\" points=\"524.199,-321.884 513.605,-322.011 521.967,-328.518 524.199,-321.884\"/>\n",
       "</g>\n",
       "<!-- conv1/W/Assign -->\n",
       "<g id=\"node10\" class=\"node\"><title>conv1/W/Assign</title>\n",
       "<ellipse fill=\"#bbbbff\" stroke=\"black\" cx=\"469\" cy=\"-234\" rx=\"70.3881\" ry=\"18\"/>\n",
       "<text text-anchor=\"middle\" x=\"469\" y=\"-230.3\" font-family=\"Times,serif\" font-size=\"14.00\">conv1/W/Assign</text>\n",
       "</g>\n",
       "<!-- conv1/truncated_normal&#45;&gt;conv1/W/Assign -->\n",
       "<g id=\"edge7\" class=\"edge\"><title>conv1/truncated_normal&#45;&gt;conv1/W/Assign</title>\n",
       "<path fill=\"none\" stroke=\"black\" d=\"M469,-287.697C469,-279.983 469,-270.712 469,-262.112\"/>\n",
       "<polygon fill=\"black\" stroke=\"black\" points=\"472.5,-262.104 469,-252.104 465.5,-262.104 472.5,-262.104\"/>\n",
       "</g>\n",
       "<!-- conv1/W -->\n",
       "<g id=\"node9\" class=\"node\"><title>conv1/W</title>\n",
       "<ellipse fill=\"#ffbbbb\" stroke=\"black\" cx=\"265\" cy=\"-306\" rx=\"43.5923\" ry=\"18\"/>\n",
       "<text text-anchor=\"middle\" x=\"265\" y=\"-302.3\" font-family=\"Times,serif\" font-size=\"14.00\">conv1/W</text>\n",
       "</g>\n",
       "<!-- conv1/W&#45;&gt;conv1/W/Assign -->\n",
       "<g id=\"edge6\" class=\"edge\"><title>conv1/W&#45;&gt;conv1/W/Assign</title>\n",
       "<path fill=\"none\" stroke=\"black\" d=\"M297.324,-293.908C330.017,-282.69 381.003,-265.195 418.928,-252.182\"/>\n",
       "<polygon fill=\"black\" stroke=\"black\" points=\"420.437,-255.364 428.76,-248.808 418.165,-248.743 420.437,-255.364\"/>\n",
       "</g>\n",
       "<!-- conv1/Conv2D -->\n",
       "<g id=\"node16\" class=\"node\"><title>conv1/Conv2D</title>\n",
       "<ellipse fill=\"#fed6b7\" stroke=\"black\" cx=\"93\" cy=\"-234\" rx=\"64.189\" ry=\"18\"/>\n",
       "<text text-anchor=\"middle\" x=\"93\" y=\"-230.3\" font-family=\"Times,serif\" font-size=\"14.00\">conv1/Conv2D</text>\n",
       "</g>\n",
       "<!-- conv1/W&#45;&gt;conv1/Conv2D -->\n",
       "<g id=\"edge13\" class=\"edge\"><title>conv1/W&#45;&gt;conv1/Conv2D</title>\n",
       "<path fill=\"none\" stroke=\"black\" d=\"M235.04,-292.807C208.117,-281.85 168.215,-265.611 137.552,-253.132\"/>\n",
       "<polygon fill=\"black\" stroke=\"black\" points=\"138.531,-249.751 127.949,-249.224 135.892,-256.235 138.531,-249.751\"/>\n",
       "</g>\n",
       "<!-- conv1/Const -->\n",
       "<g id=\"node11\" class=\"node\"><title>conv1/Const</title>\n",
       "<ellipse fill=\"yellow\" stroke=\"black\" cx=\"326\" cy=\"-234\" rx=\"55.4913\" ry=\"18\"/>\n",
       "<text text-anchor=\"middle\" x=\"326\" y=\"-230.3\" font-family=\"Times,serif\" font-size=\"14.00\">conv1/Const</text>\n",
       "</g>\n",
       "<!-- conv1/b/Assign -->\n",
       "<g id=\"node13\" class=\"node\"><title>conv1/b/Assign</title>\n",
       "<ellipse fill=\"#bbbbff\" stroke=\"black\" cx=\"300\" cy=\"-162\" rx=\"65.7887\" ry=\"18\"/>\n",
       "<text text-anchor=\"middle\" x=\"300\" y=\"-158.3\" font-family=\"Times,serif\" font-size=\"14.00\">conv1/b/Assign</text>\n",
       "</g>\n",
       "<!-- conv1/Const&#45;&gt;conv1/b/Assign -->\n",
       "<g id=\"edge9\" class=\"edge\"><title>conv1/Const&#45;&gt;conv1/b/Assign</title>\n",
       "<path fill=\"none\" stroke=\"black\" d=\"M319.706,-216.055C316.78,-208.176 313.229,-198.617 309.952,-189.794\"/>\n",
       "<polygon fill=\"black\" stroke=\"black\" points=\"313.179,-188.431 306.417,-180.275 306.617,-190.868 313.179,-188.431\"/>\n",
       "</g>\n",
       "<!-- conv1/b -->\n",
       "<g id=\"node12\" class=\"node\"><title>conv1/b</title>\n",
       "<ellipse fill=\"#ffbbbb\" stroke=\"black\" cx=\"214\" cy=\"-234\" rx=\"38.9931\" ry=\"18\"/>\n",
       "<text text-anchor=\"middle\" x=\"214\" y=\"-230.3\" font-family=\"Times,serif\" font-size=\"14.00\">conv1/b</text>\n",
       "</g>\n",
       "<!-- conv1/b&#45;&gt;conv1/b/Assign -->\n",
       "<g id=\"edge8\" class=\"edge\"><title>conv1/b&#45;&gt;conv1/b/Assign</title>\n",
       "<path fill=\"none\" stroke=\"black\" d=\"M232.661,-217.811C244.089,-208.509 258.936,-196.424 271.781,-185.969\"/>\n",
       "<polygon fill=\"black\" stroke=\"black\" points=\"274.33,-188.407 279.876,-179.38 269.911,-182.978 274.33,-188.407\"/>\n",
       "</g>\n",
       "<!-- conv1/add -->\n",
       "<g id=\"node17\" class=\"node\"><title>conv1/add</title>\n",
       "<ellipse fill=\"#f8e6c2\" stroke=\"black\" cx=\"144\" cy=\"-162\" rx=\"47.3916\" ry=\"18\"/>\n",
       "<text text-anchor=\"middle\" x=\"144\" y=\"-158.3\" font-family=\"Times,serif\" font-size=\"14.00\">conv1/add</text>\n",
       "</g>\n",
       "<!-- conv1/b&#45;&gt;conv1/add -->\n",
       "<g id=\"edge15\" class=\"edge\"><title>conv1/b&#45;&gt;conv1/add</title>\n",
       "<path fill=\"none\" stroke=\"black\" d=\"M198.465,-217.465C189.26,-208.26 177.421,-196.421 167.134,-186.134\"/>\n",
       "<polygon fill=\"black\" stroke=\"black\" points=\"169.523,-183.573 159.977,-178.977 164.573,-188.523 169.523,-183.573\"/>\n",
       "</g>\n",
       "<!-- conv1/Reshape/shape -->\n",
       "<g id=\"node14\" class=\"node\"><title>conv1/Reshape/shape</title>\n",
       "<ellipse fill=\"yellow\" stroke=\"black\" cx=\"159\" cy=\"-378\" rx=\"87.1846\" ry=\"18\"/>\n",
       "<text text-anchor=\"middle\" x=\"159\" y=\"-374.3\" font-family=\"Times,serif\" font-size=\"14.00\">conv1/Reshape/shape</text>\n",
       "</g>\n",
       "<!-- conv1/Reshape/shape&#45;&gt;conv1/Reshape -->\n",
       "<g id=\"edge11\" class=\"edge\"><title>conv1/Reshape/shape&#45;&gt;conv1/Reshape</title>\n",
       "<path fill=\"none\" stroke=\"black\" d=\"M143.023,-360.055C134.835,-351.371 124.722,-340.644 115.736,-331.114\"/>\n",
       "<polygon fill=\"black\" stroke=\"black\" points=\"118.236,-328.664 108.83,-323.789 113.143,-333.466 118.236,-328.664\"/>\n",
       "</g>\n",
       "<!-- conv1/Reshape&#45;&gt;conv1/Conv2D -->\n",
       "<g id=\"edge12\" class=\"edge\"><title>conv1/Reshape&#45;&gt;conv1/Conv2D</title>\n",
       "<path fill=\"none\" stroke=\"black\" d=\"M93,-287.697C93,-279.983 93,-270.712 93,-262.112\"/>\n",
       "<polygon fill=\"black\" stroke=\"black\" points=\"96.5001,-262.104 93,-252.104 89.5001,-262.104 96.5001,-262.104\"/>\n",
       "</g>\n",
       "<!-- conv1/Conv2D&#45;&gt;conv1/add -->\n",
       "<g id=\"edge14\" class=\"edge\"><title>conv1/Conv2D&#45;&gt;conv1/add</title>\n",
       "<path fill=\"none\" stroke=\"black\" d=\"M105.346,-216.055C111.485,-207.629 119.025,-197.28 125.81,-187.966\"/>\n",
       "<polygon fill=\"black\" stroke=\"black\" points=\"128.708,-189.932 131.768,-179.789 123.051,-185.81 128.708,-189.932\"/>\n",
       "</g>\n",
       "<!-- conv1/Relu -->\n",
       "<g id=\"node18\" class=\"node\"><title>conv1/Relu</title>\n",
       "<ellipse fill=\"#f1cb9d\" stroke=\"black\" cx=\"144\" cy=\"-90\" rx=\"51.1914\" ry=\"18\"/>\n",
       "<text text-anchor=\"middle\" x=\"144\" y=\"-86.3\" font-family=\"Times,serif\" font-size=\"14.00\">conv1/Relu</text>\n",
       "</g>\n",
       "<!-- conv1/add&#45;&gt;conv1/Relu -->\n",
       "<g id=\"edge16\" class=\"edge\"><title>conv1/add&#45;&gt;conv1/Relu</title>\n",
       "<path fill=\"none\" stroke=\"black\" d=\"M144,-143.697C144,-135.983 144,-126.712 144,-118.112\"/>\n",
       "<polygon fill=\"black\" stroke=\"black\" points=\"147.5,-118.104 144,-108.104 140.5,-118.104 147.5,-118.104\"/>\n",
       "</g>\n",
       "<!-- conv1/MaxPool -->\n",
       "<g id=\"node19\" class=\"node\"><title>conv1/MaxPool</title>\n",
       "<ellipse fill=\"#e8fec9\" stroke=\"black\" cx=\"144\" cy=\"-18\" rx=\"67.6881\" ry=\"18\"/>\n",
       "<text text-anchor=\"middle\" x=\"144\" y=\"-14.3\" font-family=\"Times,serif\" font-size=\"14.00\">conv1/MaxPool</text>\n",
       "</g>\n",
       "<!-- conv1/Relu&#45;&gt;conv1/MaxPool -->\n",
       "<g id=\"edge17\" class=\"edge\"><title>conv1/Relu&#45;&gt;conv1/MaxPool</title>\n",
       "<path fill=\"none\" stroke=\"black\" d=\"M144,-71.6966C144,-63.9827 144,-54.7125 144,-46.1124\"/>\n",
       "<polygon fill=\"black\" stroke=\"black\" points=\"147.5,-46.1043 144,-36.1043 140.5,-46.1044 147.5,-46.1043\"/>\n",
       "</g>\n",
       "</g>\n",
       "</svg>\n"
      ],
      "text/plain": [
       "<graphviz.dot.Digraph at 0x7f267d68e8d0>"
      ]
     },
     "execution_count": 26,
     "metadata": {},
     "output_type": "execute_result"
    }
   ],
   "source": [
    "tfdot()"
   ]
  },
  {
   "cell_type": "code",
   "execution_count": 27,
   "metadata": {
    "collapsed": true
   },
   "outputs": [],
   "source": [
    "# second layer\n",
    "with tf.name_scope('conv2'):\n",
    "    ## variables\n",
    "    W_conv2 = weight_variable([5,5,32,64])\n",
    "    b_conv2 = bias_variable([64])\n",
    "    ## build the layer\n",
    "    h_conv2 = tf.nn.relu(conv2d(h_pool1, W_conv2) + b_conv2)\n",
    "    h_pool2 = max_pool_2x2(h_conv2)"
   ]
  },
  {
   "cell_type": "code",
   "execution_count": 28,
   "metadata": {
    "collapsed": false
   },
   "outputs": [
    {
     "data": {
      "image/svg+xml": [
       "<?xml version=\"1.0\" encoding=\"UTF-8\" standalone=\"no\"?>\n",
       "<!DOCTYPE svg PUBLIC \"-//W3C//DTD SVG 1.1//EN\"\n",
       " \"http://www.w3.org/Graphics/SVG/1.1/DTD/svg11.dtd\">\n",
       "<!-- Generated by graphviz version 2.38.0 (20140413.2041)\n",
       " -->\n",
       "<!-- Title: %3 Pages: 1 -->\n",
       "<svg width=\"1425pt\" height=\"836pt\"\n",
       " viewBox=\"0.00 0.00 1424.59 836.00\" xmlns=\"http://www.w3.org/2000/svg\" xmlns:xlink=\"http://www.w3.org/1999/xlink\">\n",
       "<g id=\"graph0\" class=\"graph\" transform=\"scale(1 1) rotate(0) translate(4 832)\">\n",
       "<title>%3</title>\n",
       "<polygon fill=\"white\" stroke=\"none\" points=\"-4,4 -4,-832 1420.59,-832 1420.59,4 -4,4\"/>\n",
       "<!-- x -->\n",
       "<g id=\"node1\" class=\"node\"><title>x</title>\n",
       "<ellipse fill=\"#cff8be\" stroke=\"black\" cx=\"124.594\" cy=\"-666\" rx=\"27\" ry=\"18\"/>\n",
       "<text text-anchor=\"middle\" x=\"124.594\" y=\"-662.3\" font-family=\"Times,serif\" font-size=\"14.00\">x</text>\n",
       "</g>\n",
       "<!-- conv1/Reshape -->\n",
       "<g id=\"node15\" class=\"node\"><title>conv1/Reshape</title>\n",
       "<ellipse fill=\"#fdc1a1\" stroke=\"black\" cx=\"190.594\" cy=\"-594\" rx=\"64.189\" ry=\"18\"/>\n",
       "<text text-anchor=\"middle\" x=\"190.594\" y=\"-590.3\" font-family=\"Times,serif\" font-size=\"14.00\">conv1/Reshape</text>\n",
       "</g>\n",
       "<!-- x&#45;&gt;conv1/Reshape -->\n",
       "<g id=\"edge10\" class=\"edge\"><title>x&#45;&gt;conv1/Reshape</title>\n",
       "<path fill=\"none\" stroke=\"black\" d=\"M138.591,-650.155C147.034,-641.2 157.994,-629.576 167.674,-619.309\"/>\n",
       "<polygon fill=\"black\" stroke=\"black\" points=\"170.451,-621.466 174.764,-611.789 165.358,-616.664 170.451,-621.466\"/>\n",
       "</g>\n",
       "<!-- y_ -->\n",
       "<g id=\"node2\" class=\"node\"><title>y_</title>\n",
       "<ellipse fill=\"#cff8be\" stroke=\"black\" cx=\"1389.59\" cy=\"-810\" rx=\"27\" ry=\"18\"/>\n",
       "<text text-anchor=\"middle\" x=\"1389.59\" y=\"-806.3\" font-family=\"Times,serif\" font-size=\"14.00\">y_</text>\n",
       "</g>\n",
       "<!-- conv1/truncated_normal/shape -->\n",
       "<g id=\"node3\" class=\"node\"><title>conv1/truncated_normal/shape</title>\n",
       "<ellipse fill=\"yellow\" stroke=\"black\" cx=\"1224.59\" cy=\"-810\" rx=\"119.679\" ry=\"18\"/>\n",
       "<text text-anchor=\"middle\" x=\"1224.59\" y=\"-806.3\" font-family=\"Times,serif\" font-size=\"14.00\">conv1/truncated_normal/shape</text>\n",
       "</g>\n",
       "<!-- conv1/truncated_normal/TruncatedNormal -->\n",
       "<g id=\"node6\" class=\"node\"><title>conv1/truncated_normal/TruncatedNormal</title>\n",
       "<ellipse fill=\"#b4deb1\" stroke=\"black\" cx=\"1224.59\" cy=\"-738\" rx=\"162.471\" ry=\"18\"/>\n",
       "<text text-anchor=\"middle\" x=\"1224.59\" y=\"-734.3\" font-family=\"Times,serif\" font-size=\"14.00\">conv1/truncated_normal/TruncatedNormal</text>\n",
       "</g>\n",
       "<!-- conv1/truncated_normal/shape&#45;&gt;conv1/truncated_normal/TruncatedNormal -->\n",
       "<g id=\"edge1\" class=\"edge\"><title>conv1/truncated_normal/shape&#45;&gt;conv1/truncated_normal/TruncatedNormal</title>\n",
       "<path fill=\"none\" stroke=\"black\" d=\"M1224.59,-791.697C1224.59,-783.983 1224.59,-774.712 1224.59,-766.112\"/>\n",
       "<polygon fill=\"black\" stroke=\"black\" points=\"1228.09,-766.104 1224.59,-756.104 1221.09,-766.104 1228.09,-766.104\"/>\n",
       "</g>\n",
       "<!-- conv1/truncated_normal/mean -->\n",
       "<g id=\"node4\" class=\"node\"><title>conv1/truncated_normal/mean</title>\n",
       "<ellipse fill=\"yellow\" stroke=\"black\" cx=\"821.594\" cy=\"-666\" rx=\"118.879\" ry=\"18\"/>\n",
       "<text text-anchor=\"middle\" x=\"821.594\" y=\"-662.3\" font-family=\"Times,serif\" font-size=\"14.00\">conv1/truncated_normal/mean</text>\n",
       "</g>\n",
       "<!-- conv1/truncated_normal -->\n",
       "<g id=\"node8\" class=\"node\"><title>conv1/truncated_normal</title>\n",
       "<ellipse fill=\"#f8e6c2\" stroke=\"black\" cx=\"947.594\" cy=\"-594\" rx=\"96.6831\" ry=\"18\"/>\n",
       "<text text-anchor=\"middle\" x=\"947.594\" y=\"-590.3\" font-family=\"Times,serif\" font-size=\"14.00\">conv1/truncated_normal</text>\n",
       "</g>\n",
       "<!-- conv1/truncated_normal/mean&#45;&gt;conv1/truncated_normal -->\n",
       "<g id=\"edge5\" class=\"edge\"><title>conv1/truncated_normal/mean&#45;&gt;conv1/truncated_normal</title>\n",
       "<path fill=\"none\" stroke=\"black\" d=\"M851.454,-648.411C868.84,-638.752 890.933,-626.478 909.556,-616.132\"/>\n",
       "<polygon fill=\"black\" stroke=\"black\" points=\"911.341,-619.145 918.383,-611.228 907.941,-613.025 911.341,-619.145\"/>\n",
       "</g>\n",
       "<!-- conv1/truncated_normal/stddev -->\n",
       "<g id=\"node5\" class=\"node\"><title>conv1/truncated_normal/stddev</title>\n",
       "<ellipse fill=\"yellow\" stroke=\"black\" cx=\"921.594\" cy=\"-738\" rx=\"122.379\" ry=\"18\"/>\n",
       "<text text-anchor=\"middle\" x=\"921.594\" y=\"-734.3\" font-family=\"Times,serif\" font-size=\"14.00\">conv1/truncated_normal/stddev</text>\n",
       "</g>\n",
       "<!-- conv1/truncated_normal/mul -->\n",
       "<g id=\"node7\" class=\"node\"><title>conv1/truncated_normal/mul</title>\n",
       "<ellipse fill=\"#c7c1ab\" stroke=\"black\" cx=\"1072.59\" cy=\"-666\" rx=\"113.98\" ry=\"18\"/>\n",
       "<text text-anchor=\"middle\" x=\"1072.59\" y=\"-662.3\" font-family=\"Times,serif\" font-size=\"14.00\">conv1/truncated_normal/mul</text>\n",
       "</g>\n",
       "<!-- conv1/truncated_normal/stddev&#45;&gt;conv1/truncated_normal/mul -->\n",
       "<g id=\"edge3\" class=\"edge\"><title>conv1/truncated_normal/stddev&#45;&gt;conv1/truncated_normal/mul</title>\n",
       "<path fill=\"none\" stroke=\"black\" d=\"M956.997,-720.588C978.372,-710.679 1005.79,-697.97 1028.56,-687.415\"/>\n",
       "<polygon fill=\"black\" stroke=\"black\" points=\"1030.07,-690.569 1037.67,-683.188 1027.13,-684.219 1030.07,-690.569\"/>\n",
       "</g>\n",
       "<!-- conv1/truncated_normal/TruncatedNormal&#45;&gt;conv1/truncated_normal/mul -->\n",
       "<g id=\"edge2\" class=\"edge\"><title>conv1/truncated_normal/TruncatedNormal&#45;&gt;conv1/truncated_normal/mul</title>\n",
       "<path fill=\"none\" stroke=\"black\" d=\"M1188.57,-720.411C1167.12,-710.533 1139.73,-697.919 1116.96,-687.43\"/>\n",
       "<polygon fill=\"black\" stroke=\"black\" points=\"1118.38,-684.232 1107.83,-683.228 1115.45,-690.591 1118.38,-684.232\"/>\n",
       "</g>\n",
       "<!-- conv1/truncated_normal/mul&#45;&gt;conv1/truncated_normal -->\n",
       "<g id=\"edge4\" class=\"edge\"><title>conv1/truncated_normal/mul&#45;&gt;conv1/truncated_normal</title>\n",
       "<path fill=\"none\" stroke=\"black\" d=\"M1043.29,-648.588C1026.05,-638.934 1004.06,-626.622 985.512,-616.234\"/>\n",
       "<polygon fill=\"black\" stroke=\"black\" points=\"987.153,-613.141 976.717,-611.309 983.732,-619.249 987.153,-613.141\"/>\n",
       "</g>\n",
       "<!-- conv1/W/Assign -->\n",
       "<g id=\"node10\" class=\"node\"><title>conv1/W/Assign</title>\n",
       "<ellipse fill=\"#bbbbff\" stroke=\"black\" cx=\"947.594\" cy=\"-522\" rx=\"70.3881\" ry=\"18\"/>\n",
       "<text text-anchor=\"middle\" x=\"947.594\" y=\"-518.3\" font-family=\"Times,serif\" font-size=\"14.00\">conv1/W/Assign</text>\n",
       "</g>\n",
       "<!-- conv1/truncated_normal&#45;&gt;conv1/W/Assign -->\n",
       "<g id=\"edge7\" class=\"edge\"><title>conv1/truncated_normal&#45;&gt;conv1/W/Assign</title>\n",
       "<path fill=\"none\" stroke=\"black\" d=\"M947.594,-575.697C947.594,-567.983 947.594,-558.712 947.594,-550.112\"/>\n",
       "<polygon fill=\"black\" stroke=\"black\" points=\"951.094,-550.104 947.594,-540.104 944.094,-550.104 951.094,-550.104\"/>\n",
       "</g>\n",
       "<!-- conv1/W -->\n",
       "<g id=\"node9\" class=\"node\"><title>conv1/W</title>\n",
       "<ellipse fill=\"#ffbbbb\" stroke=\"black\" cx=\"491.594\" cy=\"-594\" rx=\"43.5923\" ry=\"18\"/>\n",
       "<text text-anchor=\"middle\" x=\"491.594\" y=\"-590.3\" font-family=\"Times,serif\" font-size=\"14.00\">conv1/W</text>\n",
       "</g>\n",
       "<!-- conv1/W&#45;&gt;conv1/W/Assign -->\n",
       "<g id=\"edge6\" class=\"edge\"><title>conv1/W&#45;&gt;conv1/W/Assign</title>\n",
       "<path fill=\"none\" stroke=\"black\" d=\"M533.03,-588.169C602.608,-579.836 747.227,-561.56 868.594,-540 874.434,-538.962 880.5,-537.804 886.558,-536.593\"/>\n",
       "<polygon fill=\"black\" stroke=\"black\" points=\"887.609,-539.95 896.705,-534.516 886.206,-533.092 887.609,-539.95\"/>\n",
       "</g>\n",
       "<!-- conv1/Conv2D -->\n",
       "<g id=\"node16\" class=\"node\"><title>conv1/Conv2D</title>\n",
       "<ellipse fill=\"#fed6b7\" stroke=\"black\" cx=\"190.594\" cy=\"-522\" rx=\"64.189\" ry=\"18\"/>\n",
       "<text text-anchor=\"middle\" x=\"190.594\" y=\"-518.3\" font-family=\"Times,serif\" font-size=\"14.00\">conv1/Conv2D</text>\n",
       "</g>\n",
       "<!-- conv1/W&#45;&gt;conv1/Conv2D -->\n",
       "<g id=\"edge13\" class=\"edge\"><title>conv1/W&#45;&gt;conv1/Conv2D</title>\n",
       "<path fill=\"none\" stroke=\"black\" d=\"M454.685,-584.417C403.159,-572.434 309.163,-550.574 248.325,-536.426\"/>\n",
       "<polygon fill=\"black\" stroke=\"black\" points=\"249.019,-532.994 238.486,-534.138 247.433,-539.812 249.019,-532.994\"/>\n",
       "</g>\n",
       "<!-- conv1/Const -->\n",
       "<g id=\"node11\" class=\"node\"><title>conv1/Const</title>\n",
       "<ellipse fill=\"yellow\" stroke=\"black\" cx=\"804.594\" cy=\"-522\" rx=\"55.4913\" ry=\"18\"/>\n",
       "<text text-anchor=\"middle\" x=\"804.594\" y=\"-518.3\" font-family=\"Times,serif\" font-size=\"14.00\">conv1/Const</text>\n",
       "</g>\n",
       "<!-- conv1/b/Assign -->\n",
       "<g id=\"node13\" class=\"node\"><title>conv1/b/Assign</title>\n",
       "<ellipse fill=\"#bbbbff\" stroke=\"black\" cx=\"804.594\" cy=\"-450\" rx=\"65.7887\" ry=\"18\"/>\n",
       "<text text-anchor=\"middle\" x=\"804.594\" y=\"-446.3\" font-family=\"Times,serif\" font-size=\"14.00\">conv1/b/Assign</text>\n",
       "</g>\n",
       "<!-- conv1/Const&#45;&gt;conv1/b/Assign -->\n",
       "<g id=\"edge9\" class=\"edge\"><title>conv1/Const&#45;&gt;conv1/b/Assign</title>\n",
       "<path fill=\"none\" stroke=\"black\" d=\"M804.594,-503.697C804.594,-495.983 804.594,-486.712 804.594,-478.112\"/>\n",
       "<polygon fill=\"black\" stroke=\"black\" points=\"808.094,-478.104 804.594,-468.104 801.094,-478.104 808.094,-478.104\"/>\n",
       "</g>\n",
       "<!-- conv1/b -->\n",
       "<g id=\"node12\" class=\"node\"><title>conv1/b</title>\n",
       "<ellipse fill=\"#ffbbbb\" stroke=\"black\" cx=\"692.594\" cy=\"-522\" rx=\"38.9931\" ry=\"18\"/>\n",
       "<text text-anchor=\"middle\" x=\"692.594\" y=\"-518.3\" font-family=\"Times,serif\" font-size=\"14.00\">conv1/b</text>\n",
       "</g>\n",
       "<!-- conv1/b&#45;&gt;conv1/b/Assign -->\n",
       "<g id=\"edge8\" class=\"edge\"><title>conv1/b&#45;&gt;conv1/b/Assign</title>\n",
       "<path fill=\"none\" stroke=\"black\" d=\"M714.722,-507.17C730.719,-497.172 752.624,-483.482 770.802,-472.12\"/>\n",
       "<polygon fill=\"black\" stroke=\"black\" points=\"772.76,-475.024 779.385,-466.756 769.05,-469.088 772.76,-475.024\"/>\n",
       "</g>\n",
       "<!-- conv1/add -->\n",
       "<g id=\"node17\" class=\"node\"><title>conv1/add</title>\n",
       "<ellipse fill=\"#f8e6c2\" stroke=\"black\" cx=\"67.594\" cy=\"-450\" rx=\"47.3916\" ry=\"18\"/>\n",
       "<text text-anchor=\"middle\" x=\"67.594\" y=\"-446.3\" font-family=\"Times,serif\" font-size=\"14.00\">conv1/add</text>\n",
       "</g>\n",
       "<!-- conv1/b&#45;&gt;conv1/add -->\n",
       "<g id=\"edge15\" class=\"edge\"><title>conv1/b&#45;&gt;conv1/add</title>\n",
       "<path fill=\"none\" stroke=\"black\" d=\"M664.275,-509.544C657.894,-507.365 651.086,-505.348 644.594,-504 417.769,-456.897 352.537,-509.357 124.594,-468 120.422,-467.243 116.121,-466.291 111.842,-465.227\"/>\n",
       "<polygon fill=\"black\" stroke=\"black\" points=\"112.527,-461.788 101.962,-462.578 110.714,-468.549 112.527,-461.788\"/>\n",
       "</g>\n",
       "<!-- conv1/Reshape/shape -->\n",
       "<g id=\"node14\" class=\"node\"><title>conv1/Reshape/shape</title>\n",
       "<ellipse fill=\"yellow\" stroke=\"black\" cx=\"256.594\" cy=\"-666\" rx=\"87.1846\" ry=\"18\"/>\n",
       "<text text-anchor=\"middle\" x=\"256.594\" y=\"-662.3\" font-family=\"Times,serif\" font-size=\"14.00\">conv1/Reshape/shape</text>\n",
       "</g>\n",
       "<!-- conv1/Reshape/shape&#45;&gt;conv1/Reshape -->\n",
       "<g id=\"edge11\" class=\"edge\"><title>conv1/Reshape/shape&#45;&gt;conv1/Reshape</title>\n",
       "<path fill=\"none\" stroke=\"black\" d=\"M240.617,-648.055C232.429,-639.371 222.316,-628.644 213.33,-619.114\"/>\n",
       "<polygon fill=\"black\" stroke=\"black\" points=\"215.83,-616.664 206.424,-611.789 210.737,-621.466 215.83,-616.664\"/>\n",
       "</g>\n",
       "<!-- conv1/Reshape&#45;&gt;conv1/Conv2D -->\n",
       "<g id=\"edge12\" class=\"edge\"><title>conv1/Reshape&#45;&gt;conv1/Conv2D</title>\n",
       "<path fill=\"none\" stroke=\"black\" d=\"M190.594,-575.697C190.594,-567.983 190.594,-558.712 190.594,-550.112\"/>\n",
       "<polygon fill=\"black\" stroke=\"black\" points=\"194.094,-550.104 190.594,-540.104 187.094,-550.104 194.094,-550.104\"/>\n",
       "</g>\n",
       "<!-- conv1/Conv2D&#45;&gt;conv1/add -->\n",
       "<g id=\"edge14\" class=\"edge\"><title>conv1/Conv2D&#45;&gt;conv1/add</title>\n",
       "<path fill=\"none\" stroke=\"black\" d=\"M163.601,-505.638C145.409,-495.285 121.26,-481.542 101.733,-470.429\"/>\n",
       "<polygon fill=\"black\" stroke=\"black\" points=\"103.268,-467.275 92.8456,-465.371 99.8056,-473.359 103.268,-467.275\"/>\n",
       "</g>\n",
       "<!-- conv1/Relu -->\n",
       "<g id=\"node18\" class=\"node\"><title>conv1/Relu</title>\n",
       "<ellipse fill=\"#f1cb9d\" stroke=\"black\" cx=\"67.594\" cy=\"-378\" rx=\"51.1914\" ry=\"18\"/>\n",
       "<text text-anchor=\"middle\" x=\"67.594\" y=\"-374.3\" font-family=\"Times,serif\" font-size=\"14.00\">conv1/Relu</text>\n",
       "</g>\n",
       "<!-- conv1/add&#45;&gt;conv1/Relu -->\n",
       "<g id=\"edge16\" class=\"edge\"><title>conv1/add&#45;&gt;conv1/Relu</title>\n",
       "<path fill=\"none\" stroke=\"black\" d=\"M67.594,-431.697C67.594,-423.983 67.594,-414.712 67.594,-406.112\"/>\n",
       "<polygon fill=\"black\" stroke=\"black\" points=\"71.0941,-406.104 67.594,-396.104 64.0941,-406.104 71.0941,-406.104\"/>\n",
       "</g>\n",
       "<!-- conv1/MaxPool -->\n",
       "<g id=\"node19\" class=\"node\"><title>conv1/MaxPool</title>\n",
       "<ellipse fill=\"#e8fec9\" stroke=\"black\" cx=\"67.594\" cy=\"-306\" rx=\"67.6881\" ry=\"18\"/>\n",
       "<text text-anchor=\"middle\" x=\"67.594\" y=\"-302.3\" font-family=\"Times,serif\" font-size=\"14.00\">conv1/MaxPool</text>\n",
       "</g>\n",
       "<!-- conv1/Relu&#45;&gt;conv1/MaxPool -->\n",
       "<g id=\"edge17\" class=\"edge\"><title>conv1/Relu&#45;&gt;conv1/MaxPool</title>\n",
       "<path fill=\"none\" stroke=\"black\" d=\"M67.594,-359.697C67.594,-351.983 67.594,-342.712 67.594,-334.112\"/>\n",
       "<polygon fill=\"black\" stroke=\"black\" points=\"71.0941,-334.104 67.594,-324.104 64.0941,-334.104 71.0941,-334.104\"/>\n",
       "</g>\n",
       "<!-- conv2/Conv2D -->\n",
       "<g id=\"node31\" class=\"node\"><title>conv2/Conv2D</title>\n",
       "<ellipse fill=\"#fed6b7\" stroke=\"black\" cx=\"67.594\" cy=\"-234\" rx=\"64.189\" ry=\"18\"/>\n",
       "<text text-anchor=\"middle\" x=\"67.594\" y=\"-230.3\" font-family=\"Times,serif\" font-size=\"14.00\">conv2/Conv2D</text>\n",
       "</g>\n",
       "<!-- conv1/MaxPool&#45;&gt;conv2/Conv2D -->\n",
       "<g id=\"edge27\" class=\"edge\"><title>conv1/MaxPool&#45;&gt;conv2/Conv2D</title>\n",
       "<path fill=\"none\" stroke=\"black\" d=\"M67.594,-287.697C67.594,-279.983 67.594,-270.712 67.594,-262.112\"/>\n",
       "<polygon fill=\"black\" stroke=\"black\" points=\"71.0941,-262.104 67.594,-252.104 64.0941,-262.104 71.0941,-262.104\"/>\n",
       "</g>\n",
       "<!-- conv2/truncated_normal/shape -->\n",
       "<g id=\"node20\" class=\"node\"><title>conv2/truncated_normal/shape</title>\n",
       "<ellipse fill=\"yellow\" stroke=\"black\" cx=\"515.594\" cy=\"-522\" rx=\"119.679\" ry=\"18\"/>\n",
       "<text text-anchor=\"middle\" x=\"515.594\" y=\"-518.3\" font-family=\"Times,serif\" font-size=\"14.00\">conv2/truncated_normal/shape</text>\n",
       "</g>\n",
       "<!-- conv2/truncated_normal/TruncatedNormal -->\n",
       "<g id=\"node23\" class=\"node\"><title>conv2/truncated_normal/TruncatedNormal</title>\n",
       "<ellipse fill=\"#b4deb1\" stroke=\"black\" cx=\"558.594\" cy=\"-450\" rx=\"162.471\" ry=\"18\"/>\n",
       "<text text-anchor=\"middle\" x=\"558.594\" y=\"-446.3\" font-family=\"Times,serif\" font-size=\"14.00\">conv2/truncated_normal/TruncatedNormal</text>\n",
       "</g>\n",
       "<!-- conv2/truncated_normal/shape&#45;&gt;conv2/truncated_normal/TruncatedNormal -->\n",
       "<g id=\"edge18\" class=\"edge\"><title>conv2/truncated_normal/shape&#45;&gt;conv2/truncated_normal/TruncatedNormal</title>\n",
       "<path fill=\"none\" stroke=\"black\" d=\"M526.003,-504.055C530.999,-495.922 537.095,-485.998 542.658,-476.943\"/>\n",
       "<polygon fill=\"black\" stroke=\"black\" points=\"545.73,-478.628 547.982,-468.275 539.766,-474.964 545.73,-478.628\"/>\n",
       "</g>\n",
       "<!-- conv2/truncated_normal/mean -->\n",
       "<g id=\"node21\" class=\"node\"><title>conv2/truncated_normal/mean</title>\n",
       "<ellipse fill=\"yellow\" stroke=\"black\" cx=\"600.594\" cy=\"-378\" rx=\"118.879\" ry=\"18\"/>\n",
       "<text text-anchor=\"middle\" x=\"600.594\" y=\"-374.3\" font-family=\"Times,serif\" font-size=\"14.00\">conv2/truncated_normal/mean</text>\n",
       "</g>\n",
       "<!-- conv2/truncated_normal -->\n",
       "<g id=\"node25\" class=\"node\"><title>conv2/truncated_normal</title>\n",
       "<ellipse fill=\"#f8e6c2\" stroke=\"black\" cx=\"443.594\" cy=\"-306\" rx=\"96.6831\" ry=\"18\"/>\n",
       "<text text-anchor=\"middle\" x=\"443.594\" y=\"-302.3\" font-family=\"Times,serif\" font-size=\"14.00\">conv2/truncated_normal</text>\n",
       "</g>\n",
       "<!-- conv2/truncated_normal/mean&#45;&gt;conv2/truncated_normal -->\n",
       "<g id=\"edge22\" class=\"edge\"><title>conv2/truncated_normal/mean&#45;&gt;conv2/truncated_normal</title>\n",
       "<path fill=\"none\" stroke=\"black\" d=\"M564.18,-360.765C541.549,-350.674 512.292,-337.63 488.264,-326.916\"/>\n",
       "<polygon fill=\"black\" stroke=\"black\" points=\"489.558,-323.661 478.999,-322.786 486.707,-330.055 489.558,-323.661\"/>\n",
       "</g>\n",
       "<!-- conv2/truncated_normal/stddev -->\n",
       "<g id=\"node22\" class=\"node\"><title>conv2/truncated_normal/stddev</title>\n",
       "<ellipse fill=\"yellow\" stroke=\"black\" cx=\"255.594\" cy=\"-450\" rx=\"122.379\" ry=\"18\"/>\n",
       "<text text-anchor=\"middle\" x=\"255.594\" y=\"-446.3\" font-family=\"Times,serif\" font-size=\"14.00\">conv2/truncated_normal/stddev</text>\n",
       "</g>\n",
       "<!-- conv2/truncated_normal/mul -->\n",
       "<g id=\"node24\" class=\"node\"><title>conv2/truncated_normal/mul</title>\n",
       "<ellipse fill=\"#c7c1ab\" stroke=\"black\" cx=\"349.594\" cy=\"-378\" rx=\"113.98\" ry=\"18\"/>\n",
       "<text text-anchor=\"middle\" x=\"349.594\" y=\"-374.3\" font-family=\"Times,serif\" font-size=\"14.00\">conv2/truncated_normal/mul</text>\n",
       "</g>\n",
       "<!-- conv2/truncated_normal/stddev&#45;&gt;conv2/truncated_normal/mul -->\n",
       "<g id=\"edge20\" class=\"edge\"><title>conv2/truncated_normal/stddev&#45;&gt;conv2/truncated_normal/mul</title>\n",
       "<path fill=\"none\" stroke=\"black\" d=\"M278.349,-432.055C290.472,-423.027 305.56,-411.792 318.725,-401.987\"/>\n",
       "<polygon fill=\"black\" stroke=\"black\" points=\"321.119,-404.569 327.049,-395.789 316.938,-398.955 321.119,-404.569\"/>\n",
       "</g>\n",
       "<!-- conv2/truncated_normal/TruncatedNormal&#45;&gt;conv2/truncated_normal/mul -->\n",
       "<g id=\"edge19\" class=\"edge\"><title>conv2/truncated_normal/TruncatedNormal&#45;&gt;conv2/truncated_normal/mul</title>\n",
       "<path fill=\"none\" stroke=\"black\" d=\"M510.12,-432.765C478.974,-422.333 438.402,-408.744 405.839,-397.838\"/>\n",
       "<polygon fill=\"black\" stroke=\"black\" points=\"406.604,-394.403 396.01,-394.546 404.381,-401.041 406.604,-394.403\"/>\n",
       "</g>\n",
       "<!-- conv2/truncated_normal/mul&#45;&gt;conv2/truncated_normal -->\n",
       "<g id=\"edge21\" class=\"edge\"><title>conv2/truncated_normal/mul&#45;&gt;conv2/truncated_normal</title>\n",
       "<path fill=\"none\" stroke=\"black\" d=\"M372.349,-360.055C384.561,-350.96 399.782,-339.626 413.015,-329.771\"/>\n",
       "<polygon fill=\"black\" stroke=\"black\" points=\"415.443,-332.327 421.373,-323.547 411.262,-326.713 415.443,-332.327\"/>\n",
       "</g>\n",
       "<!-- conv2/W/Assign -->\n",
       "<g id=\"node27\" class=\"node\"><title>conv2/W/Assign</title>\n",
       "<ellipse fill=\"#bbbbff\" stroke=\"black\" cx=\"443.594\" cy=\"-234\" rx=\"70.3881\" ry=\"18\"/>\n",
       "<text text-anchor=\"middle\" x=\"443.594\" y=\"-230.3\" font-family=\"Times,serif\" font-size=\"14.00\">conv2/W/Assign</text>\n",
       "</g>\n",
       "<!-- conv2/truncated_normal&#45;&gt;conv2/W/Assign -->\n",
       "<g id=\"edge24\" class=\"edge\"><title>conv2/truncated_normal&#45;&gt;conv2/W/Assign</title>\n",
       "<path fill=\"none\" stroke=\"black\" d=\"M443.594,-287.697C443.594,-279.983 443.594,-270.712 443.594,-262.112\"/>\n",
       "<polygon fill=\"black\" stroke=\"black\" points=\"447.094,-262.104 443.594,-252.104 440.094,-262.104 447.094,-262.104\"/>\n",
       "</g>\n",
       "<!-- conv2/W -->\n",
       "<g id=\"node26\" class=\"node\"><title>conv2/W</title>\n",
       "<ellipse fill=\"#ffbbbb\" stroke=\"black\" cx=\"241.594\" cy=\"-306\" rx=\"43.5923\" ry=\"18\"/>\n",
       "<text text-anchor=\"middle\" x=\"241.594\" y=\"-302.3\" font-family=\"Times,serif\" font-size=\"14.00\">conv2/W</text>\n",
       "</g>\n",
       "<!-- conv2/W&#45;&gt;conv2/W/Assign -->\n",
       "<g id=\"edge23\" class=\"edge\"><title>conv2/W&#45;&gt;conv2/W/Assign</title>\n",
       "<path fill=\"none\" stroke=\"black\" d=\"M274.049,-293.753C306.4,-282.543 356.515,-265.176 393.882,-252.227\"/>\n",
       "<polygon fill=\"black\" stroke=\"black\" points=\"395.269,-255.45 403.572,-248.869 392.977,-248.836 395.269,-255.45\"/>\n",
       "</g>\n",
       "<!-- conv2/W&#45;&gt;conv2/Conv2D -->\n",
       "<g id=\"edge28\" class=\"edge\"><title>conv2/W&#45;&gt;conv2/Conv2D</title>\n",
       "<path fill=\"none\" stroke=\"black\" d=\"M211.286,-292.807C183.843,-281.767 143.072,-265.365 111.961,-252.849\"/>\n",
       "<polygon fill=\"black\" stroke=\"black\" points=\"113.226,-249.585 102.642,-249.1 110.613,-256.079 113.226,-249.585\"/>\n",
       "</g>\n",
       "<!-- conv2/Const -->\n",
       "<g id=\"node28\" class=\"node\"><title>conv2/Const</title>\n",
       "<ellipse fill=\"yellow\" stroke=\"black\" cx=\"300.594\" cy=\"-234\" rx=\"55.4913\" ry=\"18\"/>\n",
       "<text text-anchor=\"middle\" x=\"300.594\" y=\"-230.3\" font-family=\"Times,serif\" font-size=\"14.00\">conv2/Const</text>\n",
       "</g>\n",
       "<!-- conv2/b/Assign -->\n",
       "<g id=\"node30\" class=\"node\"><title>conv2/b/Assign</title>\n",
       "<ellipse fill=\"#bbbbff\" stroke=\"black\" cx=\"274.594\" cy=\"-162\" rx=\"65.7887\" ry=\"18\"/>\n",
       "<text text-anchor=\"middle\" x=\"274.594\" y=\"-158.3\" font-family=\"Times,serif\" font-size=\"14.00\">conv2/b/Assign</text>\n",
       "</g>\n",
       "<!-- conv2/Const&#45;&gt;conv2/b/Assign -->\n",
       "<g id=\"edge26\" class=\"edge\"><title>conv2/Const&#45;&gt;conv2/b/Assign</title>\n",
       "<path fill=\"none\" stroke=\"black\" d=\"M294.3,-216.055C291.374,-208.176 287.823,-198.617 284.546,-189.794\"/>\n",
       "<polygon fill=\"black\" stroke=\"black\" points=\"287.773,-188.431 281.011,-180.275 281.211,-190.868 287.773,-188.431\"/>\n",
       "</g>\n",
       "<!-- conv2/b -->\n",
       "<g id=\"node29\" class=\"node\"><title>conv2/b</title>\n",
       "<ellipse fill=\"#ffbbbb\" stroke=\"black\" cx=\"188.594\" cy=\"-234\" rx=\"38.9931\" ry=\"18\"/>\n",
       "<text text-anchor=\"middle\" x=\"188.594\" y=\"-230.3\" font-family=\"Times,serif\" font-size=\"14.00\">conv2/b</text>\n",
       "</g>\n",
       "<!-- conv2/b&#45;&gt;conv2/b/Assign -->\n",
       "<g id=\"edge25\" class=\"edge\"><title>conv2/b&#45;&gt;conv2/b/Assign</title>\n",
       "<path fill=\"none\" stroke=\"black\" d=\"M207.255,-217.811C218.683,-208.509 233.53,-196.424 246.375,-185.969\"/>\n",
       "<polygon fill=\"black\" stroke=\"black\" points=\"248.924,-188.407 254.47,-179.38 244.505,-182.978 248.924,-188.407\"/>\n",
       "</g>\n",
       "<!-- conv2/add -->\n",
       "<g id=\"node32\" class=\"node\"><title>conv2/add</title>\n",
       "<ellipse fill=\"#f8e6c2\" stroke=\"black\" cx=\"118.594\" cy=\"-162\" rx=\"47.3916\" ry=\"18\"/>\n",
       "<text text-anchor=\"middle\" x=\"118.594\" y=\"-158.3\" font-family=\"Times,serif\" font-size=\"14.00\">conv2/add</text>\n",
       "</g>\n",
       "<!-- conv2/b&#45;&gt;conv2/add -->\n",
       "<g id=\"edge30\" class=\"edge\"><title>conv2/b&#45;&gt;conv2/add</title>\n",
       "<path fill=\"none\" stroke=\"black\" d=\"M173.059,-217.465C163.854,-208.26 152.015,-196.421 141.728,-186.134\"/>\n",
       "<polygon fill=\"black\" stroke=\"black\" points=\"144.117,-183.573 134.571,-178.977 139.167,-188.523 144.117,-183.573\"/>\n",
       "</g>\n",
       "<!-- conv2/Conv2D&#45;&gt;conv2/add -->\n",
       "<g id=\"edge29\" class=\"edge\"><title>conv2/Conv2D&#45;&gt;conv2/add</title>\n",
       "<path fill=\"none\" stroke=\"black\" d=\"M79.9397,-216.055C86.0788,-207.629 93.6187,-197.28 100.404,-187.966\"/>\n",
       "<polygon fill=\"black\" stroke=\"black\" points=\"103.302,-189.932 106.362,-179.789 97.6446,-185.81 103.302,-189.932\"/>\n",
       "</g>\n",
       "<!-- conv2/Relu -->\n",
       "<g id=\"node33\" class=\"node\"><title>conv2/Relu</title>\n",
       "<ellipse fill=\"#f1cb9d\" stroke=\"black\" cx=\"118.594\" cy=\"-90\" rx=\"51.1914\" ry=\"18\"/>\n",
       "<text text-anchor=\"middle\" x=\"118.594\" y=\"-86.3\" font-family=\"Times,serif\" font-size=\"14.00\">conv2/Relu</text>\n",
       "</g>\n",
       "<!-- conv2/add&#45;&gt;conv2/Relu -->\n",
       "<g id=\"edge31\" class=\"edge\"><title>conv2/add&#45;&gt;conv2/Relu</title>\n",
       "<path fill=\"none\" stroke=\"black\" d=\"M118.594,-143.697C118.594,-135.983 118.594,-126.712 118.594,-118.112\"/>\n",
       "<polygon fill=\"black\" stroke=\"black\" points=\"122.094,-118.104 118.594,-108.104 115.094,-118.104 122.094,-118.104\"/>\n",
       "</g>\n",
       "<!-- conv2/MaxPool -->\n",
       "<g id=\"node34\" class=\"node\"><title>conv2/MaxPool</title>\n",
       "<ellipse fill=\"#e8fec9\" stroke=\"black\" cx=\"118.594\" cy=\"-18\" rx=\"67.6881\" ry=\"18\"/>\n",
       "<text text-anchor=\"middle\" x=\"118.594\" y=\"-14.3\" font-family=\"Times,serif\" font-size=\"14.00\">conv2/MaxPool</text>\n",
       "</g>\n",
       "<!-- conv2/Relu&#45;&gt;conv2/MaxPool -->\n",
       "<g id=\"edge32\" class=\"edge\"><title>conv2/Relu&#45;&gt;conv2/MaxPool</title>\n",
       "<path fill=\"none\" stroke=\"black\" d=\"M118.594,-71.6966C118.594,-63.9827 118.594,-54.7125 118.594,-46.1124\"/>\n",
       "<polygon fill=\"black\" stroke=\"black\" points=\"122.094,-46.1043 118.594,-36.1043 115.094,-46.1044 122.094,-46.1043\"/>\n",
       "</g>\n",
       "</g>\n",
       "</svg>\n"
      ],
      "text/plain": [
       "<graphviz.dot.Digraph at 0x7f267c060fd0>"
      ]
     },
     "execution_count": 28,
     "metadata": {},
     "output_type": "execute_result"
    }
   ],
   "source": [
    "tfdot()"
   ]
  },
  {
   "cell_type": "code",
   "execution_count": 29,
   "metadata": {
    "collapsed": false
   },
   "outputs": [],
   "source": [
    "# fully-connected layer\n",
    "with tf.name_scope('full'):\n",
    "    W_fc1 = weight_variable([7*7*64, 1024])\n",
    "    b_fc1 = bias_variable([1024])\n",
    "    h_pool2_flat = tf.reshape(h_pool2, [-1, 7*7*64])\n",
    "    h_fc1 = tf.nn.relu(tf.matmul(h_pool2_flat, W_fc1)+b_fc1)"
   ]
  },
  {
   "cell_type": "code",
   "execution_count": null,
   "metadata": {
    "collapsed": true
   },
   "outputs": [],
   "source": [
    "# Dropout:  A Simple Way to Prevent Neural Networks from Over fitting\n",
    "# https://www.cs.toronto.edu/~hinton/absps/JMLRdropout.pdf\n",
    "with tf.name_scope('dropout'):\n",
    "    keep_prob = tf.placeholder(\"float\")\n",
    "    h_fc1_drop = tf.nn.dropout(h_fc1, keep_prob)"
   ]
  },
  {
   "cell_type": "code",
   "execution_count": null,
   "metadata": {
    "collapsed": true
   },
   "outputs": [],
   "source": [
    "# Readout\n",
    "with tf.name_scope('readout'):\n",
    "    W_fc2 = weight_variable([1024,10])\n",
    "    b_fc2 = bias_variable([10])\n",
    "    y_conv = tf.nn.softmax(tf.matmul(h_fc1_drop, W_fc2)+b_fc2)"
   ]
  },
  {
   "cell_type": "code",
   "execution_count": null,
   "metadata": {
    "collapsed": false
   },
   "outputs": [],
   "source": [
    "cross_entropy = - tf.reduce_sum(y_*tf.log(y_conv))\n",
    "train_step = tf.train.AdamOptimizer(1e-4).minimize(cross_entropy)\n",
    "prediction = tf.argmax(y_conv, 1)\n",
    "correct_prediction = tf.equal(prediction, tf.argmax(y_, 1))\n",
    "accuracy = tf.reduce_mean(tf.cast(correct_prediction, \"float\"))"
   ]
  },
  {
   "cell_type": "code",
   "execution_count": null,
   "metadata": {
    "collapsed": true
   },
   "outputs": [],
   "source": [
    "%%timeit -r 1 -n 1\n",
    "tf.initialize_all_variables().run()\n",
    "for i in range(20000):\n",
    "    batch = mnist.train.next_batch(50)\n",
    "    if i%100 == 0:\n",
    "        train_accuracy = accuracy.eval(feed_dict = {\n",
    "                x: batch[0], y_: batch[1], keep_prob: 1.0 })\n",
    "        print(\"step %d, training accuracy %g\"%(i, train_accuracy))\n",
    "    train_step.run(feed_dict= {x: batch[0], y_: batch[1], keep_prob: 0.5 })\n",
    "for i in range(0, mnist.test.num_examples, 1000):\n",
    "    print(\"test accuracy %g\"%accuracy.eval(feed_dict={x: mnist.test.images[i:i+1000], \n",
    "                                                  y_: mnist.test.labels[i:i+1000],\n",
    "                                                  keep_prob: 1.0}))"
   ]
  },
  {
   "cell_type": "code",
   "execution_count": null,
   "metadata": {
    "collapsed": true
   },
   "outputs": [],
   "source": [
    "np.mean([accuracy.eval(feed_dict={x: mnist.test.images[i:i+1000], \n",
    "                                   y_: mnist.test.labels[i:i+1000],\n",
    "                                   keep_prob: 1.0}) \n",
    "        for i in range(0, mnist.test.num_examples, 1000)]\n",
    ")"
   ]
  },
  {
   "cell_type": "code",
   "execution_count": null,
   "metadata": {
    "collapsed": true
   },
   "outputs": [],
   "source": [
    "tf.scalar_summary(accuracy.op.name, accuracy)\n",
    "summary_op = tf.merge_all_summaries()\n",
    "summary_writer = tf.train.SummaryWriter(\"log1\", graph_def=sess.graph_def)"
   ]
  },
  {
   "cell_type": "code",
   "execution_count": null,
   "metadata": {
    "collapsed": false
   },
   "outputs": [],
   "source": [
    "%%timeit -r 1 -n 1\n",
    "tf.initialize_all_variables().run()\n",
    "for i in range(20000):\n",
    "    batch = mnist.train.next_batch(50)\n",
    "    if i%100 == 0:\n",
    "        train_accuracy = accuracy.eval(feed_dict = {\n",
    "                x: batch[0], y_: batch[1], keep_prob: 1.0 })\n",
    "        print(\"step %d, training accuracy %g\"%(i, train_accuracy))\n",
    "        summary_str = sess.run(summary_op, feed_dict={x: batch[0], y_: batch[1], keep_prob: 1.0 })\n",
    "        summary_writer.add_summary(summary_str, i)\n",
    "    train_step.run(feed_dict= {x: batch[0], y_: batch[1], keep_prob: 0.5 })\n",
    "for i in range(0, mnist.test.num_examples, 1000):\n",
    "    print(\"test accuracy %g\"%accuracy.eval(feed_dict={x: mnist.test.images[i:i+1000], \n",
    "                                                  y_: mnist.test.labels[i:i+1000],\n",
    "                                                  keep_prob: 1.0}))"
   ]
  },
  {
   "cell_type": "code",
   "execution_count": null,
   "metadata": {
    "collapsed": false
   },
   "outputs": [],
   "source": [
    "np.mean([accuracy.eval(feed_dict={x: mnist.test.images[i:i+1000], \n",
    "                                   y_: mnist.test.labels[i:i+1000],\n",
    "                                   keep_prob: 1.0}) \n",
    "        for i in range(0, mnist.test.num_examples, 1000)]\n",
    ")"
   ]
  }
 ],
 "metadata": {
  "kernelspec": {
   "display_name": "Python 2",
   "language": "python",
   "name": "python2"
  },
  "language_info": {
   "codemirror_mode": {
    "name": "ipython",
    "version": 2
   },
   "file_extension": ".py",
   "mimetype": "text/x-python",
   "name": "python",
   "nbconvert_exporter": "python",
   "pygments_lexer": "ipython2",
   "version": "2.7.9"
  }
 },
 "nbformat": 4,
 "nbformat_minor": 0
}
